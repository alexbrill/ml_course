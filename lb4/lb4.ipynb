{
 "cells": [
  {
   "cell_type": "markdown",
   "metadata": {
    "collapsed": true,
    "pycharm": {
     "name": "#%% md\n"
    }
   },
   "source": [
    "# LB4"
   ]
  },
  {
   "cell_type": "code",
   "execution_count": 1,
   "outputs": [],
   "source": [
    "import pandas as pd\n",
    "from mlxtend.preprocessing import TransactionEncoder"
   ],
   "metadata": {
    "collapsed": false,
    "pycharm": {
     "name": "#%%\n"
    }
   }
  },
  {
   "cell_type": "markdown",
   "source": [
    "## PART 1"
   ],
   "metadata": {
    "collapsed": false,
    "pycharm": {
     "name": "#%% md\n"
    }
   }
  },
  {
   "cell_type": "code",
   "execution_count": 2,
   "outputs": [
    {
     "data": {
      "text/plain": "   Item(s)            Item 1               Item 2          Item 3  \\\n0        4      citrus fruit  semi-finished bread       margarine   \n1        3    tropical fruit               yogurt          coffee   \n2        1        whole milk                  NaN             NaN   \n3        4         pip fruit               yogurt    cream cheese   \n4        4  other vegetables           whole milk  condensed milk   \n\n                     Item 4 Item 5 Item 6 Item 7 Item 8 Item 9  ... Item 23  \\\n0               ready soups    NaN    NaN    NaN    NaN    NaN  ...     NaN   \n1                       NaN    NaN    NaN    NaN    NaN    NaN  ...     NaN   \n2                       NaN    NaN    NaN    NaN    NaN    NaN  ...     NaN   \n3              meat spreads    NaN    NaN    NaN    NaN    NaN  ...     NaN   \n4  long life bakery product    NaN    NaN    NaN    NaN    NaN  ...     NaN   \n\n  Item 24 Item 25 Item 26 Item 27 Item 28 Item 29 Item 30 Item 31 Item 32  \n0     NaN     NaN     NaN     NaN     NaN     NaN     NaN     NaN     NaN  \n1     NaN     NaN     NaN     NaN     NaN     NaN     NaN     NaN     NaN  \n2     NaN     NaN     NaN     NaN     NaN     NaN     NaN     NaN     NaN  \n3     NaN     NaN     NaN     NaN     NaN     NaN     NaN     NaN     NaN  \n4     NaN     NaN     NaN     NaN     NaN     NaN     NaN     NaN     NaN  \n\n[5 rows x 33 columns]",
      "text/html": "<div>\n<style scoped>\n    .dataframe tbody tr th:only-of-type {\n        vertical-align: middle;\n    }\n\n    .dataframe tbody tr th {\n        vertical-align: top;\n    }\n\n    .dataframe thead th {\n        text-align: right;\n    }\n</style>\n<table border=\"1\" class=\"dataframe\">\n  <thead>\n    <tr style=\"text-align: right;\">\n      <th></th>\n      <th>Item(s)</th>\n      <th>Item 1</th>\n      <th>Item 2</th>\n      <th>Item 3</th>\n      <th>Item 4</th>\n      <th>Item 5</th>\n      <th>Item 6</th>\n      <th>Item 7</th>\n      <th>Item 8</th>\n      <th>Item 9</th>\n      <th>...</th>\n      <th>Item 23</th>\n      <th>Item 24</th>\n      <th>Item 25</th>\n      <th>Item 26</th>\n      <th>Item 27</th>\n      <th>Item 28</th>\n      <th>Item 29</th>\n      <th>Item 30</th>\n      <th>Item 31</th>\n      <th>Item 32</th>\n    </tr>\n  </thead>\n  <tbody>\n    <tr>\n      <th>0</th>\n      <td>4</td>\n      <td>citrus fruit</td>\n      <td>semi-finished bread</td>\n      <td>margarine</td>\n      <td>ready soups</td>\n      <td>NaN</td>\n      <td>NaN</td>\n      <td>NaN</td>\n      <td>NaN</td>\n      <td>NaN</td>\n      <td>...</td>\n      <td>NaN</td>\n      <td>NaN</td>\n      <td>NaN</td>\n      <td>NaN</td>\n      <td>NaN</td>\n      <td>NaN</td>\n      <td>NaN</td>\n      <td>NaN</td>\n      <td>NaN</td>\n      <td>NaN</td>\n    </tr>\n    <tr>\n      <th>1</th>\n      <td>3</td>\n      <td>tropical fruit</td>\n      <td>yogurt</td>\n      <td>coffee</td>\n      <td>NaN</td>\n      <td>NaN</td>\n      <td>NaN</td>\n      <td>NaN</td>\n      <td>NaN</td>\n      <td>NaN</td>\n      <td>...</td>\n      <td>NaN</td>\n      <td>NaN</td>\n      <td>NaN</td>\n      <td>NaN</td>\n      <td>NaN</td>\n      <td>NaN</td>\n      <td>NaN</td>\n      <td>NaN</td>\n      <td>NaN</td>\n      <td>NaN</td>\n    </tr>\n    <tr>\n      <th>2</th>\n      <td>1</td>\n      <td>whole milk</td>\n      <td>NaN</td>\n      <td>NaN</td>\n      <td>NaN</td>\n      <td>NaN</td>\n      <td>NaN</td>\n      <td>NaN</td>\n      <td>NaN</td>\n      <td>NaN</td>\n      <td>...</td>\n      <td>NaN</td>\n      <td>NaN</td>\n      <td>NaN</td>\n      <td>NaN</td>\n      <td>NaN</td>\n      <td>NaN</td>\n      <td>NaN</td>\n      <td>NaN</td>\n      <td>NaN</td>\n      <td>NaN</td>\n    </tr>\n    <tr>\n      <th>3</th>\n      <td>4</td>\n      <td>pip fruit</td>\n      <td>yogurt</td>\n      <td>cream cheese</td>\n      <td>meat spreads</td>\n      <td>NaN</td>\n      <td>NaN</td>\n      <td>NaN</td>\n      <td>NaN</td>\n      <td>NaN</td>\n      <td>...</td>\n      <td>NaN</td>\n      <td>NaN</td>\n      <td>NaN</td>\n      <td>NaN</td>\n      <td>NaN</td>\n      <td>NaN</td>\n      <td>NaN</td>\n      <td>NaN</td>\n      <td>NaN</td>\n      <td>NaN</td>\n    </tr>\n    <tr>\n      <th>4</th>\n      <td>4</td>\n      <td>other vegetables</td>\n      <td>whole milk</td>\n      <td>condensed milk</td>\n      <td>long life bakery product</td>\n      <td>NaN</td>\n      <td>NaN</td>\n      <td>NaN</td>\n      <td>NaN</td>\n      <td>NaN</td>\n      <td>...</td>\n      <td>NaN</td>\n      <td>NaN</td>\n      <td>NaN</td>\n      <td>NaN</td>\n      <td>NaN</td>\n      <td>NaN</td>\n      <td>NaN</td>\n      <td>NaN</td>\n      <td>NaN</td>\n      <td>NaN</td>\n    </tr>\n  </tbody>\n</table>\n<p>5 rows × 33 columns</p>\n</div>"
     },
     "execution_count": 2,
     "metadata": {},
     "output_type": "execute_result"
    }
   ],
   "source": [
    "all_data = pd.read_csv(\"data/groceries - groceries.csv\")\n",
    "all_data.head()"
   ],
   "metadata": {
    "collapsed": false,
    "pycharm": {
     "name": "#%%\n"
    }
   }
  },
  {
   "cell_type": "code",
   "execution_count": 3,
   "outputs": [],
   "source": [
    "np_data = all_data.to_numpy()\n",
    "np_data = [[elem for elem in row[1:] if isinstance(elem,str)] for row in np_data]"
   ],
   "metadata": {
    "collapsed": false,
    "pycharm": {
     "name": "#%%\n"
    }
   }
  },
  {
   "cell_type": "code",
   "execution_count": 4,
   "outputs": [],
   "source": [
    "unique_items = set()\n",
    "for row in np_data:\n",
    "    for elem in row:\n",
    "        unique_items.add(elem)"
   ],
   "metadata": {
    "collapsed": false,
    "pycharm": {
     "name": "#%%\n"
    }
   }
  },
  {
   "cell_type": "code",
   "execution_count": 5,
   "outputs": [
    {
     "name": "stdout",
     "output_type": "stream",
     "text": [
      "{'dog food', 'long life bakery product', 'fruit/vegetable juice', 'cocoa drinks', 'waffles', 'male cosmetics', 'specialty cheese', 'decalcifier', 'chocolate marshmallow', 'flower (seeds)', 'whisky', 'curd', 'pork', 'snack products', 'white bread', 'domestic eggs', 'fish', 'tidbits', 'soft cheese', 'flower soil/fertilizer', 'coffee', 'brandy', 'sausage', 'specialty bar', 'nut snack', 'mustard', 'dish cleaner', 'salt', 'honey', 'liqueur', 'bottled beer', 'popcorn', 'ketchup', 'pasta', 'meat', 'butter', 'UHT-milk', 'spread cheese', 'candy', 'yogurt', 'frozen fish', 'kitchen towels', 'canned fish', 'ham', 'toilet cleaner', 'sliced cheese', 'baby food', 'dishes', 'misc. beverages', 'rum', 'sweet spreads', 'bags', 'artif. sweetener', 'herbs', 'napkins', 'bottled water', 'prosecco', 'detergent', 'light bulbs', 'specialty chocolate', 'frozen vegetables', 'pastry', 'liquor (appetizer)', 'shopping bags', 'organic products', 'organic sausage', 'canned fruit', 'citrus fruit', 'curd cheese', 'skin care', 'hamburger meat', 'specialty fat', 'sparkling wine', 'female sanitary products', 'house keeping products', 'finished products', 'hygiene articles', 'rolls/buns', 'frozen dessert', 'pudding powder', 'hair spray', 'cling film/bags', 'pickled vegetables', 'berries', 'canned beer', 'salty snack', 'red/blush wine', 'cooking chocolate', 'kitchen utensil', 'rubbing alcohol', 'cake bar', 'soda', 'salad dressing', 'instant coffee', 'flour', 'onions', 'frozen meals', 'cleaner', 'tea', 'jam', 'soups', 'Instant food products', 'zwieback', 'ice cream', 'tropical fruit', 'chicken', 'newspapers', 'potato products', 'specialty vegetables', 'other vegetables', 'butter milk', 'whole milk', 'softener', 'chocolate', 'sound storage medium', 'cookware', 'beverages', 'liver loaf', 'turkey', 'processed cheese', 'frozen fruits', 'margarine', 'dental care', 'chewing gum', 'sauces', 'baby cosmetics', 'rice', 'cereals', 'packaged fruit/vegetables', 'soap', 'syrup', 'hard cheese', 'spices', 'make up remover', 'root vegetables', 'white wine', 'abrasive cleaner', 'vinegar', 'nuts/prunes', 'oil', 'canned vegetables', 'seasonal products', 'condensed milk', 'semi-finished bread', 'potted plants', 'sugar', 'whipped/sour cream', 'cat food', 'brown bread', 'meat spreads', 'grapes', 'pip fruit', 'frozen chicken', 'photo/film', 'beef', 'ready soups', 'preservation products', 'candles', 'pet care', 'cream', 'bathroom cleaner', 'roll products', 'mayonnaise', 'baking powder', 'frozen potato products', 'liquor', 'frankfurter', 'cream cheese', 'dessert'}\n",
      "169\n"
     ]
    }
   ],
   "source": [
    "print(unique_items)\n",
    "print(len(unique_items))"
   ],
   "metadata": {
    "collapsed": false,
    "pycharm": {
     "name": "#%%\n"
    }
   }
  },
  {
   "cell_type": "markdown",
   "source": [
    "## PART 2"
   ],
   "metadata": {
    "collapsed": false,
    "pycharm": {
     "name": "#%% md\n"
    }
   }
  },
  {
   "cell_type": "code",
   "execution_count": 6,
   "outputs": [],
   "source": [
    "te = TransactionEncoder()\n",
    "te_ary = te.fit(np_data).transform(np_data)\n",
    "data = pd.DataFrame(te_ary, columns=te.columns_)"
   ],
   "metadata": {
    "collapsed": false,
    "pycharm": {
     "name": "#%%\n"
    }
   }
  },
  {
   "cell_type": "code",
   "execution_count": 6,
   "outputs": [],
   "source": [],
   "metadata": {
    "collapsed": false,
    "pycharm": {
     "name": "#%%"
    }
   }
  }
 ],
 "metadata": {
  "kernelspec": {
   "name": "pycharm-ea969764",
   "language": "python",
   "display_name": "PyCharm (ml_course)"
  },
  "language_info": {
   "codemirror_mode": {
    "name": "ipython",
    "version": 2
   },
   "file_extension": ".py",
   "mimetype": "text/x-python",
   "name": "python",
   "nbconvert_exporter": "python",
   "pygments_lexer": "ipython2",
   "version": "2.7.6"
  }
 },
 "nbformat": 4,
 "nbformat_minor": 0
}