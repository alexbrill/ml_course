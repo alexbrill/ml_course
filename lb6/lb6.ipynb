{
 "cells": [
  {
   "cell_type": "markdown",
   "metadata": {
    "collapsed": true,
    "pycharm": {
     "name": "#%% md\n"
    }
   },
   "source": [
    "# LB6"
   ]
  },
  {
   "cell_type": "code",
   "execution_count": 22,
   "outputs": [],
   "source": [
    "import pandas as pd\n",
    "import numpy as np\n",
    "from sklearn.cluster import KMeans, DBSCAN\n",
    "from sklearn import preprocessing\n",
    "import matplotlib.pyplot as plt"
   ],
   "metadata": {
    "collapsed": false,
    "pycharm": {
     "name": "#%%\n"
    }
   }
  },
  {
   "cell_type": "markdown",
   "source": [
    "## PART 1"
   ],
   "metadata": {
    "collapsed": false,
    "pycharm": {
     "name": "#%% md\n"
    }
   }
  },
  {
   "cell_type": "code",
   "execution_count": 23,
   "outputs": [
    {
     "data": {
      "text/plain": "       BALANCE  BALANCE_FREQUENCY  PURCHASES  ONEOFF_PURCHASES  \\\n0    40.900749           0.818182      95.40              0.00   \n1  3202.467416           0.909091       0.00              0.00   \n2  2495.148862           1.000000     773.17            773.17   \n4   817.714335           1.000000      16.00             16.00   \n5  1809.828751           1.000000    1333.28              0.00   \n\n   INSTALLMENTS_PURCHASES  CASH_ADVANCE  PURCHASES_FREQUENCY  \\\n0                   95.40      0.000000             0.166667   \n1                    0.00   6442.945483             0.000000   \n2                    0.00      0.000000             1.000000   \n4                    0.00      0.000000             0.083333   \n5                 1333.28      0.000000             0.666667   \n\n   ONEOFF_PURCHASES_FREQUENCY  PURCHASES_INSTALLMENTS_FREQUENCY  \\\n0                    0.000000                          0.083333   \n1                    0.000000                          0.000000   \n2                    1.000000                          0.000000   \n4                    0.083333                          0.000000   \n5                    0.000000                          0.583333   \n\n   CASH_ADVANCE_FREQUENCY  CASH_ADVANCE_TRX  PURCHASES_TRX  CREDIT_LIMIT  \\\n0                    0.00                 0              2        1000.0   \n1                    0.25                 4              0        7000.0   \n2                    0.00                 0             12        7500.0   \n4                    0.00                 0              1        1200.0   \n5                    0.00                 0              8        1800.0   \n\n      PAYMENTS  MINIMUM_PAYMENTS  PRC_FULL_PAYMENT  TENURE  \n0   201.802084        139.509787          0.000000      12  \n1  4103.032597       1072.340217          0.222222      12  \n2   622.066742        627.284787          0.000000      12  \n4   678.334763        244.791237          0.000000      12  \n5  1400.057770       2407.246035          0.000000      12  ",
      "text/html": "<div>\n<style scoped>\n    .dataframe tbody tr th:only-of-type {\n        vertical-align: middle;\n    }\n\n    .dataframe tbody tr th {\n        vertical-align: top;\n    }\n\n    .dataframe thead th {\n        text-align: right;\n    }\n</style>\n<table border=\"1\" class=\"dataframe\">\n  <thead>\n    <tr style=\"text-align: right;\">\n      <th></th>\n      <th>BALANCE</th>\n      <th>BALANCE_FREQUENCY</th>\n      <th>PURCHASES</th>\n      <th>ONEOFF_PURCHASES</th>\n      <th>INSTALLMENTS_PURCHASES</th>\n      <th>CASH_ADVANCE</th>\n      <th>PURCHASES_FREQUENCY</th>\n      <th>ONEOFF_PURCHASES_FREQUENCY</th>\n      <th>PURCHASES_INSTALLMENTS_FREQUENCY</th>\n      <th>CASH_ADVANCE_FREQUENCY</th>\n      <th>CASH_ADVANCE_TRX</th>\n      <th>PURCHASES_TRX</th>\n      <th>CREDIT_LIMIT</th>\n      <th>PAYMENTS</th>\n      <th>MINIMUM_PAYMENTS</th>\n      <th>PRC_FULL_PAYMENT</th>\n      <th>TENURE</th>\n    </tr>\n  </thead>\n  <tbody>\n    <tr>\n      <th>0</th>\n      <td>40.900749</td>\n      <td>0.818182</td>\n      <td>95.40</td>\n      <td>0.00</td>\n      <td>95.40</td>\n      <td>0.000000</td>\n      <td>0.166667</td>\n      <td>0.000000</td>\n      <td>0.083333</td>\n      <td>0.00</td>\n      <td>0</td>\n      <td>2</td>\n      <td>1000.0</td>\n      <td>201.802084</td>\n      <td>139.509787</td>\n      <td>0.000000</td>\n      <td>12</td>\n    </tr>\n    <tr>\n      <th>1</th>\n      <td>3202.467416</td>\n      <td>0.909091</td>\n      <td>0.00</td>\n      <td>0.00</td>\n      <td>0.00</td>\n      <td>6442.945483</td>\n      <td>0.000000</td>\n      <td>0.000000</td>\n      <td>0.000000</td>\n      <td>0.25</td>\n      <td>4</td>\n      <td>0</td>\n      <td>7000.0</td>\n      <td>4103.032597</td>\n      <td>1072.340217</td>\n      <td>0.222222</td>\n      <td>12</td>\n    </tr>\n    <tr>\n      <th>2</th>\n      <td>2495.148862</td>\n      <td>1.000000</td>\n      <td>773.17</td>\n      <td>773.17</td>\n      <td>0.00</td>\n      <td>0.000000</td>\n      <td>1.000000</td>\n      <td>1.000000</td>\n      <td>0.000000</td>\n      <td>0.00</td>\n      <td>0</td>\n      <td>12</td>\n      <td>7500.0</td>\n      <td>622.066742</td>\n      <td>627.284787</td>\n      <td>0.000000</td>\n      <td>12</td>\n    </tr>\n    <tr>\n      <th>4</th>\n      <td>817.714335</td>\n      <td>1.000000</td>\n      <td>16.00</td>\n      <td>16.00</td>\n      <td>0.00</td>\n      <td>0.000000</td>\n      <td>0.083333</td>\n      <td>0.083333</td>\n      <td>0.000000</td>\n      <td>0.00</td>\n      <td>0</td>\n      <td>1</td>\n      <td>1200.0</td>\n      <td>678.334763</td>\n      <td>244.791237</td>\n      <td>0.000000</td>\n      <td>12</td>\n    </tr>\n    <tr>\n      <th>5</th>\n      <td>1809.828751</td>\n      <td>1.000000</td>\n      <td>1333.28</td>\n      <td>0.00</td>\n      <td>1333.28</td>\n      <td>0.000000</td>\n      <td>0.666667</td>\n      <td>0.000000</td>\n      <td>0.583333</td>\n      <td>0.00</td>\n      <td>0</td>\n      <td>8</td>\n      <td>1800.0</td>\n      <td>1400.057770</td>\n      <td>2407.246035</td>\n      <td>0.000000</td>\n      <td>12</td>\n    </tr>\n  </tbody>\n</table>\n</div>"
     },
     "execution_count": 23,
     "metadata": {},
     "output_type": "execute_result"
    }
   ],
   "source": [
    "data = pd.read_csv('data/CC GENERAL.csv').iloc[:,1:].dropna()\n",
    "data.head()"
   ],
   "metadata": {
    "collapsed": false,
    "pycharm": {
     "name": "#%%\n"
    }
   }
  },
  {
   "cell_type": "code",
   "execution_count": 24,
   "outputs": [
    {
     "data": {
      "text/plain": "            0         1        2       3        4            5         6   \\\n0    40.900749  0.818182    95.40    0.00    95.40     0.000000  0.166667   \n1  3202.467416  0.909091     0.00    0.00     0.00  6442.945483  0.000000   \n2  2495.148862  1.000000   773.17  773.17     0.00     0.000000  1.000000   \n3   817.714335  1.000000    16.00   16.00     0.00     0.000000  0.083333   \n4  1809.828751  1.000000  1333.28    0.00  1333.28     0.000000  0.666667   \n\n         7         8     9    10    11      12           13           14  \\\n0  0.000000  0.083333  0.00  0.0   2.0  1000.0   201.802084   139.509787   \n1  0.000000  0.000000  0.25  4.0   0.0  7000.0  4103.032597  1072.340217   \n2  1.000000  0.000000  0.00  0.0  12.0  7500.0   622.066742   627.284787   \n3  0.083333  0.000000  0.00  0.0   1.0  1200.0   678.334763   244.791237   \n4  0.000000  0.583333  0.00  0.0   8.0  1800.0  1400.057770  2407.246035   \n\n         15    16  \n0  0.000000  12.0  \n1  0.222222  12.0  \n2  0.000000  12.0  \n3  0.000000  12.0  \n4  0.000000  12.0  ",
      "text/html": "<div>\n<style scoped>\n    .dataframe tbody tr th:only-of-type {\n        vertical-align: middle;\n    }\n\n    .dataframe tbody tr th {\n        vertical-align: top;\n    }\n\n    .dataframe thead th {\n        text-align: right;\n    }\n</style>\n<table border=\"1\" class=\"dataframe\">\n  <thead>\n    <tr style=\"text-align: right;\">\n      <th></th>\n      <th>0</th>\n      <th>1</th>\n      <th>2</th>\n      <th>3</th>\n      <th>4</th>\n      <th>5</th>\n      <th>6</th>\n      <th>7</th>\n      <th>8</th>\n      <th>9</th>\n      <th>10</th>\n      <th>11</th>\n      <th>12</th>\n      <th>13</th>\n      <th>14</th>\n      <th>15</th>\n      <th>16</th>\n    </tr>\n  </thead>\n  <tbody>\n    <tr>\n      <th>0</th>\n      <td>40.900749</td>\n      <td>0.818182</td>\n      <td>95.40</td>\n      <td>0.00</td>\n      <td>95.40</td>\n      <td>0.000000</td>\n      <td>0.166667</td>\n      <td>0.000000</td>\n      <td>0.083333</td>\n      <td>0.00</td>\n      <td>0.0</td>\n      <td>2.0</td>\n      <td>1000.0</td>\n      <td>201.802084</td>\n      <td>139.509787</td>\n      <td>0.000000</td>\n      <td>12.0</td>\n    </tr>\n    <tr>\n      <th>1</th>\n      <td>3202.467416</td>\n      <td>0.909091</td>\n      <td>0.00</td>\n      <td>0.00</td>\n      <td>0.00</td>\n      <td>6442.945483</td>\n      <td>0.000000</td>\n      <td>0.000000</td>\n      <td>0.000000</td>\n      <td>0.25</td>\n      <td>4.0</td>\n      <td>0.0</td>\n      <td>7000.0</td>\n      <td>4103.032597</td>\n      <td>1072.340217</td>\n      <td>0.222222</td>\n      <td>12.0</td>\n    </tr>\n    <tr>\n      <th>2</th>\n      <td>2495.148862</td>\n      <td>1.000000</td>\n      <td>773.17</td>\n      <td>773.17</td>\n      <td>0.00</td>\n      <td>0.000000</td>\n      <td>1.000000</td>\n      <td>1.000000</td>\n      <td>0.000000</td>\n      <td>0.00</td>\n      <td>0.0</td>\n      <td>12.0</td>\n      <td>7500.0</td>\n      <td>622.066742</td>\n      <td>627.284787</td>\n      <td>0.000000</td>\n      <td>12.0</td>\n    </tr>\n    <tr>\n      <th>3</th>\n      <td>817.714335</td>\n      <td>1.000000</td>\n      <td>16.00</td>\n      <td>16.00</td>\n      <td>0.00</td>\n      <td>0.000000</td>\n      <td>0.083333</td>\n      <td>0.083333</td>\n      <td>0.000000</td>\n      <td>0.00</td>\n      <td>0.0</td>\n      <td>1.0</td>\n      <td>1200.0</td>\n      <td>678.334763</td>\n      <td>244.791237</td>\n      <td>0.000000</td>\n      <td>12.0</td>\n    </tr>\n    <tr>\n      <th>4</th>\n      <td>1809.828751</td>\n      <td>1.000000</td>\n      <td>1333.28</td>\n      <td>0.00</td>\n      <td>1333.28</td>\n      <td>0.000000</td>\n      <td>0.666667</td>\n      <td>0.000000</td>\n      <td>0.583333</td>\n      <td>0.00</td>\n      <td>0.0</td>\n      <td>8.0</td>\n      <td>1800.0</td>\n      <td>1400.057770</td>\n      <td>2407.246035</td>\n      <td>0.000000</td>\n      <td>12.0</td>\n    </tr>\n  </tbody>\n</table>\n</div>"
     },
     "execution_count": 24,
     "metadata": {},
     "output_type": "execute_result"
    }
   ],
   "source": [
    "no_labeled_data = pd.DataFrame(data=data.values)\n",
    "no_labeled_data.head()"
   ],
   "metadata": {
    "collapsed": false,
    "pycharm": {
     "name": "#%%\n"
    }
   }
  },
  {
   "cell_type": "markdown",
   "source": [
    "## PART 2"
   ],
   "metadata": {
    "collapsed": false,
    "pycharm": {
     "name": "#%% md\n"
    }
   }
  },
  {
   "cell_type": "code",
   "execution_count": 25,
   "outputs": [
    {
     "data": {
      "text/plain": "KMeans(n_clusters=3, n_init=15)"
     },
     "execution_count": 25,
     "metadata": {},
     "output_type": "execute_result"
    }
   ],
   "source": [
    "k_means = KMeans(init='k-means++', n_clusters=3, n_init=15)\n",
    "k_means.fit(no_labeled_data)"
   ],
   "metadata": {
    "collapsed": false,
    "pycharm": {
     "name": "#%%\n"
    }
   }
  },
  {
   "cell_type": "code",
   "execution_count": 26,
   "outputs": [],
   "source": [
    "data = np.array(data, dtype='float')\n",
    "min_max_scaler = preprocessing.StandardScaler()\n",
    "scaled_data = min_max_scaler.fit_transform(data)"
   ],
   "metadata": {
    "collapsed": false,
    "pycharm": {
     "name": "#%%\n"
    }
   }
  },
  {
   "cell_type": "code",
   "execution_count": 27,
   "outputs": [
    {
     "name": "stdout",
     "output_type": "stream",
     "text": [
      "{0, 1, 2, 3, 4, 5, 6, 7, 8, 9, 10, 11, 12, 13, 14, 15, 16, 17, 18, 19, 20, 21, 22, 23, 24, 25, 26, 27, 28, 29, 30, 31, 32, 33, 34, 35, -1}\n",
      "36\n",
      "0.7512737378415933\n"
     ]
    }
   ],
   "source": [
    "clustering = DBSCAN().fit(scaled_data)\n",
    "print(set(clustering.labels_))\n",
    "print(len(set(clustering.labels_)) -1)\n",
    "print(list(clustering.labels_).count(-1) /len(list(clustering.labels_)))"
   ],
   "metadata": {
    "collapsed": false,
    "pycharm": {
     "name": "#%%\n"
    }
   }
  },
  {
   "cell_type": "code",
   "execution_count": 28,
   "outputs": [
    {
     "data": {
      "text/plain": "[<matplotlib.lines.Line2D at 0x7f6df9f344c0>]"
     },
     "execution_count": 28,
     "metadata": {},
     "output_type": "execute_result"
    },
    {
     "data": {
      "text/plain": "<Figure size 432x288 with 1 Axes>",
      "image/png": "[encoded data removed]"
     },
     "metadata": {
      "needs_background": "light"
     },
     "output_type": "display_data"
    }
   ],
   "source": [
    "eps_range = np.arange(0.5, 2, 0.1)\n",
    "\n",
    "clust_n = []\n",
    "clust_failure = []\n",
    "\n",
    "for eps in eps_range:\n",
    "    clustering = DBSCAN(eps=eps).fit(scaled_data)\n",
    "    clust_n.append(len(set(clustering.labels_)) - 1)\n",
    "    clust_failure.append(100 * list(clustering.labels_).count(-1) /len(list(clustering.labels_)))\n",
    "\n",
    "plt.plot(eps_range, clust_n)\n",
    "plt.plot(eps_range, clust_failure)"
   ],
   "metadata": {
    "collapsed": false,
    "pycharm": {
     "name": "#%%\n"
    }
   }
  },
  {
   "cell_type": "code",
   "execution_count": 30,
   "outputs": [
    {
     "data": {
      "text/plain": "[<matplotlib.lines.Line2D at 0x7f6df940d430>]"
     },
     "execution_count": 30,
     "metadata": {},
     "output_type": "execute_result"
    },
    {
     "data": {
      "text/plain": "<Figure size 432x288 with 1 Axes>",
      "image/png": "[encoded data removed]"
     },
     "metadata": {
      "needs_background": "light"
     },
     "output_type": "display_data"
    }
   ],
   "source": [
    "min_samples_range = range(2, 15)\n",
    "\n",
    "clust_n = []\n",
    "clust_failure = []\n",
    "\n",
    "for min_samples in min_samples_range:\n",
    "    clustering = DBSCAN(min_samples=min_samples).fit(scaled_data)\n",
    "    clust_n.append(len(set(clustering.labels_)) - 1)\n",
    "    clust_failure.append(100 * list(clustering.labels_).count(-1) /len(list(clustering.labels_)))\n",
    "\n",
    "plt.plot(min_samples_range, clust_n)\n",
    "plt.plot(min_samples_range, clust_failure)"
   ],
   "metadata": {
    "collapsed": false,
    "pycharm": {
     "name": "#%%\n"
    }
   }
  }
 ],
 "metadata": {
  "kernelspec": {
   "name": "pycharm-ea969764",
   "language": "python",
   "display_name": "PyCharm (ml_course)"
  },
  "language_info": {
   "codemirror_mode": {
    "name": "ipython",
    "version": 2
   },
   "file_extension": ".py",
   "mimetype": "text/x-python",
   "name": "python",
   "nbconvert_exporter": "python",
   "pygments_lexer": "ipython2",
   "version": "2.7.6"
  }
 },
 "nbformat": 4,
 "nbformat_minor": 0
}