{
 "cells": [
  {
   "cell_type": "markdown",
   "metadata": {
    "collapsed": true,
    "pycharm": {
     "name": "#%% md\n"
    }
   },
   "source": [
    "# LB6"
   ]
  },
  {
   "cell_type": "code",
   "execution_count": 39,
   "outputs": [],
   "source": [
    "import pandas as pd\n",
    "import numpy as np\n",
    "from sklearn.cluster import KMeans, DBSCAN, OPTICS\n",
    "from sklearn.decomposition import PCA\n",
    "from sklearn import preprocessing\n",
    "import matplotlib.pyplot as plt\n",
    "from matplotlib.pyplot import cm"
   ],
   "metadata": {
    "collapsed": false,
    "pycharm": {
     "name": "#%%\n"
    }
   }
  },
  {
   "cell_type": "markdown",
   "source": [
    "## PART 1"
   ],
   "metadata": {
    "collapsed": false,
    "pycharm": {
     "name": "#%% md\n"
    }
   }
  },
  {
   "cell_type": "code",
   "execution_count": 40,
   "outputs": [
    {
     "data": {
      "text/plain": "       BALANCE  BALANCE_FREQUENCY  PURCHASES  ONEOFF_PURCHASES  \\\n0    40.900749           0.818182      95.40              0.00   \n1  3202.467416           0.909091       0.00              0.00   \n2  2495.148862           1.000000     773.17            773.17   \n4   817.714335           1.000000      16.00             16.00   \n5  1809.828751           1.000000    1333.28              0.00   \n\n   INSTALLMENTS_PURCHASES  CASH_ADVANCE  PURCHASES_FREQUENCY  \\\n0                   95.40      0.000000             0.166667   \n1                    0.00   6442.945483             0.000000   \n2                    0.00      0.000000             1.000000   \n4                    0.00      0.000000             0.083333   \n5                 1333.28      0.000000             0.666667   \n\n   ONEOFF_PURCHASES_FREQUENCY  PURCHASES_INSTALLMENTS_FREQUENCY  \\\n0                    0.000000                          0.083333   \n1                    0.000000                          0.000000   \n2                    1.000000                          0.000000   \n4                    0.083333                          0.000000   \n5                    0.000000                          0.583333   \n\n   CASH_ADVANCE_FREQUENCY  CASH_ADVANCE_TRX  PURCHASES_TRX  CREDIT_LIMIT  \\\n0                    0.00                 0              2        1000.0   \n1                    0.25                 4              0        7000.0   \n2                    0.00                 0             12        7500.0   \n4                    0.00                 0              1        1200.0   \n5                    0.00                 0              8        1800.0   \n\n      PAYMENTS  MINIMUM_PAYMENTS  PRC_FULL_PAYMENT  TENURE  \n0   201.802084        139.509787          0.000000      12  \n1  4103.032597       1072.340217          0.222222      12  \n2   622.066742        627.284787          0.000000      12  \n4   678.334763        244.791237          0.000000      12  \n5  1400.057770       2407.246035          0.000000      12  ",
      "text/html": "<div>\n<style scoped>\n    .dataframe tbody tr th:only-of-type {\n        vertical-align: middle;\n    }\n\n    .dataframe tbody tr th {\n        vertical-align: top;\n    }\n\n    .dataframe thead th {\n        text-align: right;\n    }\n</style>\n<table border=\"1\" class=\"dataframe\">\n  <thead>\n    <tr style=\"text-align: right;\">\n      <th></th>\n      <th>BALANCE</th>\n      <th>BALANCE_FREQUENCY</th>\n      <th>PURCHASES</th>\n      <th>ONEOFF_PURCHASES</th>\n      <th>INSTALLMENTS_PURCHASES</th>\n      <th>CASH_ADVANCE</th>\n      <th>PURCHASES_FREQUENCY</th>\n      <th>ONEOFF_PURCHASES_FREQUENCY</th>\n      <th>PURCHASES_INSTALLMENTS_FREQUENCY</th>\n      <th>CASH_ADVANCE_FREQUENCY</th>\n      <th>CASH_ADVANCE_TRX</th>\n      <th>PURCHASES_TRX</th>\n      <th>CREDIT_LIMIT</th>\n      <th>PAYMENTS</th>\n      <th>MINIMUM_PAYMENTS</th>\n      <th>PRC_FULL_PAYMENT</th>\n      <th>TENURE</th>\n    </tr>\n  </thead>\n  <tbody>\n    <tr>\n      <th>0</th>\n      <td>40.900749</td>\n      <td>0.818182</td>\n      <td>95.40</td>\n      <td>0.00</td>\n      <td>95.40</td>\n      <td>0.000000</td>\n      <td>0.166667</td>\n      <td>0.000000</td>\n      <td>0.083333</td>\n      <td>0.00</td>\n      <td>0</td>\n      <td>2</td>\n      <td>1000.0</td>\n      <td>201.802084</td>\n      <td>139.509787</td>\n      <td>0.000000</td>\n      <td>12</td>\n    </tr>\n    <tr>\n      <th>1</th>\n      <td>3202.467416</td>\n      <td>0.909091</td>\n      <td>0.00</td>\n      <td>0.00</td>\n      <td>0.00</td>\n      <td>6442.945483</td>\n      <td>0.000000</td>\n      <td>0.000000</td>\n      <td>0.000000</td>\n      <td>0.25</td>\n      <td>4</td>\n      <td>0</td>\n      <td>7000.0</td>\n      <td>4103.032597</td>\n      <td>1072.340217</td>\n      <td>0.222222</td>\n      <td>12</td>\n    </tr>\n    <tr>\n      <th>2</th>\n      <td>2495.148862</td>\n      <td>1.000000</td>\n      <td>773.17</td>\n      <td>773.17</td>\n      <td>0.00</td>\n      <td>0.000000</td>\n      <td>1.000000</td>\n      <td>1.000000</td>\n      <td>0.000000</td>\n      <td>0.00</td>\n      <td>0</td>\n      <td>12</td>\n      <td>7500.0</td>\n      <td>622.066742</td>\n      <td>627.284787</td>\n      <td>0.000000</td>\n      <td>12</td>\n    </tr>\n    <tr>\n      <th>4</th>\n      <td>817.714335</td>\n      <td>1.000000</td>\n      <td>16.00</td>\n      <td>16.00</td>\n      <td>0.00</td>\n      <td>0.000000</td>\n      <td>0.083333</td>\n      <td>0.083333</td>\n      <td>0.000000</td>\n      <td>0.00</td>\n      <td>0</td>\n      <td>1</td>\n      <td>1200.0</td>\n      <td>678.334763</td>\n      <td>244.791237</td>\n      <td>0.000000</td>\n      <td>12</td>\n    </tr>\n    <tr>\n      <th>5</th>\n      <td>1809.828751</td>\n      <td>1.000000</td>\n      <td>1333.28</td>\n      <td>0.00</td>\n      <td>1333.28</td>\n      <td>0.000000</td>\n      <td>0.666667</td>\n      <td>0.000000</td>\n      <td>0.583333</td>\n      <td>0.00</td>\n      <td>0</td>\n      <td>8</td>\n      <td>1800.0</td>\n      <td>1400.057770</td>\n      <td>2407.246035</td>\n      <td>0.000000</td>\n      <td>12</td>\n    </tr>\n  </tbody>\n</table>\n</div>"
     },
     "execution_count": 40,
     "metadata": {},
     "output_type": "execute_result"
    }
   ],
   "source": [
    "data = pd.read_csv('data/CC GENERAL.csv').iloc[:,1:].dropna()\n",
    "data.head()"
   ],
   "metadata": {
    "collapsed": false,
    "pycharm": {
     "name": "#%%\n"
    }
   }
  },
  {
   "cell_type": "code",
   "execution_count": 41,
   "outputs": [
    {
     "data": {
      "text/plain": "            0         1        2       3        4            5         6   \\\n0    40.900749  0.818182    95.40    0.00    95.40     0.000000  0.166667   \n1  3202.467416  0.909091     0.00    0.00     0.00  6442.945483  0.000000   \n2  2495.148862  1.000000   773.17  773.17     0.00     0.000000  1.000000   \n3   817.714335  1.000000    16.00   16.00     0.00     0.000000  0.083333   \n4  1809.828751  1.000000  1333.28    0.00  1333.28     0.000000  0.666667   \n\n         7         8     9    10    11      12           13           14  \\\n0  0.000000  0.083333  0.00  0.0   2.0  1000.0   201.802084   139.509787   \n1  0.000000  0.000000  0.25  4.0   0.0  7000.0  4103.032597  1072.340217   \n2  1.000000  0.000000  0.00  0.0  12.0  7500.0   622.066742   627.284787   \n3  0.083333  0.000000  0.00  0.0   1.0  1200.0   678.334763   244.791237   \n4  0.000000  0.583333  0.00  0.0   8.0  1800.0  1400.057770  2407.246035   \n\n         15    16  \n0  0.000000  12.0  \n1  0.222222  12.0  \n2  0.000000  12.0  \n3  0.000000  12.0  \n4  0.000000  12.0  ",
      "text/html": "<div>\n<style scoped>\n    .dataframe tbody tr th:only-of-type {\n        vertical-align: middle;\n    }\n\n    .dataframe tbody tr th {\n        vertical-align: top;\n    }\n\n    .dataframe thead th {\n        text-align: right;\n    }\n</style>\n<table border=\"1\" class=\"dataframe\">\n  <thead>\n    <tr style=\"text-align: right;\">\n      <th></th>\n      <th>0</th>\n      <th>1</th>\n      <th>2</th>\n      <th>3</th>\n      <th>4</th>\n      <th>5</th>\n      <th>6</th>\n      <th>7</th>\n      <th>8</th>\n      <th>9</th>\n      <th>10</th>\n      <th>11</th>\n      <th>12</th>\n      <th>13</th>\n      <th>14</th>\n      <th>15</th>\n      <th>16</th>\n    </tr>\n  </thead>\n  <tbody>\n    <tr>\n      <th>0</th>\n      <td>40.900749</td>\n      <td>0.818182</td>\n      <td>95.40</td>\n      <td>0.00</td>\n      <td>95.40</td>\n      <td>0.000000</td>\n      <td>0.166667</td>\n      <td>0.000000</td>\n      <td>0.083333</td>\n      <td>0.00</td>\n      <td>0.0</td>\n      <td>2.0</td>\n      <td>1000.0</td>\n      <td>201.802084</td>\n      <td>139.509787</td>\n      <td>0.000000</td>\n      <td>12.0</td>\n    </tr>\n    <tr>\n      <th>1</th>\n      <td>3202.467416</td>\n      <td>0.909091</td>\n      <td>0.00</td>\n      <td>0.00</td>\n      <td>0.00</td>\n      <td>6442.945483</td>\n      <td>0.000000</td>\n      <td>0.000000</td>\n      <td>0.000000</td>\n      <td>0.25</td>\n      <td>4.0</td>\n      <td>0.0</td>\n      <td>7000.0</td>\n      <td>4103.032597</td>\n      <td>1072.340217</td>\n      <td>0.222222</td>\n      <td>12.0</td>\n    </tr>\n    <tr>\n      <th>2</th>\n      <td>2495.148862</td>\n      <td>1.000000</td>\n      <td>773.17</td>\n      <td>773.17</td>\n      <td>0.00</td>\n      <td>0.000000</td>\n      <td>1.000000</td>\n      <td>1.000000</td>\n      <td>0.000000</td>\n      <td>0.00</td>\n      <td>0.0</td>\n      <td>12.0</td>\n      <td>7500.0</td>\n      <td>622.066742</td>\n      <td>627.284787</td>\n      <td>0.000000</td>\n      <td>12.0</td>\n    </tr>\n    <tr>\n      <th>3</th>\n      <td>817.714335</td>\n      <td>1.000000</td>\n      <td>16.00</td>\n      <td>16.00</td>\n      <td>0.00</td>\n      <td>0.000000</td>\n      <td>0.083333</td>\n      <td>0.083333</td>\n      <td>0.000000</td>\n      <td>0.00</td>\n      <td>0.0</td>\n      <td>1.0</td>\n      <td>1200.0</td>\n      <td>678.334763</td>\n      <td>244.791237</td>\n      <td>0.000000</td>\n      <td>12.0</td>\n    </tr>\n    <tr>\n      <th>4</th>\n      <td>1809.828751</td>\n      <td>1.000000</td>\n      <td>1333.28</td>\n      <td>0.00</td>\n      <td>1333.28</td>\n      <td>0.000000</td>\n      <td>0.666667</td>\n      <td>0.000000</td>\n      <td>0.583333</td>\n      <td>0.00</td>\n      <td>0.0</td>\n      <td>8.0</td>\n      <td>1800.0</td>\n      <td>1400.057770</td>\n      <td>2407.246035</td>\n      <td>0.000000</td>\n      <td>12.0</td>\n    </tr>\n  </tbody>\n</table>\n</div>"
     },
     "execution_count": 41,
     "metadata": {},
     "output_type": "execute_result"
    }
   ],
   "source": [
    "no_labeled_data = pd.DataFrame(data=data.values)\n",
    "no_labeled_data.head()"
   ],
   "metadata": {
    "collapsed": false,
    "pycharm": {
     "name": "#%%\n"
    }
   }
  },
  {
   "cell_type": "markdown",
   "source": [
    "## PART 2"
   ],
   "metadata": {
    "collapsed": false,
    "pycharm": {
     "name": "#%% md\n"
    }
   }
  },
  {
   "cell_type": "code",
   "execution_count": 42,
   "outputs": [
    {
     "data": {
      "text/plain": "KMeans(n_clusters=3, n_init=15)"
     },
     "execution_count": 42,
     "metadata": {},
     "output_type": "execute_result"
    }
   ],
   "source": [
    "k_means = KMeans(init='k-means++', n_clusters=3, n_init=15)\n",
    "k_means.fit(no_labeled_data)"
   ],
   "metadata": {
    "collapsed": false,
    "pycharm": {
     "name": "#%%\n"
    }
   }
  },
  {
   "cell_type": "code",
   "execution_count": 43,
   "outputs": [],
   "source": [
    "data = np.array(data, dtype='float')\n",
    "min_max_scaler = preprocessing.StandardScaler()\n",
    "scaled_data = min_max_scaler.fit_transform(data)"
   ],
   "metadata": {
    "collapsed": false,
    "pycharm": {
     "name": "#%%\n"
    }
   }
  },
  {
   "cell_type": "code",
   "execution_count": 44,
   "outputs": [
    {
     "name": "stdout",
     "output_type": "stream",
     "text": [
      "{0, 1, 2, 3, 4, 5, 6, 7, 8, 9, 10, 11, 12, 13, 14, 15, 16, 17, 18, 19, 20, 21, 22, 23, 24, 25, 26, 27, 28, 29, 30, 31, 32, 33, 34, 35, -1}\n",
      "36\n",
      "0.7512737378415933\n"
     ]
    }
   ],
   "source": [
    "clustering = DBSCAN().fit(scaled_data)\n",
    "print(set(clustering.labels_))\n",
    "print(len(set(clustering.labels_)) -1)\n",
    "print(list(clustering.labels_).count(-1) /len(list(clustering.labels_)))"
   ],
   "metadata": {
    "collapsed": false,
    "pycharm": {
     "name": "#%%\n"
    }
   }
  },
  {
   "cell_type": "code",
   "execution_count": 57,
   "outputs": [
    {
     "data": {
      "text/plain": "[<matplotlib.lines.Line2D at 0x7ff755227490>]"
     },
     "execution_count": 57,
     "metadata": {},
     "output_type": "execute_result"
    },
    {
     "data": {
      "text/plain": "<Figure size 432x288 with 1 Axes>",
      "image/png": "[encoded data removed]"
     },
     "metadata": {
      "needs_background": "light"
     },
     "output_type": "display_data"
    }
   ],
   "source": [
    "eps_range = np.arange(0.5, 2, 0.1)\n",
    "\n",
    "clust_n = []\n",
    "clust_failure = []\n",
    "\n",
    "for eps in eps_range:\n",
    "    clustering = DBSCAN(eps=eps).fit(scaled_data)\n",
    "    clust_n.append(len(set(clustering.labels_)) - 1)\n",
    "    clust_failure.append(100 * list(clustering.labels_).count(-1) /len(list(clustering.labels_)))\n",
    "\n",
    "plt.xlabel(\"EPS\")\n",
    "\n",
    "plt.plot(eps_range, clust_n)\n",
    "plt.plot(eps_range, clust_failure)"
   ],
   "metadata": {
    "collapsed": false,
    "pycharm": {
     "name": "#%%\n"
    }
   }
  },
  {
   "cell_type": "code",
   "execution_count": 59,
   "outputs": [
    {
     "name": "stdout",
     "output_type": "stream",
     "text": [
      "0.5 36 75.12737378415933\n",
      "0.6 38 65.42380731820288\n",
      "0.7 25 57.79295970356647\n",
      "0.7999999999999999 16 50.196850393700785\n",
      "0.8999999999999999 17 42.693376563223715\n",
      "0.9999999999999999 19 35.32885595182955\n",
      "1.0999999999999999 11 29.469661880500233\n",
      "1.1999999999999997 6 24.930523390458546\n",
      "1.2999999999999998 6 20.69245020842983\n",
      "1.4 5 17.612320518758686\n",
      "1.4999999999999998 7 15.01852709587772\n",
      "1.5999999999999996 1 12.980546549328393\n",
      "1.6999999999999997 2 11.023622047244094\n",
      "1.7999999999999998 2 9.286706808707734\n",
      "1.8999999999999997 1 8.047707271885132\n"
     ]
    }
   ],
   "source": [
    "for i in range(len(eps_range)):\n",
    "    print(eps_range[i], clust_n[i], clust_failure[i])\n",
    "    if clust_n[i] <= 7 and clust_n[i] >=5 and clust_failure[i] <= 12:\n",
    "        print(eps_range[i])"
   ],
   "metadata": {
    "collapsed": false,
    "pycharm": {
     "name": "#%%\n"
    }
   }
  },
  {
   "cell_type": "code",
   "execution_count": 47,
   "outputs": [
    {
     "data": {
      "text/plain": "[<matplotlib.lines.Line2D at 0x7ff7552430a0>]"
     },
     "execution_count": 47,
     "metadata": {},
     "output_type": "execute_result"
    },
    {
     "data": {
      "text/plain": "<Figure size 432x288 with 1 Axes>",
      "image/png": "[encoded data removed]"
     },
     "metadata": {
      "needs_background": "light"
     },
     "output_type": "display_data"
    }
   ],
   "source": [
    "min_samples_range = range(2, 15)\n",
    "\n",
    "clust_n = []\n",
    "clust_failure = []\n",
    "\n",
    "for min_samples in min_samples_range:\n",
    "    clustering = DBSCAN(min_samples=min_samples).fit(scaled_data)\n",
    "    clust_n.append(len(set(clustering.labels_)) - 1)\n",
    "    clust_failure.append(100 * list(clustering.labels_).count(-1) /len(list(clustering.labels_)))\n",
    "\n",
    "plt.plot(min_samples_range, clust_n)\n",
    "plt.plot(min_samples_range, clust_failure)"
   ],
   "metadata": {
    "collapsed": false,
    "pycharm": {
     "name": "#%%\n"
    }
   }
  },
  {
   "cell_type": "code",
   "execution_count": 55,
   "outputs": [
    {
     "name": "stdout",
     "output_type": "stream",
     "text": [
      "336 64.02269569245021\n",
      "128 68.83974062065771\n",
      "62 72.67253358036128\n",
      "36 75.12737378415933\n",
      "20 77.02640111162576\n",
      "16 78.36961556276054\n",
      "11 79.6317739694303\n",
      "12 80.33811949976841\n",
      "6 81.41500694766096\n",
      "3 82.2024085224641\n",
      "2 82.60768874478926\n",
      "2 82.90875405280222\n",
      "2 83.32561371005094\n"
     ]
    }
   ],
   "source": [
    "for i in range(len(min_samples_range)):\n",
    "    print(clust_n[i], clust_failure[i])\n",
    "    if clust_n[i] <= 7 and clust_n[i] >=5 and clust_failure[i] <= 12:\n",
    "        print(min_samples_range[i])"
   ],
   "metadata": {
    "collapsed": false,
    "pycharm": {
     "name": "#%%\n"
    }
   }
  },
  {
   "cell_type": "code",
   "execution_count": 60,
   "outputs": [],
   "source": [
    "clustering = DBSCAN().fit(scaled_data)\n",
    "reduced_data = PCA(n_components=2).fit_transform(no_labeled_data)"
   ],
   "metadata": {
    "collapsed": false,
    "pycharm": {
     "name": "#%%\n"
    }
   }
  },
  {
   "cell_type": "code",
   "execution_count": 61,
   "outputs": [],
   "source": [
    "core_samples_mask = np.zeros_like(clustering.labels_, dtype=bool)\n",
    "core_samples_mask[clustering.core_sample_indices_] = True\n",
    "labels = clustering.labels_\n",
    "n_clusters_ = len(set(labels)) - (1 if -1 in labels else 0)"
   ],
   "metadata": {
    "collapsed": false,
    "pycharm": {
     "name": "#%%\n"
    }
   }
  },
  {
   "cell_type": "code",
   "execution_count": 62,
   "outputs": [
    {
     "data": {
      "text/plain": "<Figure size 432x288 with 1 Axes>",
      "image/png": "[encoded data removed]"
     },
     "metadata": {
      "needs_background": "light"
     },
     "output_type": "display_data"
    }
   ],
   "source": [
    "unique_labels = set(labels)\n",
    "colors = [cm.Spectral(each)\n",
    "          for each in np.linspace(0, 1, len(unique_labels))]\n",
    "for k, col in zip(unique_labels, colors):\n",
    "    if k == -1:\n",
    "        # Black used for noise.\n",
    "        col = [0, 0, 0, 1]\n",
    "\n",
    "    class_member_mask = (labels == k)\n",
    "\n",
    "    xy = reduced_data[class_member_mask & core_samples_mask]\n",
    "    plt.plot(xy[:, 0], xy[:, 1], 'o', markerfacecolor=tuple(col),\n",
    "             markeredgecolor='k', markersize=14)\n",
    "\n",
    "    xy = reduced_data[class_member_mask & ~core_samples_mask]\n",
    "    plt.plot(xy[:, 0], xy[:, 1], 'o', markerfacecolor=tuple(col),\n",
    "             markeredgecolor='g', markersize=6)\n",
    "\n",
    "plt.title('Estimated number of clusters: %d' % n_clusters_)\n",
    "plt.show()"
   ],
   "metadata": {
    "collapsed": false,
    "pycharm": {
     "name": "#%%\n"
    }
   }
  },
  {
   "cell_type": "markdown",
   "source": [
    "## OPTICS"
   ],
   "metadata": {
    "collapsed": false,
    "pycharm": {
     "name": "#%% md\n"
    }
   }
  },
  {
   "cell_type": "code",
   "execution_count": 51,
   "outputs": [],
   "source": [
    "clustering = OPTICS().fit(scaled_data)\n",
    "print(set(clustering.labels_))\n",
    "print(len(set(clustering.labels_)) -1)\n",
    "print(list(clustering.labels_).count(-1) /len(list(clustering.labels_)))"
   ],
   "metadata": {
    "collapsed": false,
    "pycharm": {
     "name": "#%%\n"
    }
   }
  }
 ],
 "metadata": {
  "kernelspec": {
   "name": "pycharm-ea969764",
   "language": "python",
   "display_name": "PyCharm (ml_course)"
  },
  "language_info": {
   "codemirror_mode": {
    "name": "ipython",
    "version": 2
   },
   "file_extension": ".py",
   "mimetype": "text/x-python",
   "name": "python",
   "nbconvert_exporter": "python",
   "pygments_lexer": "ipython2",
   "version": "2.7.6"
  }
 },
 "nbformat": 4,
 "nbformat_minor": 0
}