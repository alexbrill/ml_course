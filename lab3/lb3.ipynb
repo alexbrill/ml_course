{
 "cells": [
  {
   "cell_type": "markdown",
   "metadata": {
    "collapsed": true,
    "pycharm": {
     "name": "#%% md\n"
    }
   },
   "source": [
    "# LB3"
   ]
  },
  {
   "cell_type": "markdown",
   "metadata": {
    "pycharm": {
     "name": "#%% md\n"
    }
   },
   "source": [
    "Необходимые библиотеки:"
   ]
  },
  {
   "cell_type": "code",
   "execution_count": 105,
   "outputs": [],
   "source": [
    "import pandas as pd\n",
    "import numpy as np\n",
    "import matplotlib.pyplot as plt\n",
    "from mlxtend.preprocessing import TransactionEncoder\n",
    "from mlxtend.frequent_patterns import apriori"
   ],
   "metadata": {
    "collapsed": false,
    "pycharm": {
     "name": "#%%\n"
    }
   }
  },
  {
   "cell_type": "markdown",
   "metadata": {
    "pycharm": {
     "name": "#%% md\n"
    }
   },
   "source": [
    "## Часть 1 Загрузка данных"
   ]
  },
  {
   "cell_type": "markdown",
   "metadata": {
    "pycharm": {
     "name": "#%% md\n"
    }
   },
   "source": [
    "2. Загрузка датасета в датафрейм."
   ]
  },
  {
   "cell_type": "code",
   "execution_count": 106,
   "outputs": [
    {
     "data": {
      "text/plain": "                0     1                  2\n0      2000-01-01     1             yogurt\n1      2000-01-01     1               pork\n2      2000-01-01     1      sandwich bags\n3      2000-01-01     1         lunch meat\n4      2000-01-01     1       all- purpose\n...           ...   ...                ...\n22338  2002-02-26  1139               soda\n22339  2002-02-26  1139  laundry detergent\n22340  2002-02-26  1139         vegetables\n22341  2002-02-26  1139            shampoo\n22342  2002-02-26  1139         vegetables\n\n[22343 rows x 3 columns]",
      "text/html": "<div>\n<style scoped>\n    .dataframe tbody tr th:only-of-type {\n        vertical-align: middle;\n    }\n\n    .dataframe tbody tr th {\n        vertical-align: top;\n    }\n\n    .dataframe thead th {\n        text-align: right;\n    }\n</style>\n<table border=\"1\" class=\"dataframe\">\n  <thead>\n    <tr style=\"text-align: right;\">\n      <th></th>\n      <th>0</th>\n      <th>1</th>\n      <th>2</th>\n    </tr>\n  </thead>\n  <tbody>\n    <tr>\n      <th>0</th>\n      <td>2000-01-01</td>\n      <td>1</td>\n      <td>yogurt</td>\n    </tr>\n    <tr>\n      <th>1</th>\n      <td>2000-01-01</td>\n      <td>1</td>\n      <td>pork</td>\n    </tr>\n    <tr>\n      <th>2</th>\n      <td>2000-01-01</td>\n      <td>1</td>\n      <td>sandwich bags</td>\n    </tr>\n    <tr>\n      <th>3</th>\n      <td>2000-01-01</td>\n      <td>1</td>\n      <td>lunch meat</td>\n    </tr>\n    <tr>\n      <th>4</th>\n      <td>2000-01-01</td>\n      <td>1</td>\n      <td>all- purpose</td>\n    </tr>\n    <tr>\n      <th>...</th>\n      <td>...</td>\n      <td>...</td>\n      <td>...</td>\n    </tr>\n    <tr>\n      <th>22338</th>\n      <td>2002-02-26</td>\n      <td>1139</td>\n      <td>soda</td>\n    </tr>\n    <tr>\n      <th>22339</th>\n      <td>2002-02-26</td>\n      <td>1139</td>\n      <td>laundry detergent</td>\n    </tr>\n    <tr>\n      <th>22340</th>\n      <td>2002-02-26</td>\n      <td>1139</td>\n      <td>vegetables</td>\n    </tr>\n    <tr>\n      <th>22341</th>\n      <td>2002-02-26</td>\n      <td>1139</td>\n      <td>shampoo</td>\n    </tr>\n    <tr>\n      <th>22342</th>\n      <td>2002-02-26</td>\n      <td>1139</td>\n      <td>vegetables</td>\n    </tr>\n  </tbody>\n</table>\n<p>22343 rows × 3 columns</p>\n</div>"
     },
     "execution_count": 106,
     "metadata": {},
     "output_type": "execute_result"
    }
   ],
   "source": [
    "all_data = pd.read_csv(\"data/dataset_group.csv\", header=None)\n",
    "all_data"
   ],
   "metadata": {
    "collapsed": false,
    "pycharm": {
     "name": "#%%\n"
    }
   }
  },
  {
   "cell_type": "code",
   "execution_count": 107,
   "metadata": {
    "pycharm": {
     "name": "#%%\n"
    }
   },
   "outputs": [
    {
     "name": "stdout",
     "output_type": "stream",
     "text": [
      "Количество покупателей: 1139\n"
     ]
    }
   ],
   "source": [
    "unique_id = list(set(all_data[1]))\n",
    "print(f\"Количество покупателей: {len(unique_id)}\")"
   ]
  },
  {
   "cell_type": "code",
   "execution_count": 108,
   "metadata": {
    "pycharm": {
     "name": "#%%\n"
    }
   },
   "outputs": [
    {
     "name": "stdout",
     "output_type": "stream",
     "text": [
      "Количество товаров: 38\n"
     ]
    }
   ],
   "source": [
    "items = list(set(all_data[2]))\n",
    "print(f\"Количество товаров: {len(items)}\")"
   ]
  },
  {
   "cell_type": "markdown",
   "metadata": {
    "pycharm": {
     "name": "#%% md\n"
    }
   },
   "source": [
    "5. Объединение всех товаров покупателя в один список"
   ]
  },
  {
   "cell_type": "code",
   "execution_count": 109,
   "outputs": [],
   "source": [
    "dataset = [[elem for elem in all_data[all_data[1] == id][2]\n",
    "            if elem in items] for id in unique_id]"
   ],
   "metadata": {
    "collapsed": false,
    "pycharm": {
     "name": "#%%\n"
    }
   }
  },
  {
   "cell_type": "markdown",
   "metadata": {
    "pycharm": {
     "name": "#%% md\n"
    }
   },
   "source": [
    "## Часть 2 Подготовка данных"
   ]
  },
  {
   "cell_type": "markdown",
   "metadata": {
    "pycharm": {
     "name": "#%% md\n"
    }
   },
   "source": [
    "1. Необходимо представить данные в виде матрицы."
   ]
  },
  {
   "cell_type": "code",
   "execution_count": 110,
   "metadata": {
    "pycharm": {
     "name": "#%%\n"
    }
   },
   "outputs": [
    {
     "data": {
      "text/plain": "   all- purpose  aluminum foil  bagels   beef  butter  cereals  cheeses  \\\n0          True           True   False   True    True    False    False   \n1         False           True   False  False   False     True     True   \n2         False          False    True  False   False     True     True   \n3          True          False   False  False   False     True    False   \n4          True          False   False  False   False    False    False   \n\n   coffee/tea  dinner rolls  dishwashing liquid/detergent  ...  shampoo  \\\n0       False          True                         False  ...     True   \n1       False         False                          True  ...     True   \n2       False          True                         False  ...     True   \n3       False         False                         False  ...    False   \n4       False          True                         False  ...    False   \n\n    soap   soda  spaghetti sauce  sugar  toilet paper  tortillas  vegetables  \\\n0   True   True            False  False         False      False        True   \n1  False  False            False  False          True       True        True   \n2   True   True             True  False          True      False        True   \n3  False   True            False  False          True      False       False   \n4  False   True             True  False          True       True        True   \n\n   waffles  yogurt  \n0    False    True  \n1     True    True  \n2    False   False  \n3    False   False  \n4     True    True  \n\n[5 rows x 38 columns]",
      "text/html": "<div>\n<style scoped>\n    .dataframe tbody tr th:only-of-type {\n        vertical-align: middle;\n    }\n\n    .dataframe tbody tr th {\n        vertical-align: top;\n    }\n\n    .dataframe thead th {\n        text-align: right;\n    }\n</style>\n<table border=\"1\" class=\"dataframe\">\n  <thead>\n    <tr style=\"text-align: right;\">\n      <th></th>\n      <th>all- purpose</th>\n      <th>aluminum foil</th>\n      <th>bagels</th>\n      <th>beef</th>\n      <th>butter</th>\n      <th>cereals</th>\n      <th>cheeses</th>\n      <th>coffee/tea</th>\n      <th>dinner rolls</th>\n      <th>dishwashing liquid/detergent</th>\n      <th>...</th>\n      <th>shampoo</th>\n      <th>soap</th>\n      <th>soda</th>\n      <th>spaghetti sauce</th>\n      <th>sugar</th>\n      <th>toilet paper</th>\n      <th>tortillas</th>\n      <th>vegetables</th>\n      <th>waffles</th>\n      <th>yogurt</th>\n    </tr>\n  </thead>\n  <tbody>\n    <tr>\n      <th>0</th>\n      <td>True</td>\n      <td>True</td>\n      <td>False</td>\n      <td>True</td>\n      <td>True</td>\n      <td>False</td>\n      <td>False</td>\n      <td>False</td>\n      <td>True</td>\n      <td>False</td>\n      <td>...</td>\n      <td>True</td>\n      <td>True</td>\n      <td>True</td>\n      <td>False</td>\n      <td>False</td>\n      <td>False</td>\n      <td>False</td>\n      <td>True</td>\n      <td>False</td>\n      <td>True</td>\n    </tr>\n    <tr>\n      <th>1</th>\n      <td>False</td>\n      <td>True</td>\n      <td>False</td>\n      <td>False</td>\n      <td>False</td>\n      <td>True</td>\n      <td>True</td>\n      <td>False</td>\n      <td>False</td>\n      <td>True</td>\n      <td>...</td>\n      <td>True</td>\n      <td>False</td>\n      <td>False</td>\n      <td>False</td>\n      <td>False</td>\n      <td>True</td>\n      <td>True</td>\n      <td>True</td>\n      <td>True</td>\n      <td>True</td>\n    </tr>\n    <tr>\n      <th>2</th>\n      <td>False</td>\n      <td>False</td>\n      <td>True</td>\n      <td>False</td>\n      <td>False</td>\n      <td>True</td>\n      <td>True</td>\n      <td>False</td>\n      <td>True</td>\n      <td>False</td>\n      <td>...</td>\n      <td>True</td>\n      <td>True</td>\n      <td>True</td>\n      <td>True</td>\n      <td>False</td>\n      <td>True</td>\n      <td>False</td>\n      <td>True</td>\n      <td>False</td>\n      <td>False</td>\n    </tr>\n    <tr>\n      <th>3</th>\n      <td>True</td>\n      <td>False</td>\n      <td>False</td>\n      <td>False</td>\n      <td>False</td>\n      <td>True</td>\n      <td>False</td>\n      <td>False</td>\n      <td>False</td>\n      <td>False</td>\n      <td>...</td>\n      <td>False</td>\n      <td>False</td>\n      <td>True</td>\n      <td>False</td>\n      <td>False</td>\n      <td>True</td>\n      <td>False</td>\n      <td>False</td>\n      <td>False</td>\n      <td>False</td>\n    </tr>\n    <tr>\n      <th>4</th>\n      <td>True</td>\n      <td>False</td>\n      <td>False</td>\n      <td>False</td>\n      <td>False</td>\n      <td>False</td>\n      <td>False</td>\n      <td>False</td>\n      <td>True</td>\n      <td>False</td>\n      <td>...</td>\n      <td>False</td>\n      <td>False</td>\n      <td>True</td>\n      <td>True</td>\n      <td>False</td>\n      <td>True</td>\n      <td>True</td>\n      <td>True</td>\n      <td>True</td>\n      <td>True</td>\n    </tr>\n  </tbody>\n</table>\n<p>5 rows × 38 columns</p>\n</div>"
     },
     "execution_count": 110,
     "metadata": {},
     "output_type": "execute_result"
    }
   ],
   "source": [
    "te = TransactionEncoder()\n",
    "te_ary = te.fit_transform(dataset)\n",
    "df = pd.DataFrame(te_ary, columns=te.columns_)\n",
    "df.head()"
   ]
  },
  {
   "cell_type": "markdown",
   "metadata": {
    "pycharm": {
     "name": "#%% md\n"
    }
   },
   "source": [
    "2. Данные теперь представляются в виде матрицы: строки - транзакции,\n",
    "столбцы - наличие в транзакции элемента, ячейка - есть/нет в транзации"
   ]
  },
  {
   "cell_type": "markdown",
   "metadata": {
    "pycharm": {
     "name": "#%% md\n"
    }
   },
   "source": [
    "## Часть 3 APRIORI"
   ]
  },
  {
   "cell_type": "markdown",
   "metadata": {
    "pycharm": {
     "name": "#%% md\n"
    }
   },
   "source": [
    "После подготовки данных можно воспользоваться алгоритмом Априори"
   ]
  },
  {
   "cell_type": "markdown",
   "metadata": {
    "pycharm": {
     "name": "#%% md\n"
    }
   },
   "source": [
    "1. Запуск Априори с минимальным уровнем поддержки 0.3"
   ]
  },
  {
   "cell_type": "code",
   "execution_count": 111,
   "metadata": {
    "pycharm": {
     "name": "#%%\n"
    }
   },
   "outputs": [
    {
     "data": {
      "text/plain": "     support                                    itemsets  length\n0   0.374890                              (all- purpose)       1\n1   0.384548                             (aluminum foil)       1\n2   0.385426                                    (bagels)       1\n3   0.374890                                      (beef)       1\n4   0.367867                                    (butter)       1\n5   0.395961                                   (cereals)       1\n6   0.390694                                   (cheeses)       1\n7   0.379280                                (coffee/tea)       1\n8   0.388938                              (dinner rolls)       1\n9   0.388060              (dishwashing liquid/detergent)       1\n10  0.389816                                      (eggs)       1\n11  0.352941                                     (flour)       1\n12  0.370500                                    (fruits)       1\n13  0.345917                                 (hand soap)       1\n14  0.398595                                 (ice cream)       1\n15  0.375768                          (individual meals)       1\n16  0.376646                                     (juice)       1\n17  0.371378                                   (ketchup)       1\n18  0.378402                         (laundry detergent)       1\n19  0.395083                                (lunch meat)       1\n20  0.380158                                      (milk)       1\n21  0.375768                                     (mixes)       1\n22  0.362599                              (paper towels)       1\n23  0.371378                                     (pasta)       1\n24  0.355575                                      (pork)       1\n25  0.421422                                   (poultry)       1\n26  0.367867                             (sandwich bags)       1\n27  0.349429                           (sandwich loaves)       1\n28  0.368745                                   (shampoo)       1\n29  0.379280                                      (soap)       1\n30  0.390694                                      (soda)       1\n31  0.373134                           (spaghetti sauce)       1\n32  0.360843                                     (sugar)       1\n33  0.378402                              (toilet paper)       1\n34  0.369622                                 (tortillas)       1\n35  0.739245                                (vegetables)       1\n36  0.394205                                   (waffles)       1\n37  0.384548                                    (yogurt)       1\n38  0.310799                 (aluminum foil, vegetables)       2\n39  0.300263                        (bagels, vegetables)       2\n40  0.310799                       (cereals, vegetables)       2\n41  0.309043                       (cheeses, vegetables)       2\n42  0.308165                  (dinner rolls, vegetables)       2\n43  0.306409  (dishwashing liquid/detergent, vegetables)       2\n44  0.326602                          (eggs, vegetables)       2\n45  0.302897                     (ice cream, vegetables)       2\n46  0.309043             (laundry detergent, vegetables)       2\n47  0.311677                    (lunch meat, vegetables)       2\n48  0.331870                       (poultry, vegetables)       2\n49  0.305531                          (soda, vegetables)       2\n50  0.315189                       (waffles, vegetables)       2\n51  0.319579                        (yogurt, vegetables)       2",
      "text/html": "<div>\n<style scoped>\n    .dataframe tbody tr th:only-of-type {\n        vertical-align: middle;\n    }\n\n    .dataframe tbody tr th {\n        vertical-align: top;\n    }\n\n    .dataframe thead th {\n        text-align: right;\n    }\n</style>\n<table border=\"1\" class=\"dataframe\">\n  <thead>\n    <tr style=\"text-align: right;\">\n      <th></th>\n      <th>support</th>\n      <th>itemsets</th>\n      <th>length</th>\n    </tr>\n  </thead>\n  <tbody>\n    <tr>\n      <th>0</th>\n      <td>0.374890</td>\n      <td>(all- purpose)</td>\n      <td>1</td>\n    </tr>\n    <tr>\n      <th>1</th>\n      <td>0.384548</td>\n      <td>(aluminum foil)</td>\n      <td>1</td>\n    </tr>\n    <tr>\n      <th>2</th>\n      <td>0.385426</td>\n      <td>(bagels)</td>\n      <td>1</td>\n    </tr>\n    <tr>\n      <th>3</th>\n      <td>0.374890</td>\n      <td>(beef)</td>\n      <td>1</td>\n    </tr>\n    <tr>\n      <th>4</th>\n      <td>0.367867</td>\n      <td>(butter)</td>\n      <td>1</td>\n    </tr>\n    <tr>\n      <th>5</th>\n      <td>0.395961</td>\n      <td>(cereals)</td>\n      <td>1</td>\n    </tr>\n    <tr>\n      <th>6</th>\n      <td>0.390694</td>\n      <td>(cheeses)</td>\n      <td>1</td>\n    </tr>\n    <tr>\n      <th>7</th>\n      <td>0.379280</td>\n      <td>(coffee/tea)</td>\n      <td>1</td>\n    </tr>\n    <tr>\n      <th>8</th>\n      <td>0.388938</td>\n      <td>(dinner rolls)</td>\n      <td>1</td>\n    </tr>\n    <tr>\n      <th>9</th>\n      <td>0.388060</td>\n      <td>(dishwashing liquid/detergent)</td>\n      <td>1</td>\n    </tr>\n    <tr>\n      <th>10</th>\n      <td>0.389816</td>\n      <td>(eggs)</td>\n      <td>1</td>\n    </tr>\n    <tr>\n      <th>11</th>\n      <td>0.352941</td>\n      <td>(flour)</td>\n      <td>1</td>\n    </tr>\n    <tr>\n      <th>12</th>\n      <td>0.370500</td>\n      <td>(fruits)</td>\n      <td>1</td>\n    </tr>\n    <tr>\n      <th>13</th>\n      <td>0.345917</td>\n      <td>(hand soap)</td>\n      <td>1</td>\n    </tr>\n    <tr>\n      <th>14</th>\n      <td>0.398595</td>\n      <td>(ice cream)</td>\n      <td>1</td>\n    </tr>\n    <tr>\n      <th>15</th>\n      <td>0.375768</td>\n      <td>(individual meals)</td>\n      <td>1</td>\n    </tr>\n    <tr>\n      <th>16</th>\n      <td>0.376646</td>\n      <td>(juice)</td>\n      <td>1</td>\n    </tr>\n    <tr>\n      <th>17</th>\n      <td>0.371378</td>\n      <td>(ketchup)</td>\n      <td>1</td>\n    </tr>\n    <tr>\n      <th>18</th>\n      <td>0.378402</td>\n      <td>(laundry detergent)</td>\n      <td>1</td>\n    </tr>\n    <tr>\n      <th>19</th>\n      <td>0.395083</td>\n      <td>(lunch meat)</td>\n      <td>1</td>\n    </tr>\n    <tr>\n      <th>20</th>\n      <td>0.380158</td>\n      <td>(milk)</td>\n      <td>1</td>\n    </tr>\n    <tr>\n      <th>21</th>\n      <td>0.375768</td>\n      <td>(mixes)</td>\n      <td>1</td>\n    </tr>\n    <tr>\n      <th>22</th>\n      <td>0.362599</td>\n      <td>(paper towels)</td>\n      <td>1</td>\n    </tr>\n    <tr>\n      <th>23</th>\n      <td>0.371378</td>\n      <td>(pasta)</td>\n      <td>1</td>\n    </tr>\n    <tr>\n      <th>24</th>\n      <td>0.355575</td>\n      <td>(pork)</td>\n      <td>1</td>\n    </tr>\n    <tr>\n      <th>25</th>\n      <td>0.421422</td>\n      <td>(poultry)</td>\n      <td>1</td>\n    </tr>\n    <tr>\n      <th>26</th>\n      <td>0.367867</td>\n      <td>(sandwich bags)</td>\n      <td>1</td>\n    </tr>\n    <tr>\n      <th>27</th>\n      <td>0.349429</td>\n      <td>(sandwich loaves)</td>\n      <td>1</td>\n    </tr>\n    <tr>\n      <th>28</th>\n      <td>0.368745</td>\n      <td>(shampoo)</td>\n      <td>1</td>\n    </tr>\n    <tr>\n      <th>29</th>\n      <td>0.379280</td>\n      <td>(soap)</td>\n      <td>1</td>\n    </tr>\n    <tr>\n      <th>30</th>\n      <td>0.390694</td>\n      <td>(soda)</td>\n      <td>1</td>\n    </tr>\n    <tr>\n      <th>31</th>\n      <td>0.373134</td>\n      <td>(spaghetti sauce)</td>\n      <td>1</td>\n    </tr>\n    <tr>\n      <th>32</th>\n      <td>0.360843</td>\n      <td>(sugar)</td>\n      <td>1</td>\n    </tr>\n    <tr>\n      <th>33</th>\n      <td>0.378402</td>\n      <td>(toilet paper)</td>\n      <td>1</td>\n    </tr>\n    <tr>\n      <th>34</th>\n      <td>0.369622</td>\n      <td>(tortillas)</td>\n      <td>1</td>\n    </tr>\n    <tr>\n      <th>35</th>\n      <td>0.739245</td>\n      <td>(vegetables)</td>\n      <td>1</td>\n    </tr>\n    <tr>\n      <th>36</th>\n      <td>0.394205</td>\n      <td>(waffles)</td>\n      <td>1</td>\n    </tr>\n    <tr>\n      <th>37</th>\n      <td>0.384548</td>\n      <td>(yogurt)</td>\n      <td>1</td>\n    </tr>\n    <tr>\n      <th>38</th>\n      <td>0.310799</td>\n      <td>(aluminum foil, vegetables)</td>\n      <td>2</td>\n    </tr>\n    <tr>\n      <th>39</th>\n      <td>0.300263</td>\n      <td>(bagels, vegetables)</td>\n      <td>2</td>\n    </tr>\n    <tr>\n      <th>40</th>\n      <td>0.310799</td>\n      <td>(cereals, vegetables)</td>\n      <td>2</td>\n    </tr>\n    <tr>\n      <th>41</th>\n      <td>0.309043</td>\n      <td>(cheeses, vegetables)</td>\n      <td>2</td>\n    </tr>\n    <tr>\n      <th>42</th>\n      <td>0.308165</td>\n      <td>(dinner rolls, vegetables)</td>\n      <td>2</td>\n    </tr>\n    <tr>\n      <th>43</th>\n      <td>0.306409</td>\n      <td>(dishwashing liquid/detergent, vegetables)</td>\n      <td>2</td>\n    </tr>\n    <tr>\n      <th>44</th>\n      <td>0.326602</td>\n      <td>(eggs, vegetables)</td>\n      <td>2</td>\n    </tr>\n    <tr>\n      <th>45</th>\n      <td>0.302897</td>\n      <td>(ice cream, vegetables)</td>\n      <td>2</td>\n    </tr>\n    <tr>\n      <th>46</th>\n      <td>0.309043</td>\n      <td>(laundry detergent, vegetables)</td>\n      <td>2</td>\n    </tr>\n    <tr>\n      <th>47</th>\n      <td>0.311677</td>\n      <td>(lunch meat, vegetables)</td>\n      <td>2</td>\n    </tr>\n    <tr>\n      <th>48</th>\n      <td>0.331870</td>\n      <td>(poultry, vegetables)</td>\n      <td>2</td>\n    </tr>\n    <tr>\n      <th>49</th>\n      <td>0.305531</td>\n      <td>(soda, vegetables)</td>\n      <td>2</td>\n    </tr>\n    <tr>\n      <th>50</th>\n      <td>0.315189</td>\n      <td>(waffles, vegetables)</td>\n      <td>2</td>\n    </tr>\n    <tr>\n      <th>51</th>\n      <td>0.319579</td>\n      <td>(yogurt, vegetables)</td>\n      <td>2</td>\n    </tr>\n  </tbody>\n</table>\n</div>"
     },
     "execution_count": 111,
     "metadata": {},
     "output_type": "execute_result"
    }
   ],
   "source": [
    "results = apriori(df, min_support=0.3, use_colnames=True)\n",
    "results['length'] = results['itemsets'].apply(lambda x: len(x))\n",
    "results"
   ]
  },
  {
   "cell_type": "markdown",
   "metadata": {
    "pycharm": {
     "name": "#%% md\n"
    }
   },
   "source": [
    "Была получена таблица, в которой перечисленны все повторяющиеся элементы\n",
    "с вероятностью больше 0.3. В последнем столбце показана длина повторяющегося\n",
    "набора."
   ]
  },
  {
   "cell_type": "markdown",
   "metadata": {
    "pycharm": {
     "name": "#%% md\n"
    }
   },
   "source": [
    "2. Применим Априори, но с ограничением на размер набора, равным 1"
   ]
  },
  {
   "cell_type": "code",
   "execution_count": 112,
   "metadata": {
    "pycharm": {
     "name": "#%%\n"
    }
   },
   "outputs": [
    {
     "data": {
      "text/plain": "     support                        itemsets\n0   0.374890                  (all- purpose)\n1   0.384548                 (aluminum foil)\n2   0.385426                        (bagels)\n3   0.374890                          (beef)\n4   0.367867                        (butter)\n5   0.395961                       (cereals)\n6   0.390694                       (cheeses)\n7   0.379280                    (coffee/tea)\n8   0.388938                  (dinner rolls)\n9   0.388060  (dishwashing liquid/detergent)\n10  0.389816                          (eggs)\n11  0.352941                         (flour)\n12  0.370500                        (fruits)\n13  0.345917                     (hand soap)\n14  0.398595                     (ice cream)\n15  0.375768              (individual meals)\n16  0.376646                         (juice)\n17  0.371378                       (ketchup)\n18  0.378402             (laundry detergent)\n19  0.395083                    (lunch meat)\n20  0.380158                          (milk)\n21  0.375768                         (mixes)\n22  0.362599                  (paper towels)\n23  0.371378                         (pasta)\n24  0.355575                          (pork)\n25  0.421422                       (poultry)\n26  0.367867                 (sandwich bags)\n27  0.349429               (sandwich loaves)\n28  0.368745                       (shampoo)\n29  0.379280                          (soap)\n30  0.390694                          (soda)\n31  0.373134               (spaghetti sauce)\n32  0.360843                         (sugar)\n33  0.378402                  (toilet paper)\n34  0.369622                     (tortillas)\n35  0.739245                    (vegetables)\n36  0.394205                       (waffles)\n37  0.384548                        (yogurt)",
      "text/html": "<div>\n<style scoped>\n    .dataframe tbody tr th:only-of-type {\n        vertical-align: middle;\n    }\n\n    .dataframe tbody tr th {\n        vertical-align: top;\n    }\n\n    .dataframe thead th {\n        text-align: right;\n    }\n</style>\n<table border=\"1\" class=\"dataframe\">\n  <thead>\n    <tr style=\"text-align: right;\">\n      <th></th>\n      <th>support</th>\n      <th>itemsets</th>\n    </tr>\n  </thead>\n  <tbody>\n    <tr>\n      <th>0</th>\n      <td>0.374890</td>\n      <td>(all- purpose)</td>\n    </tr>\n    <tr>\n      <th>1</th>\n      <td>0.384548</td>\n      <td>(aluminum foil)</td>\n    </tr>\n    <tr>\n      <th>2</th>\n      <td>0.385426</td>\n      <td>(bagels)</td>\n    </tr>\n    <tr>\n      <th>3</th>\n      <td>0.374890</td>\n      <td>(beef)</td>\n    </tr>\n    <tr>\n      <th>4</th>\n      <td>0.367867</td>\n      <td>(butter)</td>\n    </tr>\n    <tr>\n      <th>5</th>\n      <td>0.395961</td>\n      <td>(cereals)</td>\n    </tr>\n    <tr>\n      <th>6</th>\n      <td>0.390694</td>\n      <td>(cheeses)</td>\n    </tr>\n    <tr>\n      <th>7</th>\n      <td>0.379280</td>\n      <td>(coffee/tea)</td>\n    </tr>\n    <tr>\n      <th>8</th>\n      <td>0.388938</td>\n      <td>(dinner rolls)</td>\n    </tr>\n    <tr>\n      <th>9</th>\n      <td>0.388060</td>\n      <td>(dishwashing liquid/detergent)</td>\n    </tr>\n    <tr>\n      <th>10</th>\n      <td>0.389816</td>\n      <td>(eggs)</td>\n    </tr>\n    <tr>\n      <th>11</th>\n      <td>0.352941</td>\n      <td>(flour)</td>\n    </tr>\n    <tr>\n      <th>12</th>\n      <td>0.370500</td>\n      <td>(fruits)</td>\n    </tr>\n    <tr>\n      <th>13</th>\n      <td>0.345917</td>\n      <td>(hand soap)</td>\n    </tr>\n    <tr>\n      <th>14</th>\n      <td>0.398595</td>\n      <td>(ice cream)</td>\n    </tr>\n    <tr>\n      <th>15</th>\n      <td>0.375768</td>\n      <td>(individual meals)</td>\n    </tr>\n    <tr>\n      <th>16</th>\n      <td>0.376646</td>\n      <td>(juice)</td>\n    </tr>\n    <tr>\n      <th>17</th>\n      <td>0.371378</td>\n      <td>(ketchup)</td>\n    </tr>\n    <tr>\n      <th>18</th>\n      <td>0.378402</td>\n      <td>(laundry detergent)</td>\n    </tr>\n    <tr>\n      <th>19</th>\n      <td>0.395083</td>\n      <td>(lunch meat)</td>\n    </tr>\n    <tr>\n      <th>20</th>\n      <td>0.380158</td>\n      <td>(milk)</td>\n    </tr>\n    <tr>\n      <th>21</th>\n      <td>0.375768</td>\n      <td>(mixes)</td>\n    </tr>\n    <tr>\n      <th>22</th>\n      <td>0.362599</td>\n      <td>(paper towels)</td>\n    </tr>\n    <tr>\n      <th>23</th>\n      <td>0.371378</td>\n      <td>(pasta)</td>\n    </tr>\n    <tr>\n      <th>24</th>\n      <td>0.355575</td>\n      <td>(pork)</td>\n    </tr>\n    <tr>\n      <th>25</th>\n      <td>0.421422</td>\n      <td>(poultry)</td>\n    </tr>\n    <tr>\n      <th>26</th>\n      <td>0.367867</td>\n      <td>(sandwich bags)</td>\n    </tr>\n    <tr>\n      <th>27</th>\n      <td>0.349429</td>\n      <td>(sandwich loaves)</td>\n    </tr>\n    <tr>\n      <th>28</th>\n      <td>0.368745</td>\n      <td>(shampoo)</td>\n    </tr>\n    <tr>\n      <th>29</th>\n      <td>0.379280</td>\n      <td>(soap)</td>\n    </tr>\n    <tr>\n      <th>30</th>\n      <td>0.390694</td>\n      <td>(soda)</td>\n    </tr>\n    <tr>\n      <th>31</th>\n      <td>0.373134</td>\n      <td>(spaghetti sauce)</td>\n    </tr>\n    <tr>\n      <th>32</th>\n      <td>0.360843</td>\n      <td>(sugar)</td>\n    </tr>\n    <tr>\n      <th>33</th>\n      <td>0.378402</td>\n      <td>(toilet paper)</td>\n    </tr>\n    <tr>\n      <th>34</th>\n      <td>0.369622</td>\n      <td>(tortillas)</td>\n    </tr>\n    <tr>\n      <th>35</th>\n      <td>0.739245</td>\n      <td>(vegetables)</td>\n    </tr>\n    <tr>\n      <th>36</th>\n      <td>0.394205</td>\n      <td>(waffles)</td>\n    </tr>\n    <tr>\n      <th>37</th>\n      <td>0.384548</td>\n      <td>(yogurt)</td>\n    </tr>\n  </tbody>\n</table>\n</div>"
     },
     "execution_count": 112,
     "metadata": {},
     "output_type": "execute_result"
    }
   ],
   "source": [
    "results = apriori(df, min_support=0.3, use_colnames=True, max_len=1)\n",
    "results"
   ]
  },
  {
   "cell_type": "markdown",
   "metadata": {
    "pycharm": {
     "name": "#%% md\n"
    }
   },
   "source": [
    "3. Применим Априори и выведем только наборы с размером 2, а также\n",
    "количество таких наборов"
   ]
  },
  {
   "cell_type": "code",
   "execution_count": 113,
   "metadata": {
    "pycharm": {
     "name": "#%%\n"
    }
   },
   "outputs": [
    {
     "name": "stdout",
     "output_type": "stream",
     "text": [
      "     support                                    itemsets  length\n",
      "38  0.310799                 (aluminum foil, vegetables)       2\n",
      "39  0.300263                        (bagels, vegetables)       2\n",
      "40  0.310799                       (cereals, vegetables)       2\n",
      "41  0.309043                       (cheeses, vegetables)       2\n",
      "42  0.308165                  (dinner rolls, vegetables)       2\n",
      "43  0.306409  (dishwashing liquid/detergent, vegetables)       2\n",
      "44  0.326602                          (eggs, vegetables)       2\n",
      "45  0.302897                     (ice cream, vegetables)       2\n",
      "46  0.309043             (laundry detergent, vegetables)       2\n",
      "47  0.311677                    (lunch meat, vegetables)       2\n",
      "48  0.331870                       (poultry, vegetables)       2\n",
      "49  0.305531                          (soda, vegetables)       2\n",
      "50  0.315189                       (waffles, vegetables)       2\n",
      "51  0.319579                        (yogurt, vegetables)       2\n",
      "\n",
      "Count of result itemstes =  14\n"
     ]
    }
   ],
   "source": [
    "results = apriori(df, min_support=0.3, use_colnames=True)\n",
    "results['length'] = results['itemsets'].apply(lambda x: len(x))\n",
    "results = results[results['length'] == 2]\n",
    "print(results)\n",
    "print('\\nCount of result itemstes = ',len(results))"
   ]
  },
  {
   "cell_type": "markdown",
   "metadata": {
    "pycharm": {
     "name": "#%% md\n"
    }
   },
   "source": [
    "4. Посчитаем количество наборов при различных уровнях поддержки.\n",
    "Начальное значение поддержки 0.05, шаг 0.01.\n",
    "5. Определите значение уровня поддержки при котором перестают\n",
    "генерироваться наборы размера 1,2,3, и.т.д."
   ]
  },
  {
   "cell_type": "code",
   "execution_count": 114,
   "metadata": {
    "pycharm": {
     "name": "#%%\n"
    }
   },
   "outputs": [
    {
     "data": {
      "text/plain": "1000"
     },
     "execution_count": 114,
     "metadata": {},
     "output_type": "execute_result"
    }
   ],
   "source": [
    "min_support = 0.05\n",
    "max_support = 0.8\n",
    "step_support = 0.01\n",
    "\n",
    "support_len = dict()\n",
    "support_len_not_in_N = dict()\n",
    "\n",
    "prev = 1000\n",
    "\n",
    "for support in np.arange(min_support, max_support, step_support):\n",
    "    results = apriori(df, min_support=support, use_colnames=True)\n",
    "    support_len[support] = len(results)\n",
    "\n",
    "    if len(results) == 0:\n",
    "        continue\n",
    "\n",
    "    results['length'] = results['itemsets'].apply(lambda x: len(x))\n",
    "\n",
    "    cur_max = np.max(results['length'])\n",
    "\n",
    "    if cur_max < prev:\n",
    "        support_len_not_in_N[support] = prev\n",
    "        prev = cur_max\n",
    "\n",
    "support_len_not_in_N.pop(min_support)"
   ]
  },
  {
   "cell_type": "markdown",
   "metadata": {
    "pycharm": {
     "name": "#%% md\n"
    }
   },
   "source": [
    "Постройте график зависимости количества наборов от уровня поддержки\n",
    "Отметьте полученные уровни поддержки на графике"
   ]
  },
  {
   "cell_type": "code",
   "execution_count": 115,
   "metadata": {
    "pycharm": {
     "name": "#%%\n"
    }
   },
   "outputs": [
    {
     "data": {
      "text/plain": "<Figure size 432x288 with 1 Axes>",
      "image/png": "[encoded data removed]"
     },
     "metadata": {
      "needs_background": "light"
     },
     "output_type": "display_data"
    }
   ],
   "source": [
    "plt.plot(support_len.keys(), support_len.values(), '--')\n",
    "for key in support_len_not_in_N.keys():\n",
    "    plt.axvline(key, color='k')"
   ]
  },
  {
   "cell_type": "markdown",
   "metadata": {
    "pycharm": {
     "name": "#%% md\n"
    }
   },
   "source": [
    "6. Построим датасет только из тех элементов,\n",
    "которые попадают в наборы размером 1 при уровне поддержки 0.38"
   ]
  },
  {
   "cell_type": "code",
   "execution_count": 116,
   "metadata": {
    "pycharm": {
     "name": "#%%\n"
    }
   },
   "outputs": [],
   "source": [
    "results = apriori(df, min_support=0.38, use_colnames=True, max_len=1)\n",
    "new_items = [ list(elem)[0] for elem in results['itemsets']]\n",
    "new_dataset = [[elem for elem in all_data[all_data[1] == id][2]\n",
    "                if elem in new_items] for id in unique_id]\n"
   ]
  },
  {
   "cell_type": "markdown",
   "metadata": {
    "pycharm": {
     "name": "#%% md\n"
    }
   },
   "source": [
    "7. Приведем полученный датасет к формату, который можно обработать"
   ]
  },
  {
   "cell_type": "code",
   "execution_count": 117,
   "metadata": {
    "pycharm": {
     "name": "#%%\n"
    }
   },
   "outputs": [
    {
     "data": {
      "text/plain": "   aluminum foil  bagels  cereals  cheeses  dinner rolls  \\\n0           True   False    False    False          True   \n1           True   False     True     True         False   \n2          False    True     True     True          True   \n3          False   False     True    False         False   \n4          False   False    False    False          True   \n\n   dishwashing liquid/detergent   eggs  ice cream  lunch meat   milk  poultry  \\\n0                         False  False       True        True  False    False   \n1                          True  False      False       False   True    False   \n2                         False   True       True        True   True     True   \n3                         False  False      False        True  False    False   \n4                         False   True      False       False   True     True   \n\n    soda  vegetables  waffles  yogurt  \n0   True        True    False    True  \n1  False        True     True    True  \n2   True        True    False   False  \n3   True       False    False   False  \n4   True        True     True    True  ",
      "text/html": "<div>\n<style scoped>\n    .dataframe tbody tr th:only-of-type {\n        vertical-align: middle;\n    }\n\n    .dataframe tbody tr th {\n        vertical-align: top;\n    }\n\n    .dataframe thead th {\n        text-align: right;\n    }\n</style>\n<table border=\"1\" class=\"dataframe\">\n  <thead>\n    <tr style=\"text-align: right;\">\n      <th></th>\n      <th>aluminum foil</th>\n      <th>bagels</th>\n      <th>cereals</th>\n      <th>cheeses</th>\n      <th>dinner rolls</th>\n      <th>dishwashing liquid/detergent</th>\n      <th>eggs</th>\n      <th>ice cream</th>\n      <th>lunch meat</th>\n      <th>milk</th>\n      <th>poultry</th>\n      <th>soda</th>\n      <th>vegetables</th>\n      <th>waffles</th>\n      <th>yogurt</th>\n    </tr>\n  </thead>\n  <tbody>\n    <tr>\n      <th>0</th>\n      <td>True</td>\n      <td>False</td>\n      <td>False</td>\n      <td>False</td>\n      <td>True</td>\n      <td>False</td>\n      <td>False</td>\n      <td>True</td>\n      <td>True</td>\n      <td>False</td>\n      <td>False</td>\n      <td>True</td>\n      <td>True</td>\n      <td>False</td>\n      <td>True</td>\n    </tr>\n    <tr>\n      <th>1</th>\n      <td>True</td>\n      <td>False</td>\n      <td>True</td>\n      <td>True</td>\n      <td>False</td>\n      <td>True</td>\n      <td>False</td>\n      <td>False</td>\n      <td>False</td>\n      <td>True</td>\n      <td>False</td>\n      <td>False</td>\n      <td>True</td>\n      <td>True</td>\n      <td>True</td>\n    </tr>\n    <tr>\n      <th>2</th>\n      <td>False</td>\n      <td>True</td>\n      <td>True</td>\n      <td>True</td>\n      <td>True</td>\n      <td>False</td>\n      <td>True</td>\n      <td>True</td>\n      <td>True</td>\n      <td>True</td>\n      <td>True</td>\n      <td>True</td>\n      <td>True</td>\n      <td>False</td>\n      <td>False</td>\n    </tr>\n    <tr>\n      <th>3</th>\n      <td>False</td>\n      <td>False</td>\n      <td>True</td>\n      <td>False</td>\n      <td>False</td>\n      <td>False</td>\n      <td>False</td>\n      <td>False</td>\n      <td>True</td>\n      <td>False</td>\n      <td>False</td>\n      <td>True</td>\n      <td>False</td>\n      <td>False</td>\n      <td>False</td>\n    </tr>\n    <tr>\n      <th>4</th>\n      <td>False</td>\n      <td>False</td>\n      <td>False</td>\n      <td>False</td>\n      <td>True</td>\n      <td>False</td>\n      <td>True</td>\n      <td>False</td>\n      <td>False</td>\n      <td>True</td>\n      <td>True</td>\n      <td>True</td>\n      <td>True</td>\n      <td>True</td>\n      <td>True</td>\n    </tr>\n  </tbody>\n</table>\n</div>"
     },
     "execution_count": 117,
     "metadata": {},
     "output_type": "execute_result"
    }
   ],
   "source": [
    "te = TransactionEncoder()\n",
    "te_ary = te.fit_transform(new_dataset)\n",
    "df = pd.DataFrame(te_ary, columns=te.columns_)\n",
    "df.head()"
   ]
  },
  {
   "cell_type": "markdown",
   "metadata": {
    "pycharm": {
     "name": "#%% md\n"
    }
   },
   "source": [
    "8. Проведем ассоциативный анализ при уровне поддержки 0.3 для нового датасета."
   ]
  },
  {
   "cell_type": "code",
   "execution_count": 118,
   "metadata": {
    "pycharm": {
     "name": "#%%\n"
    }
   },
   "outputs": [
    {
     "data": {
      "text/plain": "     support                                    itemsets\n0   0.384548                             (aluminum foil)\n1   0.385426                                    (bagels)\n2   0.395961                                   (cereals)\n3   0.390694                                   (cheeses)\n4   0.388938                              (dinner rolls)\n5   0.388060              (dishwashing liquid/detergent)\n6   0.389816                                      (eggs)\n7   0.398595                                 (ice cream)\n8   0.395083                                (lunch meat)\n9   0.380158                                      (milk)\n10  0.421422                                   (poultry)\n11  0.390694                                      (soda)\n12  0.739245                                (vegetables)\n13  0.394205                                   (waffles)\n14  0.384548                                    (yogurt)\n15  0.310799                 (aluminum foil, vegetables)\n16  0.300263                        (bagels, vegetables)\n17  0.310799                       (cereals, vegetables)\n18  0.309043                       (cheeses, vegetables)\n19  0.308165                  (dinner rolls, vegetables)\n20  0.306409  (dishwashing liquid/detergent, vegetables)\n21  0.326602                          (eggs, vegetables)\n22  0.302897                     (ice cream, vegetables)\n23  0.311677                    (lunch meat, vegetables)\n24  0.331870                       (poultry, vegetables)\n25  0.305531                          (soda, vegetables)\n26  0.315189                       (waffles, vegetables)\n27  0.319579                        (yogurt, vegetables)",
      "text/html": "<div>\n<style scoped>\n    .dataframe tbody tr th:only-of-type {\n        vertical-align: middle;\n    }\n\n    .dataframe tbody tr th {\n        vertical-align: top;\n    }\n\n    .dataframe thead th {\n        text-align: right;\n    }\n</style>\n<table border=\"1\" class=\"dataframe\">\n  <thead>\n    <tr style=\"text-align: right;\">\n      <th></th>\n      <th>support</th>\n      <th>itemsets</th>\n    </tr>\n  </thead>\n  <tbody>\n    <tr>\n      <th>0</th>\n      <td>0.384548</td>\n      <td>(aluminum foil)</td>\n    </tr>\n    <tr>\n      <th>1</th>\n      <td>0.385426</td>\n      <td>(bagels)</td>\n    </tr>\n    <tr>\n      <th>2</th>\n      <td>0.395961</td>\n      <td>(cereals)</td>\n    </tr>\n    <tr>\n      <th>3</th>\n      <td>0.390694</td>\n      <td>(cheeses)</td>\n    </tr>\n    <tr>\n      <th>4</th>\n      <td>0.388938</td>\n      <td>(dinner rolls)</td>\n    </tr>\n    <tr>\n      <th>5</th>\n      <td>0.388060</td>\n      <td>(dishwashing liquid/detergent)</td>\n    </tr>\n    <tr>\n      <th>6</th>\n      <td>0.389816</td>\n      <td>(eggs)</td>\n    </tr>\n    <tr>\n      <th>7</th>\n      <td>0.398595</td>\n      <td>(ice cream)</td>\n    </tr>\n    <tr>\n      <th>8</th>\n      <td>0.395083</td>\n      <td>(lunch meat)</td>\n    </tr>\n    <tr>\n      <th>9</th>\n      <td>0.380158</td>\n      <td>(milk)</td>\n    </tr>\n    <tr>\n      <th>10</th>\n      <td>0.421422</td>\n      <td>(poultry)</td>\n    </tr>\n    <tr>\n      <th>11</th>\n      <td>0.390694</td>\n      <td>(soda)</td>\n    </tr>\n    <tr>\n      <th>12</th>\n      <td>0.739245</td>\n      <td>(vegetables)</td>\n    </tr>\n    <tr>\n      <th>13</th>\n      <td>0.394205</td>\n      <td>(waffles)</td>\n    </tr>\n    <tr>\n      <th>14</th>\n      <td>0.384548</td>\n      <td>(yogurt)</td>\n    </tr>\n    <tr>\n      <th>15</th>\n      <td>0.310799</td>\n      <td>(aluminum foil, vegetables)</td>\n    </tr>\n    <tr>\n      <th>16</th>\n      <td>0.300263</td>\n      <td>(bagels, vegetables)</td>\n    </tr>\n    <tr>\n      <th>17</th>\n      <td>0.310799</td>\n      <td>(cereals, vegetables)</td>\n    </tr>\n    <tr>\n      <th>18</th>\n      <td>0.309043</td>\n      <td>(cheeses, vegetables)</td>\n    </tr>\n    <tr>\n      <th>19</th>\n      <td>0.308165</td>\n      <td>(dinner rolls, vegetables)</td>\n    </tr>\n    <tr>\n      <th>20</th>\n      <td>0.306409</td>\n      <td>(dishwashing liquid/detergent, vegetables)</td>\n    </tr>\n    <tr>\n      <th>21</th>\n      <td>0.326602</td>\n      <td>(eggs, vegetables)</td>\n    </tr>\n    <tr>\n      <th>22</th>\n      <td>0.302897</td>\n      <td>(ice cream, vegetables)</td>\n    </tr>\n    <tr>\n      <th>23</th>\n      <td>0.311677</td>\n      <td>(lunch meat, vegetables)</td>\n    </tr>\n    <tr>\n      <th>24</th>\n      <td>0.331870</td>\n      <td>(poultry, vegetables)</td>\n    </tr>\n    <tr>\n      <th>25</th>\n      <td>0.305531</td>\n      <td>(soda, vegetables)</td>\n    </tr>\n    <tr>\n      <th>26</th>\n      <td>0.315189</td>\n      <td>(waffles, vegetables)</td>\n    </tr>\n    <tr>\n      <th>27</th>\n      <td>0.319579</td>\n      <td>(yogurt, vegetables)</td>\n    </tr>\n  </tbody>\n</table>\n</div>"
     },
     "execution_count": 118,
     "metadata": {},
     "output_type": "execute_result"
    }
   ],
   "source": [
    "results = apriori(df, min_support=0.3, use_colnames=True)\n",
    "results"
   ]
  },
  {
   "cell_type": "markdown",
   "metadata": {
    "pycharm": {
     "name": "#%% md\n"
    }
   },
   "source": [
    "9. Проведем ассоциативный анализ при уровне поддержки 0.15 для нового датасета.\n",
    "Выведем все наборы размер которых больше 1 и в котором есть 'yogurt' или 'waffles'"
   ]
  },
  {
   "cell_type": "code",
   "execution_count": 119,
   "metadata": {
    "pycharm": {
     "name": "#%%\n"
    }
   },
   "outputs": [
    {
     "data": {
      "text/plain": "      support                                 itemsets\n13   0.394205                                (waffles)\n14   0.384548                                 (yogurt)\n27   0.169447                 (waffles, aluminum foil)\n28   0.177349                  (aluminum foil, yogurt)\n40   0.159789                        (waffles, bagels)\n41   0.162423                         (bagels, yogurt)\n52   0.160667                       (waffles, cereals)\n53   0.172081                        (cereals, yogurt)\n63   0.172959                       (cheeses, waffles)\n64   0.172081                        (cheeses, yogurt)\n73   0.169447                  (waffles, dinner rolls)\n74   0.166813                   (dinner rolls, yogurt)\n82   0.175593  (waffles, dishwashing liquid/detergent)\n83   0.158033   (dishwashing liquid/detergent, yogurt)\n90   0.169447                          (waffles, eggs)\n91   0.174715                           (eggs, yogurt)\n97   0.172959                     (waffles, ice cream)\n98   0.156277                      (ice cream, yogurt)\n103  0.184372                    (lunch meat, waffles)\n104  0.161545                     (lunch meat, yogurt)\n108  0.167691                           (milk, yogurt)\n111  0.166813                       (waffles, poultry)\n112  0.180860                        (poultry, yogurt)\n114  0.177349                          (waffles, soda)\n115  0.167691                           (soda, yogurt)\n116  0.315189                    (waffles, vegetables)\n117  0.319579                     (yogurt, vegetables)\n118  0.173837                        (waffles, yogurt)\n119  0.152766      (aluminum foil, yogurt, vegetables)\n128  0.157155               (eggs, yogurt, vegetables)\n130  0.157155        (lunch meat, waffles, vegetables)\n131  0.152766            (poultry, yogurt, vegetables)",
      "text/html": "<div>\n<style scoped>\n    .dataframe tbody tr th:only-of-type {\n        vertical-align: middle;\n    }\n\n    .dataframe tbody tr th {\n        vertical-align: top;\n    }\n\n    .dataframe thead th {\n        text-align: right;\n    }\n</style>\n<table border=\"1\" class=\"dataframe\">\n  <thead>\n    <tr style=\"text-align: right;\">\n      <th></th>\n      <th>support</th>\n      <th>itemsets</th>\n    </tr>\n  </thead>\n  <tbody>\n    <tr>\n      <th>13</th>\n      <td>0.394205</td>\n      <td>(waffles)</td>\n    </tr>\n    <tr>\n      <th>14</th>\n      <td>0.384548</td>\n      <td>(yogurt)</td>\n    </tr>\n    <tr>\n      <th>27</th>\n      <td>0.169447</td>\n      <td>(waffles, aluminum foil)</td>\n    </tr>\n    <tr>\n      <th>28</th>\n      <td>0.177349</td>\n      <td>(aluminum foil, yogurt)</td>\n    </tr>\n    <tr>\n      <th>40</th>\n      <td>0.159789</td>\n      <td>(waffles, bagels)</td>\n    </tr>\n    <tr>\n      <th>41</th>\n      <td>0.162423</td>\n      <td>(bagels, yogurt)</td>\n    </tr>\n    <tr>\n      <th>52</th>\n      <td>0.160667</td>\n      <td>(waffles, cereals)</td>\n    </tr>\n    <tr>\n      <th>53</th>\n      <td>0.172081</td>\n      <td>(cereals, yogurt)</td>\n    </tr>\n    <tr>\n      <th>63</th>\n      <td>0.172959</td>\n      <td>(cheeses, waffles)</td>\n    </tr>\n    <tr>\n      <th>64</th>\n      <td>0.172081</td>\n      <td>(cheeses, yogurt)</td>\n    </tr>\n    <tr>\n      <th>73</th>\n      <td>0.169447</td>\n      <td>(waffles, dinner rolls)</td>\n    </tr>\n    <tr>\n      <th>74</th>\n      <td>0.166813</td>\n      <td>(dinner rolls, yogurt)</td>\n    </tr>\n    <tr>\n      <th>82</th>\n      <td>0.175593</td>\n      <td>(waffles, dishwashing liquid/detergent)</td>\n    </tr>\n    <tr>\n      <th>83</th>\n      <td>0.158033</td>\n      <td>(dishwashing liquid/detergent, yogurt)</td>\n    </tr>\n    <tr>\n      <th>90</th>\n      <td>0.169447</td>\n      <td>(waffles, eggs)</td>\n    </tr>\n    <tr>\n      <th>91</th>\n      <td>0.174715</td>\n      <td>(eggs, yogurt)</td>\n    </tr>\n    <tr>\n      <th>97</th>\n      <td>0.172959</td>\n      <td>(waffles, ice cream)</td>\n    </tr>\n    <tr>\n      <th>98</th>\n      <td>0.156277</td>\n      <td>(ice cream, yogurt)</td>\n    </tr>\n    <tr>\n      <th>103</th>\n      <td>0.184372</td>\n      <td>(lunch meat, waffles)</td>\n    </tr>\n    <tr>\n      <th>104</th>\n      <td>0.161545</td>\n      <td>(lunch meat, yogurt)</td>\n    </tr>\n    <tr>\n      <th>108</th>\n      <td>0.167691</td>\n      <td>(milk, yogurt)</td>\n    </tr>\n    <tr>\n      <th>111</th>\n      <td>0.166813</td>\n      <td>(waffles, poultry)</td>\n    </tr>\n    <tr>\n      <th>112</th>\n      <td>0.180860</td>\n      <td>(poultry, yogurt)</td>\n    </tr>\n    <tr>\n      <th>114</th>\n      <td>0.177349</td>\n      <td>(waffles, soda)</td>\n    </tr>\n    <tr>\n      <th>115</th>\n      <td>0.167691</td>\n      <td>(soda, yogurt)</td>\n    </tr>\n    <tr>\n      <th>116</th>\n      <td>0.315189</td>\n      <td>(waffles, vegetables)</td>\n    </tr>\n    <tr>\n      <th>117</th>\n      <td>0.319579</td>\n      <td>(yogurt, vegetables)</td>\n    </tr>\n    <tr>\n      <th>118</th>\n      <td>0.173837</td>\n      <td>(waffles, yogurt)</td>\n    </tr>\n    <tr>\n      <th>119</th>\n      <td>0.152766</td>\n      <td>(aluminum foil, yogurt, vegetables)</td>\n    </tr>\n    <tr>\n      <th>128</th>\n      <td>0.157155</td>\n      <td>(eggs, yogurt, vegetables)</td>\n    </tr>\n    <tr>\n      <th>130</th>\n      <td>0.157155</td>\n      <td>(lunch meat, waffles, vegetables)</td>\n    </tr>\n    <tr>\n      <th>131</th>\n      <td>0.152766</td>\n      <td>(poultry, yogurt, vegetables)</td>\n    </tr>\n  </tbody>\n</table>\n</div>"
     },
     "execution_count": 119,
     "metadata": {},
     "output_type": "execute_result"
    }
   ],
   "source": [
    "results = apriori(df, min_support=0.15, use_colnames=True)\n",
    "results[['yogurt' in results[\"itemsets\"][i] or 'waffles' in results[\"itemsets\"][i] for i in range(len(results[\"itemsets\"]))]]"
   ]
  },
  {
   "cell_type": "markdown",
   "metadata": {
    "pycharm": {
     "name": "#%% md\n"
    }
   },
   "source": [
    "10. Построим датасет, из тех элементов, которые не попали в\n",
    "датасет в п. 6 и приведем его к удобному для анализа виду"
   ]
  },
  {
   "cell_type": "code",
   "execution_count": 120,
   "metadata": {
    "pycharm": {
     "name": "#%%\n"
    }
   },
   "outputs": [],
   "source": [
    "results = apriori(df, min_support=0.38, use_colnames=True, max_len=1)\n",
    "new_items = [ list(elem)[0] for elem in results['itemsets']]\n",
    "new_dataset = [[elem for elem in all_data[all_data[1] == id][2]\n",
    "                if not elem in new_items] for id in unique_id]"
   ]
  },
  {
   "cell_type": "code",
   "execution_count": 121,
   "metadata": {
    "pycharm": {
     "name": "#%%\n"
    }
   },
   "outputs": [
    {
     "data": {
      "text/plain": "   all- purpose   beef  butter  coffee/tea  flour  fruits  hand soap  \\\n0          True   True    True       False   True   False      False   \n1         False  False   False       False  False   False       True   \n2         False  False   False       False  False   False       True   \n3          True  False   False       False  False   False      False   \n4          True  False   False       False   True   False       True   \n\n   individual meals  juice  ketchup  ...  pasta   pork  sandwich bags  \\\n0             False  False    False  ...  False   True           True   \n1              True  False    False  ...  False  False           True   \n2             False  False     True  ...  False   True          False   \n3             False   True    False  ...  False  False          False   \n4              True  False    False  ...   True   True          False   \n\n   sandwich loaves  shampoo   soap  spaghetti sauce  sugar  toilet paper  \\\n0            False     True   True            False  False         False   \n1            False     True  False            False  False          True   \n2             True     True   True             True  False          True   \n3            False    False  False            False  False          True   \n4             True    False  False             True  False          True   \n\n   tortillas  \n0      False  \n1       True  \n2      False  \n3      False  \n4       True  \n\n[5 rows x 23 columns]",
      "text/html": "<div>\n<style scoped>\n    .dataframe tbody tr th:only-of-type {\n        vertical-align: middle;\n    }\n\n    .dataframe tbody tr th {\n        vertical-align: top;\n    }\n\n    .dataframe thead th {\n        text-align: right;\n    }\n</style>\n<table border=\"1\" class=\"dataframe\">\n  <thead>\n    <tr style=\"text-align: right;\">\n      <th></th>\n      <th>all- purpose</th>\n      <th>beef</th>\n      <th>butter</th>\n      <th>coffee/tea</th>\n      <th>flour</th>\n      <th>fruits</th>\n      <th>hand soap</th>\n      <th>individual meals</th>\n      <th>juice</th>\n      <th>ketchup</th>\n      <th>...</th>\n      <th>pasta</th>\n      <th>pork</th>\n      <th>sandwich bags</th>\n      <th>sandwich loaves</th>\n      <th>shampoo</th>\n      <th>soap</th>\n      <th>spaghetti sauce</th>\n      <th>sugar</th>\n      <th>toilet paper</th>\n      <th>tortillas</th>\n    </tr>\n  </thead>\n  <tbody>\n    <tr>\n      <th>0</th>\n      <td>True</td>\n      <td>True</td>\n      <td>True</td>\n      <td>False</td>\n      <td>True</td>\n      <td>False</td>\n      <td>False</td>\n      <td>False</td>\n      <td>False</td>\n      <td>False</td>\n      <td>...</td>\n      <td>False</td>\n      <td>True</td>\n      <td>True</td>\n      <td>False</td>\n      <td>True</td>\n      <td>True</td>\n      <td>False</td>\n      <td>False</td>\n      <td>False</td>\n      <td>False</td>\n    </tr>\n    <tr>\n      <th>1</th>\n      <td>False</td>\n      <td>False</td>\n      <td>False</td>\n      <td>False</td>\n      <td>False</td>\n      <td>False</td>\n      <td>True</td>\n      <td>True</td>\n      <td>False</td>\n      <td>False</td>\n      <td>...</td>\n      <td>False</td>\n      <td>False</td>\n      <td>True</td>\n      <td>False</td>\n      <td>True</td>\n      <td>False</td>\n      <td>False</td>\n      <td>False</td>\n      <td>True</td>\n      <td>True</td>\n    </tr>\n    <tr>\n      <th>2</th>\n      <td>False</td>\n      <td>False</td>\n      <td>False</td>\n      <td>False</td>\n      <td>False</td>\n      <td>False</td>\n      <td>True</td>\n      <td>False</td>\n      <td>False</td>\n      <td>True</td>\n      <td>...</td>\n      <td>False</td>\n      <td>True</td>\n      <td>False</td>\n      <td>True</td>\n      <td>True</td>\n      <td>True</td>\n      <td>True</td>\n      <td>False</td>\n      <td>True</td>\n      <td>False</td>\n    </tr>\n    <tr>\n      <th>3</th>\n      <td>True</td>\n      <td>False</td>\n      <td>False</td>\n      <td>False</td>\n      <td>False</td>\n      <td>False</td>\n      <td>False</td>\n      <td>False</td>\n      <td>True</td>\n      <td>False</td>\n      <td>...</td>\n      <td>False</td>\n      <td>False</td>\n      <td>False</td>\n      <td>False</td>\n      <td>False</td>\n      <td>False</td>\n      <td>False</td>\n      <td>False</td>\n      <td>True</td>\n      <td>False</td>\n    </tr>\n    <tr>\n      <th>4</th>\n      <td>True</td>\n      <td>False</td>\n      <td>False</td>\n      <td>False</td>\n      <td>True</td>\n      <td>False</td>\n      <td>True</td>\n      <td>True</td>\n      <td>False</td>\n      <td>False</td>\n      <td>...</td>\n      <td>True</td>\n      <td>True</td>\n      <td>False</td>\n      <td>True</td>\n      <td>False</td>\n      <td>False</td>\n      <td>True</td>\n      <td>False</td>\n      <td>True</td>\n      <td>True</td>\n    </tr>\n  </tbody>\n</table>\n<p>5 rows × 23 columns</p>\n</div>"
     },
     "execution_count": 121,
     "metadata": {},
     "output_type": "execute_result"
    }
   ],
   "source": [
    "te = TransactionEncoder()\n",
    "te_ary = te.fit_transform(new_dataset)\n",
    "df = pd.DataFrame(te_ary, columns=te.columns_)\n",
    "df.head()"
   ]
  },
  {
   "cell_type": "markdown",
   "metadata": {
    "pycharm": {
     "name": "#%% md\n"
    }
   },
   "source": [
    "11. Проведем анализ Apriori для полученного датасета"
   ]
  },
  {
   "cell_type": "code",
   "execution_count": 122,
   "metadata": {
    "pycharm": {
     "name": "#%%\n"
    }
   },
   "outputs": [
    {
     "data": {
      "text/plain": "      support                         itemsets\n0    0.374890                   (all- purpose)\n1    0.374890                           (beef)\n2    0.367867                         (butter)\n3    0.379280                     (coffee/tea)\n4    0.352941                          (flour)\n..        ...                              ...\n271  0.151888  (toilet paper, spaghetti sauce)\n272  0.148376     (tortillas, spaghetti sauce)\n273  0.151888            (sugar, toilet paper)\n274  0.147498               (tortillas, sugar)\n275  0.156277        (tortillas, toilet paper)\n\n[276 rows x 2 columns]",
      "text/html": "<div>\n<style scoped>\n    .dataframe tbody tr th:only-of-type {\n        vertical-align: middle;\n    }\n\n    .dataframe tbody tr th {\n        vertical-align: top;\n    }\n\n    .dataframe thead th {\n        text-align: right;\n    }\n</style>\n<table border=\"1\" class=\"dataframe\">\n  <thead>\n    <tr style=\"text-align: right;\">\n      <th></th>\n      <th>support</th>\n      <th>itemsets</th>\n    </tr>\n  </thead>\n  <tbody>\n    <tr>\n      <th>0</th>\n      <td>0.374890</td>\n      <td>(all- purpose)</td>\n    </tr>\n    <tr>\n      <th>1</th>\n      <td>0.374890</td>\n      <td>(beef)</td>\n    </tr>\n    <tr>\n      <th>2</th>\n      <td>0.367867</td>\n      <td>(butter)</td>\n    </tr>\n    <tr>\n      <th>3</th>\n      <td>0.379280</td>\n      <td>(coffee/tea)</td>\n    </tr>\n    <tr>\n      <th>4</th>\n      <td>0.352941</td>\n      <td>(flour)</td>\n    </tr>\n    <tr>\n      <th>...</th>\n      <td>...</td>\n      <td>...</td>\n    </tr>\n    <tr>\n      <th>271</th>\n      <td>0.151888</td>\n      <td>(toilet paper, spaghetti sauce)</td>\n    </tr>\n    <tr>\n      <th>272</th>\n      <td>0.148376</td>\n      <td>(tortillas, spaghetti sauce)</td>\n    </tr>\n    <tr>\n      <th>273</th>\n      <td>0.151888</td>\n      <td>(sugar, toilet paper)</td>\n    </tr>\n    <tr>\n      <th>274</th>\n      <td>0.147498</td>\n      <td>(tortillas, sugar)</td>\n    </tr>\n    <tr>\n      <th>275</th>\n      <td>0.156277</td>\n      <td>(tortillas, toilet paper)</td>\n    </tr>\n  </tbody>\n</table>\n<p>276 rows × 2 columns</p>\n</div>"
     },
     "execution_count": 122,
     "metadata": {},
     "output_type": "execute_result"
    }
   ],
   "source": [
    "results = apriori(df, min_support=0.1, use_colnames=True)\n",
    "results"
   ]
  },
  {
   "cell_type": "markdown",
   "metadata": {
    "pycharm": {
     "name": "#%% md\n"
    }
   },
   "source": [
    "12. Напишем правило, для вывода всех наборов,\n",
    "в которых хотя бы два элемента начинаются на 's'"
   ]
  },
  {
   "cell_type": "code",
   "execution_count": 123,
   "metadata": {
    "pycharm": {
     "name": "#%%\n"
    }
   },
   "outputs": [
    {
     "data": {
      "text/plain": "[frozenset({'sandwich bags', 'sandwich loaves'}),\n frozenset({'sandwich bags', 'shampoo'}),\n frozenset({'sandwich bags', 'soap'}),\n frozenset({'sandwich bags', 'spaghetti sauce'}),\n frozenset({'sandwich bags', 'sugar'}),\n frozenset({'sandwich loaves', 'shampoo'}),\n frozenset({'sandwich loaves', 'soap'}),\n frozenset({'sandwich loaves', 'spaghetti sauce'}),\n frozenset({'sandwich loaves', 'sugar'}),\n frozenset({'shampoo', 'soap'}),\n frozenset({'shampoo', 'spaghetti sauce'}),\n frozenset({'shampoo', 'sugar'}),\n frozenset({'soap', 'spaghetti sauce'}),\n frozenset({'soap', 'sugar'}),\n frozenset({'spaghetti sauce', 'sugar'})]"
     },
     "execution_count": 123,
     "metadata": {},
     "output_type": "execute_result"
    }
   ],
   "source": [
    "[ elem for elem in results['itemsets'] if len(elem) >= 2 and list(elem)[0][0]=='s' and list(elem)[1][0]=='s']"
   ]
  },
  {
   "cell_type": "markdown",
   "metadata": {
    "pycharm": {
     "name": "#%% md\n"
    }
   },
   "source": [
    "13. Напишем правило, для вывода всех наборов, для\n",
    "которых уровень поддержки изменяется от 0.1 до 0.25"
   ]
  },
  {
   "cell_type": "code",
   "execution_count": 124,
   "metadata": {
    "pycharm": {
     "name": "#%%\n"
    }
   },
   "outputs": [
    {
     "data": {
      "text/plain": "      support                         itemsets\n23   0.144864             (all- purpose, beef)\n24   0.147498           (all- purpose, butter)\n25   0.146620       (all- purpose, coffee/tea)\n26   0.142230            (all- purpose, flour)\n27   0.150132           (all- purpose, fruits)\n..        ...                              ...\n271  0.151888  (toilet paper, spaghetti sauce)\n272  0.148376     (tortillas, spaghetti sauce)\n273  0.151888            (sugar, toilet paper)\n274  0.147498               (tortillas, sugar)\n275  0.156277        (tortillas, toilet paper)\n\n[253 rows x 2 columns]",
      "text/html": "<div>\n<style scoped>\n    .dataframe tbody tr th:only-of-type {\n        vertical-align: middle;\n    }\n\n    .dataframe tbody tr th {\n        vertical-align: top;\n    }\n\n    .dataframe thead th {\n        text-align: right;\n    }\n</style>\n<table border=\"1\" class=\"dataframe\">\n  <thead>\n    <tr style=\"text-align: right;\">\n      <th></th>\n      <th>support</th>\n      <th>itemsets</th>\n    </tr>\n  </thead>\n  <tbody>\n    <tr>\n      <th>23</th>\n      <td>0.144864</td>\n      <td>(all- purpose, beef)</td>\n    </tr>\n    <tr>\n      <th>24</th>\n      <td>0.147498</td>\n      <td>(all- purpose, butter)</td>\n    </tr>\n    <tr>\n      <th>25</th>\n      <td>0.146620</td>\n      <td>(all- purpose, coffee/tea)</td>\n    </tr>\n    <tr>\n      <th>26</th>\n      <td>0.142230</td>\n      <td>(all- purpose, flour)</td>\n    </tr>\n    <tr>\n      <th>27</th>\n      <td>0.150132</td>\n      <td>(all- purpose, fruits)</td>\n    </tr>\n    <tr>\n      <th>...</th>\n      <td>...</td>\n      <td>...</td>\n    </tr>\n    <tr>\n      <th>271</th>\n      <td>0.151888</td>\n      <td>(toilet paper, spaghetti sauce)</td>\n    </tr>\n    <tr>\n      <th>272</th>\n      <td>0.148376</td>\n      <td>(tortillas, spaghetti sauce)</td>\n    </tr>\n    <tr>\n      <th>273</th>\n      <td>0.151888</td>\n      <td>(sugar, toilet paper)</td>\n    </tr>\n    <tr>\n      <th>274</th>\n      <td>0.147498</td>\n      <td>(tortillas, sugar)</td>\n    </tr>\n    <tr>\n      <th>275</th>\n      <td>0.156277</td>\n      <td>(tortillas, toilet paper)</td>\n    </tr>\n  </tbody>\n</table>\n<p>253 rows × 2 columns</p>\n</div>"
     },
     "execution_count": 124,
     "metadata": {},
     "output_type": "execute_result"
    }
   ],
   "source": [
    "a = results[\"support\"] < 0.25\n",
    "b = results[\"support\"] > 0.1\n",
    "results[a & b]"
   ]
  }
 ],
 "metadata": {
  "kernelspec": {
   "display_name": "PyCharm (ml_course)",
   "language": "python",
   "name": "pycharm-ea969764"
  },
  "language_info": {
   "codemirror_mode": {
    "name": "ipython",
    "version": 3
   },
   "file_extension": ".py",
   "mimetype": "text/x-python",
   "name": "python",
   "nbconvert_exporter": "python",
   "pygments_lexer": "ipython3",
   "version": "3.8.5"
  }
 },
 "nbformat": 4,
 "nbformat_minor": 1
}