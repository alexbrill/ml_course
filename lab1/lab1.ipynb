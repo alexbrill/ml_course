{
 "cells": [
  {
   "cell_type": "markdown",
   "metadata": {},
   "source": [
    "## Lab1"
   ]
  },
  {
   "cell_type": "markdown",
   "metadata": {},
   "source": [
    "### Загрузка данных"
   ]
  },
  {
   "cell_type": "code",
   "execution_count": 129,
   "metadata": {
    "pycharm": {
     "name": "#%% code\n"
    }
   },
   "outputs": [
    {
     "name": "stdout",
     "output_type": "stream",
     "text": [
      "      age  creatinine_phosphokinase  ejection_fraction  platelets  \\\n",
      "0    75.0                       582                 20  265000.00   \n",
      "1    55.0                      7861                 38  263358.03   \n",
      "2    65.0                       146                 20  162000.00   \n",
      "3    50.0                       111                 20  210000.00   \n",
      "4    65.0                       160                 20  327000.00   \n",
      "..    ...                       ...                ...        ...   \n",
      "294  62.0                        61                 38  155000.00   \n",
      "295  55.0                      1820                 38  270000.00   \n",
      "296  45.0                      2060                 60  742000.00   \n",
      "297  45.0                      2413                 38  140000.00   \n",
      "298  50.0                       196                 45  395000.00   \n",
      "\n",
      "     serum_creatinine  serum_sodium  \n",
      "0                 1.9           130  \n",
      "1                 1.1           136  \n",
      "2                 1.3           129  \n",
      "3                 1.9           137  \n",
      "4                 2.7           116  \n",
      "..                ...           ...  \n",
      "294               1.1           143  \n",
      "295               1.2           139  \n",
      "296               0.8           138  \n",
      "297               1.4           140  \n",
      "298               1.6           136  \n",
      "\n",
      "[299 rows x 6 columns]\n"
     ]
    }
   ],
   "source": [
    "import pandas as pd\n",
    "import numpy as np\n",
    "\n",
    "df = pd.read_csv('data/heart_failure_clinical_records_dataset.csv')\n",
    "df = df.drop(columns =['anaemia','diabetes','high_blood_pressure','sex','smoking','time','DEATH_EVENT'])\n",
    "print(df)"
   ]
  },
  {
   "cell_type": "code",
   "execution_count": 130,
   "outputs": [],
   "source": [
    "names = [\"age\", \"creatinine_phosphokinase\", \"ejection_fraction\", \"platelets\", \"serum_creatinine\", \"serum_sodium\"]"
   ],
   "metadata": {
    "collapsed": false,
    "pycharm": {
     "name": "#%%\n"
    }
   }
  },
  {
   "cell_type": "code",
   "execution_count": 131,
   "metadata": {
    "pycharm": {
     "name": "#%% code\n"
    }
   },
   "outputs": [
    {
     "data": {
      "text/plain": "<Figure size 432x288 with 6 Axes>",
      "image/png": "[encoded data removed]"
     },
     "metadata": {
      "needs_background": "light"
     },
     "output_type": "display_data"
    }
   ],
   "source": [
    "import matplotlib.pyplot as plt\n",
    "\n",
    "n_bins = 20\n",
    "fig, axs = plt.subplots(2, 3)\n",
    "\n",
    "for i in range(2):\n",
    "    for j in range(3):\n",
    "        axs[i, j].hist(df[names[i*3+j]].values, bins=n_bins)\n",
    "        axs[i, j].set_title(names[i*3+j])\n",
    "\n",
    "plt.show()"
   ]
  },
  {
   "cell_type": "code",
   "execution_count": 132,
   "metadata": {},
   "outputs": [
    {
     "name": "stdout",
     "output_type": "stream",
     "text": [
      "diapason for age: (40.0 : 95.0)\n",
      "diapason for creatinine_phosphokinase: (23 : 7861)\n",
      "diapason for ejection_fraction: (14 : 80)\n",
      "diapason for platelets: (25100.0 : 850000.0)\n",
      "diapason for serum_creatinine: (0.5 : 9.4)\n",
      "diapason for serum_sodium: (113 : 148)\n"
     ]
    }
   ],
   "source": [
    "for name in names:\n",
    "    print(\"diapason for {}: ({} : {})\".format(name, df[name].min(), df[name].max()))"
   ]
  },
  {
   "cell_type": "code",
   "execution_count": 133,
   "metadata": {},
   "outputs": [
    {
     "name": "stdout",
     "output_type": "stream",
     "text": [
      "most frequent value for age: 60.0\n",
      "most frequent value for creatinine_phosphokinase: 582\n",
      "most frequent value for ejection_fraction: 35\n",
      "most frequent value for platelets: 263358.03\n",
      "most frequent value for serum_creatinine: 1.0\n",
      "most frequent value for serum_sodium: 136\n"
     ]
    }
   ],
   "source": [
    "for name in names:\n",
    "    print(\"most frequent value for {}: {}\".format(name, df[name].value_counts().idxmax()))"
   ]
  },
  {
   "cell_type": "code",
   "execution_count": 134,
   "metadata": {
    "pycharm": {
     "name": "#%%\n"
    }
   },
   "outputs": [],
   "source": [
    "data = df.to_numpy(dtype='float')"
   ]
  },
  {
   "cell_type": "markdown",
   "metadata": {},
   "source": [
    "### Стандартизация данных"
   ]
  },
  {
   "cell_type": "code",
   "execution_count": 135,
   "metadata": {
    "pycharm": {
     "name": "#%%\n"
    }
   },
   "outputs": [],
   "source": [
    "from sklearn import preprocessing\n",
    "\n",
    "scaler = preprocessing.StandardScaler().fit(data[:150,:])"
   ]
  },
  {
   "cell_type": "code",
   "execution_count": 136,
   "metadata": {
    "pycharm": {
     "name": "#%%\n"
    }
   },
   "outputs": [],
   "source": [
    "data_scaled = scaler.transform(data)"
   ]
  },
  {
   "cell_type": "code",
   "execution_count": 137,
   "metadata": {
    "pycharm": {
     "name": "#%%\n"
    }
   },
   "outputs": [
    {
     "data": {
      "text/plain": "<Figure size 432x288 with 6 Axes>",
      "image/png": "[encoded data removed]"
     },
     "metadata": {
      "needs_background": "light"
     },
     "output_type": "display_data"
    }
   ],
   "source": [
    "fig, axs = plt.subplots(2, 3)\n",
    "\n",
    "for i in range(2):\n",
    "    for j in range(3):\n",
    "        axs[i, j].hist(data_scaled[:,i*3+j], bins=n_bins)\n",
    "        axs[i, j].set_title(names[i*3+j])\n",
    "\n",
    "plt.show()"
   ]
  },
  {
   "cell_type": "markdown",
   "metadata": {
    "pycharm": {
     "name": "#%% md\n"
    }
   },
   "source": [
    "Стандартизация приводит все исходные значения набора данных,\n",
    "независимо от их начальных распределений и единиц измерения,\n",
    "к набору значений из распределения с нулевым средним и\n",
    "стандартным отклонением, равным 1. В результате формируется\n",
    "так называемая стандартизированная шкала, которая определяет\n",
    "место каждого значения в наборе данных, измеряя его\n",
    "отклонение от среднего в единицах стандартного отклонения."
   ]
  },
  {
   "cell_type": "code",
   "execution_count": 138,
   "metadata": {
    "pycharm": {
     "name": "#%%\n"
    }
   },
   "outputs": [
    {
     "name": "stdout",
     "output_type": "stream",
     "text": [
      "For age:\n",
      "МО before стандарт.: 60.83389297658862\n",
      "СКО before стандарт.: 11.874901429842655\n",
      "МО after стандарт.: -0.16970362369106984\n",
      "СКО after стандарт.: 0.9538237876978354\n",
      "\n",
      "For creatinine_phosphokinase:\n",
      "МО before стандарт.: 581.8394648829432\n",
      "СКО before стандарт.: 968.6639668032415\n",
      "МО after стандарт.: -0.021276750290383013\n",
      "СКО after стандарт.: 0.8141790488228113\n",
      "\n",
      "For ejection_fraction:\n",
      "МО before стандарт.: 38.08361204013378\n",
      "СКО before стандарт.: 11.815033462318585\n",
      "МО after стандарт.: 0.01050249484809085\n",
      "СКО after стандарт.: 0.9061082161919123\n",
      "\n",
      "For platelets:\n",
      "МО before стандарт.: 263358.02926421404\n",
      "СКО before стандарт.: 97640.54765451424\n",
      "МО after стандарт.: -0.035228788194085287\n",
      "СКО after стандарт.: 1.0150611342848024\n",
      "\n",
      "For serum_creatinine:\n",
      "МО before стандарт.: 1.3938795986622072\n",
      "СКО before стандарт.: 1.0327786652795918\n",
      "МО after стандарт.: -0.10864080163893569\n",
      "СКО after стандарт.: 0.8854288727548568\n",
      "\n",
      "For serum_sodium:\n",
      "МО before стандарт.: 136.62541806020067\n",
      "СКО before стандарт.: 4.405092379513557\n",
      "МО after стандарт.: 0.03790759894920013\n",
      "СКО after стандарт.: 0.9703735961735016\n",
      "\n"
     ]
    }
   ],
   "source": [
    "for i in range(6):\n",
    "    print(\"For {}:\".format(names[i]))\n",
    "    print(\"МО before стандарт.: {}\".format(np.mean(data[:,i])))\n",
    "    print(\"СКО before стандарт.: {}\".format(np.std(data[:,i])))\n",
    "    print(\"МО after стандарт.: {}\".format(np.mean(data_scaled[:,i])))\n",
    "    print(\"СКО after стандарт.: {}\".format(np.std(data_scaled[:,i])))\n",
    "    print()"
   ]
  },
  {
   "cell_type": "code",
   "metadata": {
    "pycharm": {
     "name": "#%%\n"
    }
   },
   "source": [
    "for i in range(6):\n",
    "    print(\"For {}:\".format(names[i]))\n",
    "    print(\"MO: {}\".format(scaler.mean_[i]))\n",
    "    print(\"Дисп: {}\".format(scaler.var_[i]))\n",
    "    print()"
   ],
   "execution_count": 139,
   "outputs": [
    {
     "name": "stdout",
     "output_type": "stream",
     "text": [
      "For age:\n",
      "MO: 62.946666666666665\n",
      "Дисп: 154.99715555555557\n",
      "\n",
      "For creatinine_phosphokinase:\n",
      "MO: 607.1533333333333\n",
      "Дисп: 1415488.8231555554\n",
      "\n",
      "For ejection_fraction:\n",
      "MO: 37.946666666666665\n",
      "Дисп: 170.02382222222224\n",
      "\n",
      "For platelets:\n",
      "MO: 266746.74946666666\n",
      "Дисп: 9252860499.078917\n",
      "\n",
      "For serum_creatinine:\n",
      "MO: 1.5206000000000002\n",
      "Дисп: 1.3605269733333336\n",
      "\n",
      "For serum_sodium:\n",
      "MO: 136.45333333333335\n",
      "Дисп: 20.607822222222225\n",
      "\n"
     ]
    }
   ]
  },
  {
   "cell_type": "code",
   "execution_count": 140,
   "metadata": {},
   "outputs": [],
   "source": [
    "scaler = preprocessing.StandardScaler().fit(data)\n",
    "data_scaled = scaler.transform(data)"
   ]
  },
  {
   "cell_type": "code",
   "execution_count": 141,
   "outputs": [
    {
     "name": "stdout",
     "output_type": "stream",
     "text": [
      "For age:\n",
      "МО before стандарт.: 60.83389297658862\n",
      "СКО before стандарт.: 11.874901429842655\n",
      "МО after стандарт.: 5.703353062957326e-16\n",
      "СКО after стандарт.: 0.9999999999999998\n",
      "\n",
      "For creatinine_phosphokinase:\n",
      "МО before стандарт.: 581.8394648829432\n",
      "СКО before стандарт.: 968.6639668032415\n",
      "МО after стандарт.: 0.0\n",
      "СКО after стандарт.: 1.0\n",
      "\n",
      "For ejection_fraction:\n",
      "МО before стандарт.: 38.08361204013378\n",
      "СКО before стандарт.: 11.815033462318585\n",
      "МО after стандарт.: -3.267546025652635e-17\n",
      "СКО after стандарт.: 1.0\n",
      "\n",
      "For platelets:\n",
      "МО before стандарт.: 263358.02926421404\n",
      "СКО before стандарт.: 97640.54765451424\n",
      "МО after стандарт.: 7.723290606088045e-17\n",
      "СКО after стандарт.: 1.0\n",
      "\n",
      "For serum_creatinine:\n",
      "МО before стандарт.: 1.3938795986622072\n",
      "СКО before стандарт.: 1.0327786652795918\n",
      "МО after стандарт.: 1.4258382657393315e-16\n",
      "СКО after стандарт.: 1.0\n",
      "\n",
      "For serum_sodium:\n",
      "МО before стандарт.: 136.62541806020067\n",
      "СКО before стандарт.: 4.405092379513557\n",
      "МО after стандарт.: -8.673849449914267e-16\n",
      "СКО after стандарт.: 0.9999999999999999\n",
      "\n"
     ]
    }
   ],
   "source": [
    "for i in range(6):\n",
    "    print(\"For {}:\".format(names[i]))\n",
    "    print(\"МО before стандарт.: {}\".format(np.mean(data[:,i])))\n",
    "    print(\"СКО before стандарт.: {}\".format(np.std(data[:,i])))\n",
    "    print(\"МО after стандарт.: {}\".format(np.mean(data_scaled[:,i])))\n",
    "    print(\"СКО after стандарт.: {}\".format(np.std(data_scaled[:,i])))\n",
    "    print()"
   ],
   "metadata": {
    "collapsed": false,
    "pycharm": {
     "name": "#%%\n"
    }
   }
  },
  {
   "cell_type": "code",
   "execution_count": 142,
   "outputs": [
    {
     "name": "stdout",
     "output_type": "stream",
     "text": [
      "For age:\n",
      "MO: 60.83389297658862\n",
      "Дисп: 141.01328396847913\n",
      "\n",
      "For creatinine_phosphokinase:\n",
      "MO: 581.8394648829432\n",
      "Дисп: 938309.8805829913\n",
      "\n",
      "For ejection_fraction:\n",
      "MO: 38.08361204013378\n",
      "Дисп: 139.5950157157079\n",
      "\n",
      "For platelets:\n",
      "MO: 263358.02926421404\n",
      "Дисп: 9533676546.273466\n",
      "\n",
      "For serum_creatinine:\n",
      "MO: 1.3938795986622072\n",
      "Дисп: 1.066631771456695\n",
      "\n",
      "For serum_sodium:\n",
      "MO: 136.62541806020067\n",
      "Дисп: 19.404838872048412\n",
      "\n"
     ]
    }
   ],
   "source": [
    "for i in range(6):\n",
    "    print(\"For {}:\".format(names[i]))\n",
    "    print(\"MO: {}\".format(scaler.mean_[i]))\n",
    "    print(\"Дисп: {}\".format(scaler.var_[i]))\n",
    "    print()"
   ],
   "metadata": {
    "collapsed": false,
    "pycharm": {
     "name": "#%%\n"
    }
   }
  },
  {
   "cell_type": "markdown",
   "source": [
    "#!!!!!!!!!!!!!!!!!!!!!!!!!\n",
    "Данные бла бла бла"
   ],
   "metadata": {
    "collapsed": false
   }
  },
  {
   "cell_type": "markdown",
   "source": [
    "### Приведение к диапазону"
   ],
   "metadata": {
    "collapsed": false
   }
  },
  {
   "cell_type": "code",
   "execution_count": 143,
   "outputs": [],
   "source": [
    "min_max_scaler = preprocessing.MinMaxScaler().fit(data)\n",
    "data_min_max_scaled = min_max_scaler.transform(data)"
   ],
   "metadata": {
    "collapsed": false,
    "pycharm": {
     "name": "#%%\n"
    }
   }
  },
  {
   "cell_type": "code",
   "execution_count": 144,
   "outputs": [
    {
     "data": {
      "text/plain": "<Figure size 432x288 with 6 Axes>",
      "image/png": "[encoded data removed]"
     },
     "metadata": {
      "needs_background": "light"
     },
     "output_type": "display_data"
    }
   ],
   "source": [
    "fig, axs = plt.subplots(2, 3)\n",
    "\n",
    "for i in range(2):\n",
    "    for j in range(3):\n",
    "        axs[i, j].hist(data_min_max_scaled[:,i*3+j], bins=n_bins)\n",
    "        axs[i, j].set_title(names[i*3+j])\n",
    "\n",
    "plt.show()"
   ],
   "metadata": {
    "collapsed": false,
    "pycharm": {
     "name": "#%%\n"
    }
   }
  },
  {
   "cell_type": "code",
   "execution_count": 145,
   "outputs": [
    {
     "data": {
      "text/plain": "array([5.500e+01, 7.838e+03, 6.600e+01, 8.249e+05, 8.900e+00, 3.500e+01])"
     },
     "execution_count": 145,
     "metadata": {},
     "output_type": "execute_result"
    }
   ],
   "source": [
    "#!!!!!!!!!!!!!!!!!!!!!!!!!!!!\n",
    "min_max_scaler.data_range_"
   ],
   "metadata": {
    "collapsed": false,
    "pycharm": {
     "name": "#%%\n"
    }
   }
  },
  {
   "cell_type": "code",
   "execution_count": 146,
   "outputs": [],
   "source": [
    "max_abs_scaler = preprocessing.MaxAbsScaler().fit(data)\n",
    "data_max_abs_scaled = max_abs_scaler.transform(data)"
   ],
   "metadata": {
    "collapsed": false,
    "pycharm": {
     "name": "#%%\n"
    }
   }
  },
  {
   "cell_type": "code",
   "execution_count": 147,
   "outputs": [
    {
     "data": {
      "text/plain": "<Figure size 432x288 with 6 Axes>",
      "image/png": "[encoded data removed]"
     },
     "metadata": {
      "needs_background": "light"
     },
     "output_type": "display_data"
    }
   ],
   "source": [
    "fig, axs = plt.subplots(2, 3)\n",
    "for i in range(2):\n",
    "    for j in range(3):\n",
    "        axs[i, j].hist(data_max_abs_scaled[:,i*3+j], bins=n_bins)\n",
    "        axs[i, j].set_title(names[i*3+j])\n",
    "\n",
    "plt.show()"
   ],
   "metadata": {
    "collapsed": false,
    "pycharm": {
     "name": "#%%\n"
    }
   }
  },
  {
   "cell_type": "code",
   "execution_count": 148,
   "outputs": [],
   "source": [
    "robust_scaler = preprocessing.RobustScaler().fit(data)\n",
    "data_robust_scaled = robust_scaler.transform(data)"
   ],
   "metadata": {
    "collapsed": false,
    "pycharm": {
     "name": "#%%\n"
    }
   }
  },
  {
   "cell_type": "code",
   "execution_count": 149,
   "outputs": [
    {
     "data": {
      "text/plain": "<Figure size 432x288 with 6 Axes>",
      "image/png": "[encoded data removed]"
     },
     "metadata": {
      "needs_background": "light"
     },
     "output_type": "display_data"
    }
   ],
   "source": [
    "fig, axs = plt.subplots(2, 3)\n",
    "for i in range(2):\n",
    "    for j in range(3):\n",
    "        axs[i, j].hist(data_robust_scaled[:,i*3+j], bins=n_bins)\n",
    "        axs[i, j].set_title(names[i*3+j])\n",
    "\n",
    "plt.show()"
   ],
   "metadata": {
    "collapsed": false,
    "pycharm": {
     "name": "#%%\n"
    }
   }
  },
  {
   "cell_type": "code",
   "execution_count": 193,
   "outputs": [],
   "source": [
    "class MyScaler:\n",
    "    def __init__(self):\n",
    "        self.a = -5\n",
    "        self.b = 10\n",
    "        self.max = []\n",
    "        self.min = []\n",
    "\n",
    "    def fit(self, data):\n",
    "        for i in range(data.shape[1]):\n",
    "            self.min.append(np.min(data[:, i]))\n",
    "            self.max.append(np.max(data[:, i]))\n",
    "        return self\n",
    "\n",
    "    def transform(self, data):\n",
    "        scl_data = data.copy()\n",
    "        for i in range(data.shape[1]):\n",
    "                scl_data[:, i] =  (data[:, i] - self.min[i]) / (self.max[i] - self.min[i])\n",
    "                scl_data[:, i] = (scl_data[:, i] * (self.b - self.a)) + self.a\n",
    "        return scl_data"
   ],
   "metadata": {
    "collapsed": false,
    "pycharm": {
     "name": "#%%\n"
    }
   }
  },
  {
   "cell_type": "code",
   "execution_count": 194,
   "outputs": [],
   "source": [
    "my_scaler = MyScaler().fit(data)\n",
    "data_my_scaled = my_scaler.transform(data)"
   ],
   "metadata": {
    "collapsed": false,
    "pycharm": {
     "name": "#%%\n"
    }
   }
  },
  {
   "cell_type": "code",
   "execution_count": 195,
   "outputs": [
    {
     "data": {
      "text/plain": "<Figure size 432x288 with 6 Axes>",
      "image/png": "[encoded data removed]"
     },
     "metadata": {
      "needs_background": "light"
     },
     "output_type": "display_data"
    }
   ],
   "source": [
    "fig, axs = plt.subplots(2, 3)\n",
    "for i in range(2):\n",
    "    for j in range(3):\n",
    "        axs[i, j].hist(data_my_scaled[:,i*3+j], bins=n_bins)\n",
    "        axs[i, j].set_title(names[i*3+j])\n",
    "\n",
    "plt.show()"
   ],
   "metadata": {
    "collapsed": false,
    "pycharm": {
     "name": "#%%\n"
    }
   }
  },
  {
   "cell_type": "markdown",
   "source": [
    "### Нелинейные преобразования"
   ],
   "metadata": {
    "collapsed": false,
    "pycharm": {
     "name": "#%% md\n"
    }
   }
  }
 ],
 "metadata": {
  "kernelspec": {
   "display_name": "PyCharm (ml_course)",
   "language": "python",
   "name": "pycharm-ea969764"
  },
  "language_info": {
   "codemirror_mode": {
    "name": "ipython",
    "version": 3
   },
   "file_extension": ".py",
   "mimetype": "text/x-python",
   "name": "python",
   "nbconvert_exporter": "python",
   "pygments_lexer": "ipython3",
   "version": "3.8.2"
  }
 },
 "nbformat": 4,
 "nbformat_minor": 1
}