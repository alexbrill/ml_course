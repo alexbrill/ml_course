{
 "cells": [
  {
   "cell_type": "markdown",
   "source": [
    "## Lab1"
   ],
   "metadata": {
    "collapsed": false
   }
  },
  {
   "cell_type": "code",
   "execution_count": 1,
   "metadata": {
    "pycharm": {
     "name": "#%% code\n"
    }
   },
   "outputs": [
    {
     "name": "stdout",
     "output_type": "stream",
     "text": [
      "      age  creatinine_phosphokinase  ejection_fraction  platelets  \\\n",
      "0    75.0                       582                 20  265000.00   \n",
      "1    55.0                      7861                 38  263358.03   \n",
      "2    65.0                       146                 20  162000.00   \n",
      "3    50.0                       111                 20  210000.00   \n",
      "4    65.0                       160                 20  327000.00   \n",
      "..    ...                       ...                ...        ...   \n",
      "294  62.0                        61                 38  155000.00   \n",
      "295  55.0                      1820                 38  270000.00   \n",
      "296  45.0                      2060                 60  742000.00   \n",
      "297  45.0                      2413                 38  140000.00   \n",
      "298  50.0                       196                 45  395000.00   \n",
      "\n",
      "     serum_creatinine  serum_sodium  \n",
      "0                 1.9           130  \n",
      "1                 1.1           136  \n",
      "2                 1.3           129  \n",
      "3                 1.9           137  \n",
      "4                 2.7           116  \n",
      "..                ...           ...  \n",
      "294               1.1           143  \n",
      "295               1.2           139  \n",
      "296               0.8           138  \n",
      "297               1.4           140  \n",
      "298               1.6           136  \n",
      "\n",
      "[299 rows x 6 columns]\n"
     ]
    }
   ],
   "source": [
    "import pandas as pd\n",
    "import numpy as np\n",
    "\n",
    "df = pd.read_csv('data/heart_failure_clinical_records_dataset.csv')\n",
    "df = df.drop(columns =['anaemia','diabetes','high_blood_pressure','sex','smoking','time','DEATH_EVENT'])\n",
    "print(df)"
   ]
  },
  {
   "cell_type": "code",
   "execution_count": 2,
   "metadata": {
    "pycharm": {
     "name": "#%% code\n"
    }
   },
   "outputs": [
    {
     "data": {
      "text/plain": "<Figure size 432x288 with 6 Axes>",
      "image/png": "[encoded data removed]"
     },
     "metadata": {
      "needs_background": "light"
     },
     "output_type": "display_data"
    }
   ],
   "source": [
    "import matplotlib.pyplot as plt\n",
    "\n",
    "n_bins = 20\n",
    "fig, axs = plt.subplots(2, 3)\n",
    "\n",
    "axs[0, 0].hist(df['age'].values, bins=n_bins)\n",
    "axs[0, 0].set_title('age')\n",
    "\n",
    "axs[0, 1].hist(df['creatinine_phosphokinase'].values, bins=n_bins)\n",
    "axs[0, 1].set_title('creatinine_phosphokinase')\n",
    "\n",
    "axs[0, 2].hist(df['ejection_fraction'].values, bins=n_bins)\n",
    "axs[0, 2].set_title('ejection_fraction')\n",
    "\n",
    "axs[1, 0].hist(df['platelets'].values, bins=n_bins)\n",
    "axs[1, 0].set_title('platelets')\n",
    "\n",
    "axs[1, 1].hist(df['serum_creatinine'].values, bins=n_bins)\n",
    "axs[1, 1].set_title('serum_creatinine')\n",
    "\n",
    "axs[1, 2].hist(df['serum_sodium'].values, bins=n_bins)\n",
    "axs[1, 2].set_title('serum_sodium')\n",
    "\n",
    "plt.show()"
   ]
  },
  {
   "cell_type": "markdown",
   "source": [],
   "metadata": {
    "collapsed": false,
    "pycharm": {
     "name": "#%% md\n"
    }
   }
  },
  {
   "cell_type": "code",
   "execution_count": 2,
   "outputs": [],
   "source": [],
   "metadata": {
    "collapsed": false,
    "pycharm": {
     "name": "#%%\n"
    }
   }
  },
  {
   "cell_type": "code",
   "execution_count": null,
   "metadata": {},
   "outputs": [],
   "source": []
  }
 ],
 "metadata": {
  "kernelspec": {
   "name": "pycharm-ea969764",
   "language": "python",
   "display_name": "PyCharm (ml_course)"
  },
  "language_info": {
   "codemirror_mode": {
    "name": "ipython",
    "version": 3
   },
   "file_extension": ".py",
   "mimetype": "text/x-python",
   "name": "python",
   "nbconvert_exporter": "python",
   "pygments_lexer": "ipython3",
   "version": "3.8.2"
  }
 },
 "nbformat": 4,
 "nbformat_minor": 1
}