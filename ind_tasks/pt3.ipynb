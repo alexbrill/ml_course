{
 "cells": [
  {
   "cell_type": "markdown",
   "metadata": {
    "collapsed": true,
    "pycharm": {
     "name": "#%% md\n"
    }
   },
   "source": [
    "# PRACTICAL TASK 3"
   ]
  },
  {
   "cell_type": "code",
   "execution_count": 687,
   "outputs": [],
   "source": [
    "import pandas as pd\n",
    "import apyori as apriori\n",
    "import numpy as np\n",
    "import sklearn.preprocessing as preprocessing\n",
    "import collections\n",
    "import itertools"
   ],
   "metadata": {
    "collapsed": false,
    "pycharm": {
     "name": "#%%\n"
    }
   }
  },
  {
   "cell_type": "markdown",
   "source": [
    "## TASK 1"
   ],
   "metadata": {
    "collapsed": false,
    "pycharm": {
     "name": "#%% md\n"
    }
   }
  },
  {
   "cell_type": "code",
   "execution_count": 688,
   "outputs": [],
   "source": [
    "itemset = [\"ABCD\", \"ACDF\", \"ACDEG\", \"ABDF\", \"BCG\", \"DFG\", \"ABG\", \"CDFG\"]\n",
    "itemset_list = [list(str) for str in itemset]\n",
    "tid = [n for n in range(1, 9)]"
   ],
   "metadata": {
    "collapsed": false,
    "pycharm": {
     "name": "#%%\n"
    }
   }
  },
  {
   "cell_type": "code",
   "execution_count": 689,
   "outputs": [
    {
     "data": {
      "text/plain": "   tid  A  B  C  D  F  E  G\n0    1  1  1  1  1  0  0  0\n1    2  1  0  1  1  1  0  0\n2    3  1  0  1  1  0  1  1\n3    4  1  1  0  1  1  0  0\n4    5  0  1  1  0  0  0  1",
      "text/html": "<div>\n<style scoped>\n    .dataframe tbody tr th:only-of-type {\n        vertical-align: middle;\n    }\n\n    .dataframe tbody tr th {\n        vertical-align: top;\n    }\n\n    .dataframe thead th {\n        text-align: right;\n    }\n</style>\n<table border=\"1\" class=\"dataframe\">\n  <thead>\n    <tr style=\"text-align: right;\">\n      <th></th>\n      <th>tid</th>\n      <th>A</th>\n      <th>B</th>\n      <th>C</th>\n      <th>D</th>\n      <th>F</th>\n      <th>E</th>\n      <th>G</th>\n    </tr>\n  </thead>\n  <tbody>\n    <tr>\n      <th>0</th>\n      <td>1</td>\n      <td>1</td>\n      <td>1</td>\n      <td>1</td>\n      <td>1</td>\n      <td>0</td>\n      <td>0</td>\n      <td>0</td>\n    </tr>\n    <tr>\n      <th>1</th>\n      <td>2</td>\n      <td>1</td>\n      <td>0</td>\n      <td>1</td>\n      <td>1</td>\n      <td>1</td>\n      <td>0</td>\n      <td>0</td>\n    </tr>\n    <tr>\n      <th>2</th>\n      <td>3</td>\n      <td>1</td>\n      <td>0</td>\n      <td>1</td>\n      <td>1</td>\n      <td>0</td>\n      <td>1</td>\n      <td>1</td>\n    </tr>\n    <tr>\n      <th>3</th>\n      <td>4</td>\n      <td>1</td>\n      <td>1</td>\n      <td>0</td>\n      <td>1</td>\n      <td>1</td>\n      <td>0</td>\n      <td>0</td>\n    </tr>\n    <tr>\n      <th>4</th>\n      <td>5</td>\n      <td>0</td>\n      <td>1</td>\n      <td>1</td>\n      <td>0</td>\n      <td>0</td>\n      <td>0</td>\n      <td>1</td>\n    </tr>\n  </tbody>\n</table>\n</div>"
     },
     "execution_count": 689,
     "metadata": {},
     "output_type": "execute_result"
    }
   ],
   "source": [
    "df = pd.DataFrame(tid, columns=[\"tid\"])\n",
    "\n",
    "unique_items = list(collections.OrderedDict.fromkeys(\"\".join(itemset)).keys())\n",
    "\n",
    "for i in range(len(unique_items)):\n",
    "    df[unique_items[i]] = [1 if unique_items[i] in s else 0 for s in itemset_list]\n",
    "\n",
    "df.head()"
   ],
   "metadata": {
    "collapsed": false,
    "pycharm": {
     "name": "#%%\n"
    }
   }
  },
  {
   "cell_type": "code",
   "execution_count": 690,
   "outputs": [],
   "source": [
    "support = 3/8"
   ],
   "metadata": {
    "collapsed": false,
    "pycharm": {
     "name": "#%%\n"
    }
   }
  },
  {
   "cell_type": "code",
   "execution_count": 691,
   "outputs": [],
   "source": [
    "F = []"
   ],
   "metadata": {
    "collapsed": false,
    "pycharm": {
     "name": "#%%\n"
    }
   }
  },
  {
   "cell_type": "code",
   "execution_count": 692,
   "outputs": [
    {
     "name": "stdout",
     "output_type": "stream",
     "text": [
      "Step 0\n",
      "support of A: \t0.625\n",
      "support of B: \t0.5\n",
      "support of C: \t0.625\n",
      "support of D: \t0.75\n",
      "support of F: \t0.5\n",
      "support of E: \t0.125\n",
      "support of G: \t0.625\n",
      "frequent sets: {'A': 0.625, 'B': 0.5, 'C': 0.625, 'D': 0.75, 'F': 0.5, 'G': 0.625}\n",
      "\n",
      "Step 1\n",
      "amount of possible combinations of 2 elements: \t21\n",
      "amount of combinations after reduction: \t15\n",
      "\n",
      "support of ('A', 'B'): \t0.375\n",
      "support of ('A', 'C'): \t0.375\n",
      "support of ('A', 'D'): \t0.5\n",
      "support of ('A', 'F'): \t0.25\n",
      "support of ('A', 'G'): \t0.25\n",
      "support of ('B', 'C'): \t0.25\n",
      "support of ('B', 'D'): \t0.25\n",
      "support of ('B', 'F'): \t0.125\n",
      "support of ('B', 'G'): \t0.25\n",
      "support of ('C', 'D'): \t0.5\n",
      "support of ('C', 'F'): \t0.25\n",
      "support of ('C', 'G'): \t0.375\n",
      "support of ('D', 'F'): \t0.5\n",
      "support of ('D', 'G'): \t0.375\n",
      "support of ('F', 'G'): \t0.25\n",
      "frequent sets: {('A', 'B'): 0.375, ('A', 'C'): 0.375, ('A', 'D'): 0.5, ('C', 'D'): 0.5, ('C', 'G'): 0.375, ('D', 'F'): 0.5, ('D', 'G'): 0.375}\n",
      "\n",
      "Step 2\n",
      "amount of possible combinations of 3 elements: \t35\n",
      "amount of combinations after reduction: \t2\n",
      "\n",
      "support of ('A', 'C', 'D'): \t0.375\n",
      "support of ('C', 'D', 'G'): \t0.25\n",
      "frequent sets: {('A', 'C', 'D'): 0.375}\n",
      "\n",
      "Step 3\n",
      "amount of possible combinations of 4 elements: \t35\n",
      "amount of combinations after reduction: \t0\n",
      "\n",
      "frequent sets: {}\n",
      "\n"
     ]
    }
   ],
   "source": [
    "# первый этап\n",
    "print(f\"Step 0\")\n",
    "\n",
    "F.append(dict())\n",
    "\n",
    "# подсчет поддержки для всех уникальных элементов\n",
    "for item in unique_items:\n",
    "    local_support = np.sum(df[item]) / df.shape[1]\n",
    "    print(f\"support of {item}: \\t{local_support}\")\n",
    "    if local_support >= support:\n",
    "        F[0][item] = np.sum(df[item]) / df.shape[1]\n",
    "\n",
    "print(f\"frequent sets: {F[0]}\")\n",
    "print()\n",
    "\n",
    "# следующие шаги\n",
    "k = 1\n",
    "\n",
    "while bool(F[k-1]): # пока есть часто встречающиеся наборы\n",
    "    print(f\"Step {k}\")\n",
    "    C = dict()\n",
    "    combinations = list(itertools.combinations(unique_items, k+1)) #получаем все возможные комбинации элементов\n",
    "\n",
    "    print(f\"amount of possible combinations of {k+1} elements: \\t{len(combinations)}\")\n",
    "\n",
    "    # генерация комбинаций с учетом поддержки наборов меньшего размера\n",
    "    for i in reversed(range(len(combinations))):\n",
    "        if k > 1:\n",
    "            local_combinations = list(itertools.combinations(combinations[i], k))\n",
    "        else:\n",
    "            local_combinations = [combinations[i][0], combinations[i][1]]\n",
    "\n",
    "        for j in range(len(local_combinations)):\n",
    "            if not F[k-1].get(local_combinations[j], False):\n",
    "                combinations.pop(i)\n",
    "                break\n",
    "\n",
    "    print(f\"amount of combinations after reduction: \\t{len(combinations)}\")\n",
    "    print()\n",
    "\n",
    "    # для каждой комбинации найдем поддержку\n",
    "    for combination in combinations:\n",
    "        col_mult = df[combination[0]].copy()\n",
    "        for i in range(1, len(combination)):\n",
    "            col_mult *= df[combination[i]]\n",
    "\n",
    "        local_support = np.sum(col_mult) / df.shape[1]\n",
    "\n",
    "        print(f\"support of {combination}: \\t{local_support}\")\n",
    "\n",
    "        # если поддержка больше установленной, то набор проходит на следующий этап\n",
    "        if local_support >= support:\n",
    "            C[combination] = np.sum(col_mult) / df.shape[1]\n",
    "\n",
    "    F.append(C)\n",
    "\n",
    "    print(f\"frequent sets: {F[k]}\")\n",
    "    print()\n",
    "\n",
    "    k = k + 1"
   ],
   "metadata": {
    "collapsed": false,
    "pycharm": {
     "name": "#%%\n"
    }
   }
  },
  {
   "cell_type": "code",
   "execution_count": null,
   "outputs": [],
   "source": [
    "#confidence and lift"
   ],
   "metadata": {
    "collapsed": false,
    "pycharm": {
     "name": "#%%\n"
    }
   }
  },
  {
   "cell_type": "code",
   "execution_count": 693,
   "outputs": [],
   "source": [
    "# FPGRowth"
   ],
   "metadata": {
    "collapsed": false,
    "pycharm": {
     "name": "#%%\n"
    }
   }
  },
  {
   "cell_type": "code",
   "execution_count": 693,
   "outputs": [],
   "source": [],
   "metadata": {
    "collapsed": false,
    "pycharm": {
     "name": "#%%\n"
    }
   }
  }
 ],
 "metadata": {
  "kernelspec": {
   "name": "pycharm-ea969764",
   "language": "python",
   "display_name": "PyCharm (ml_course)"
  },
  "language_info": {
   "codemirror_mode": {
    "name": "ipython",
    "version": 2
   },
   "file_extension": ".py",
   "mimetype": "text/x-python",
   "name": "python",
   "nbconvert_exporter": "python",
   "pygments_lexer": "ipython2",
   "version": "2.7.6"
  }
 },
 "nbformat": 4,
 "nbformat_minor": 0
}