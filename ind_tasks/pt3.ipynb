{
 "cells": [
  {
   "cell_type": "markdown",
   "metadata": {
    "collapsed": true,
    "pycharm": {
     "name": "#%% md\n"
    }
   },
   "source": [
    "# PRACTICAL TASK 3"
   ]
  },
  {
   "cell_type": "code",
   "execution_count": 1,
   "outputs": [],
   "source": [
    "import pandas as pd\n",
    "import apyori as apriori\n",
    "import numpy as np\n",
    "import collections\n",
    "import itertools\n",
    "from anytree import Node, RenderTree, search, Walker\n",
    "from mlxtend.preprocessing import TransactionEncoder\n",
    "from mlxtend.frequent_patterns import apriori"
   ],
   "metadata": {
    "collapsed": false,
    "pycharm": {
     "name": "#%%\n"
    }
   }
  },
  {
   "cell_type": "markdown",
   "source": [
    "## TASK 1"
   ],
   "metadata": {
    "collapsed": false,
    "pycharm": {
     "name": "#%% md\n"
    }
   }
  },
  {
   "cell_type": "code",
   "execution_count": 2,
   "outputs": [],
   "source": [
    "itemset = [\"ABCD\", \"ACDF\", \"ACDEG\", \"ABDF\", \"BCG\", \"DFG\", \"ABG\", \"CDFG\"]\n",
    "itemset_list = [list(str) for str in itemset]\n",
    "tid = [n for n in range(1, 9)]"
   ],
   "metadata": {
    "collapsed": false,
    "pycharm": {
     "name": "#%%\n"
    }
   }
  },
  {
   "cell_type": "markdown",
   "source": [
    "## APRIORI"
   ],
   "metadata": {
    "collapsed": false,
    "pycharm": {
     "name": "#%% md\n"
    }
   }
  },
  {
   "cell_type": "code",
   "execution_count": 3,
   "outputs": [
    {
     "data": {
      "text/plain": "   tid  A  B  C  D  F  E  G\n0    1  1  1  1  1  0  0  0\n1    2  1  0  1  1  1  0  0\n2    3  1  0  1  1  0  1  1\n3    4  1  1  0  1  1  0  0\n4    5  0  1  1  0  0  0  1",
      "text/html": "<div>\n<style scoped>\n    .dataframe tbody tr th:only-of-type {\n        vertical-align: middle;\n    }\n\n    .dataframe tbody tr th {\n        vertical-align: top;\n    }\n\n    .dataframe thead th {\n        text-align: right;\n    }\n</style>\n<table border=\"1\" class=\"dataframe\">\n  <thead>\n    <tr style=\"text-align: right;\">\n      <th></th>\n      <th>tid</th>\n      <th>A</th>\n      <th>B</th>\n      <th>C</th>\n      <th>D</th>\n      <th>F</th>\n      <th>E</th>\n      <th>G</th>\n    </tr>\n  </thead>\n  <tbody>\n    <tr>\n      <th>0</th>\n      <td>1</td>\n      <td>1</td>\n      <td>1</td>\n      <td>1</td>\n      <td>1</td>\n      <td>0</td>\n      <td>0</td>\n      <td>0</td>\n    </tr>\n    <tr>\n      <th>1</th>\n      <td>2</td>\n      <td>1</td>\n      <td>0</td>\n      <td>1</td>\n      <td>1</td>\n      <td>1</td>\n      <td>0</td>\n      <td>0</td>\n    </tr>\n    <tr>\n      <th>2</th>\n      <td>3</td>\n      <td>1</td>\n      <td>0</td>\n      <td>1</td>\n      <td>1</td>\n      <td>0</td>\n      <td>1</td>\n      <td>1</td>\n    </tr>\n    <tr>\n      <th>3</th>\n      <td>4</td>\n      <td>1</td>\n      <td>1</td>\n      <td>0</td>\n      <td>1</td>\n      <td>1</td>\n      <td>0</td>\n      <td>0</td>\n    </tr>\n    <tr>\n      <th>4</th>\n      <td>5</td>\n      <td>0</td>\n      <td>1</td>\n      <td>1</td>\n      <td>0</td>\n      <td>0</td>\n      <td>0</td>\n      <td>1</td>\n    </tr>\n  </tbody>\n</table>\n</div>"
     },
     "execution_count": 3,
     "metadata": {},
     "output_type": "execute_result"
    }
   ],
   "source": [
    "df = pd.DataFrame(tid, columns=[\"tid\"])\n",
    "\n",
    "unique_items = list(collections.OrderedDict.fromkeys(\"\".join(itemset)).keys())\n",
    "\n",
    "for i in range(len(unique_items)):\n",
    "    df[unique_items[i]] = [1 if unique_items[i] in s else 0 for s in itemset_list]\n",
    "\n",
    "df.head()"
   ],
   "metadata": {
    "collapsed": false,
    "pycharm": {
     "name": "#%%\n"
    }
   }
  },
  {
   "cell_type": "code",
   "execution_count": 4,
   "outputs": [],
   "source": [
    "support = 3/8"
   ],
   "metadata": {
    "collapsed": false,
    "pycharm": {
     "name": "#%%\n"
    }
   }
  },
  {
   "cell_type": "code",
   "execution_count": 5,
   "outputs": [],
   "source": [
    "F = []"
   ],
   "metadata": {
    "collapsed": false,
    "pycharm": {
     "name": "#%%\n"
    }
   }
  },
  {
   "cell_type": "code",
   "execution_count": 6,
   "outputs": [
    {
     "name": "stdout",
     "output_type": "stream",
     "text": [
      "Step 0\n",
      "support of A: \t0.625\n",
      "support of B: \t0.5\n",
      "support of C: \t0.625\n",
      "support of D: \t0.75\n",
      "support of F: \t0.5\n",
      "support of E: \t0.125\n",
      "support of G: \t0.625\n",
      "frequent sets: {'A': 0.625, 'B': 0.5, 'C': 0.625, 'D': 0.75, 'F': 0.5, 'G': 0.625}\n",
      "\n",
      "Step 1\n",
      "amount of possible combinations of 2 elements: \t21\n",
      "amount of combinations after reduction: \t15\n",
      "\n",
      "support of ('A', 'B'): \t0.375\n",
      "support of ('A', 'C'): \t0.375\n",
      "support of ('A', 'D'): \t0.5\n",
      "support of ('A', 'F'): \t0.25\n",
      "support of ('A', 'G'): \t0.25\n",
      "support of ('B', 'C'): \t0.25\n",
      "support of ('B', 'D'): \t0.25\n",
      "support of ('B', 'F'): \t0.125\n",
      "support of ('B', 'G'): \t0.25\n",
      "support of ('C', 'D'): \t0.5\n",
      "support of ('C', 'F'): \t0.25\n",
      "support of ('C', 'G'): \t0.375\n",
      "support of ('D', 'F'): \t0.5\n",
      "support of ('D', 'G'): \t0.375\n",
      "support of ('F', 'G'): \t0.25\n",
      "frequent sets: {('A', 'B'): 0.375, ('A', 'C'): 0.375, ('A', 'D'): 0.5, ('C', 'D'): 0.5, ('C', 'G'): 0.375, ('D', 'F'): 0.5, ('D', 'G'): 0.375}\n",
      "\n",
      "Step 2\n",
      "amount of possible combinations of 3 elements: \t35\n",
      "amount of combinations after reduction: \t2\n",
      "\n",
      "support of ('A', 'C', 'D'): \t0.375\n",
      "support of ('C', 'D', 'G'): \t0.25\n",
      "frequent sets: {('A', 'C', 'D'): 0.375}\n",
      "\n",
      "Step 3\n",
      "amount of possible combinations of 4 elements: \t35\n",
      "amount of combinations after reduction: \t0\n",
      "\n",
      "frequent sets: {}\n",
      "\n"
     ]
    }
   ],
   "source": [
    "# первый этап\n",
    "print(f\"Step 0\")\n",
    "\n",
    "F.append(dict())\n",
    "\n",
    "# подсчет поддержки для всех уникальных элементов\n",
    "for item in unique_items:\n",
    "    local_support = np.sum(df[item]) / df.shape[1]\n",
    "    print(f\"support of {item}: \\t{local_support}\")\n",
    "    if local_support >= support:\n",
    "        F[0][item] = np.sum(df[item]) / df.shape[1]\n",
    "\n",
    "print(f\"frequent sets: {F[0]}\")\n",
    "print()\n",
    "\n",
    "# следующие шаги\n",
    "k = 1\n",
    "\n",
    "while bool(F[k-1]): # пока есть часто встречающиеся наборы\n",
    "    print(f\"Step {k}\")\n",
    "    C = dict()\n",
    "    combinations = list(itertools.combinations(unique_items, k+1)) #получаем все возможные комбинации элементов\n",
    "\n",
    "    print(f\"amount of possible combinations of {k+1} elements: \\t{len(combinations)}\")\n",
    "\n",
    "    # генерация комбинаций с учетом поддержки наборов меньшего размера\n",
    "    for i in reversed(range(len(combinations))):\n",
    "        if k > 1:\n",
    "            local_combinations = list(itertools.combinations(combinations[i], k))\n",
    "        else:\n",
    "            local_combinations = [combinations[i][0], combinations[i][1]]\n",
    "\n",
    "        for j in range(len(local_combinations)):\n",
    "            if not F[k-1].get(local_combinations[j], False):\n",
    "                combinations.pop(i)\n",
    "                break\n",
    "\n",
    "    print(f\"amount of combinations after reduction: \\t{len(combinations)}\")\n",
    "    print()\n",
    "\n",
    "    # для каждой комбинации найдем поддержку\n",
    "    for combination in combinations:\n",
    "        col_mult = df[combination[0]].copy()\n",
    "        for i in range(1, len(combination)):\n",
    "            col_mult *= df[combination[i]]\n",
    "\n",
    "        local_support = np.sum(col_mult) / df.shape[1]\n",
    "\n",
    "        print(f\"support of {combination}: \\t{local_support}\")\n",
    "\n",
    "        # если поддержка больше установленной, то набор проходит на следующий этап\n",
    "        if local_support >= support:\n",
    "            C[combination] = np.sum(col_mult) / df.shape[1]\n",
    "\n",
    "    F.append(C)\n",
    "\n",
    "    print(f\"frequent sets: {F[k]}\")\n",
    "    print()\n",
    "\n",
    "    k = k + 1"
   ],
   "metadata": {
    "collapsed": false,
    "pycharm": {
     "name": "#%%\n"
    }
   }
  },
  {
   "cell_type": "markdown",
   "source": [
    "## FPG"
   ],
   "metadata": {
    "collapsed": false,
    "pycharm": {
     "name": "#%% md\n"
    }
   }
  },
  {
   "cell_type": "code",
   "execution_count": 7,
   "outputs": [
    {
     "data": {
      "text/plain": "   tid          itemset\n0    1     [A, B, C, D]\n1    2     [A, C, D, F]\n2    3  [A, C, D, E, G]\n3    4     [A, B, D, F]\n4    5        [B, C, G]",
      "text/html": "<div>\n<style scoped>\n    .dataframe tbody tr th:only-of-type {\n        vertical-align: middle;\n    }\n\n    .dataframe tbody tr th {\n        vertical-align: top;\n    }\n\n    .dataframe thead th {\n        text-align: right;\n    }\n</style>\n<table border=\"1\" class=\"dataframe\">\n  <thead>\n    <tr style=\"text-align: right;\">\n      <th></th>\n      <th>tid</th>\n      <th>itemset</th>\n    </tr>\n  </thead>\n  <tbody>\n    <tr>\n      <th>0</th>\n      <td>1</td>\n      <td>[A, B, C, D]</td>\n    </tr>\n    <tr>\n      <th>1</th>\n      <td>2</td>\n      <td>[A, C, D, F]</td>\n    </tr>\n    <tr>\n      <th>2</th>\n      <td>3</td>\n      <td>[A, C, D, E, G]</td>\n    </tr>\n    <tr>\n      <th>3</th>\n      <td>4</td>\n      <td>[A, B, D, F]</td>\n    </tr>\n    <tr>\n      <th>4</th>\n      <td>5</td>\n      <td>[B, C, G]</td>\n    </tr>\n  </tbody>\n</table>\n</div>"
     },
     "execution_count": 7,
     "metadata": {},
     "output_type": "execute_result"
    }
   ],
   "source": [
    "df = pd.DataFrame(zip(tid, itemset_list), columns=[\"tid\", \"itemset\"])\n",
    "df.head()"
   ],
   "metadata": {
    "collapsed": false,
    "pycharm": {
     "name": "#%%\n"
    }
   }
  },
  {
   "cell_type": "code",
   "execution_count": 8,
   "outputs": [],
   "source": [
    "support = 2"
   ],
   "metadata": {
    "collapsed": false,
    "pycharm": {
     "name": "#%%\n"
    }
   }
  },
  {
   "cell_type": "code",
   "execution_count": 9,
   "outputs": [],
   "source": [
    "unique_items_count = dict()\n",
    "\n",
    "for u_item in unique_items:\n",
    "    count = 0\n",
    "    for item in itemset:\n",
    "        if u_item in item:\n",
    "            count += 1\n",
    "    unique_items_count[u_item] = count"
   ],
   "metadata": {
    "collapsed": false,
    "pycharm": {
     "name": "#%%\n"
    }
   }
  },
  {
   "cell_type": "code",
   "execution_count": 10,
   "outputs": [
    {
     "name": "stdout",
     "output_type": "stream",
     "text": [
      "delete E: support 1 lower than min support 2\n"
     ]
    },
    {
     "data": {
      "text/plain": "   tid          itemset itemset_ordered\n0    1     [A, B, C, D]    [D, A, C, B]\n1    2     [A, C, D, F]    [D, A, C, F]\n2    3  [A, C, D, E, G]    [D, A, C, G]\n3    4     [A, B, D, F]    [D, A, B, F]\n4    5        [B, C, G]       [C, G, B]\n5    6        [D, F, G]       [D, G, F]\n6    7        [A, B, G]       [A, G, B]\n7    8     [C, D, F, G]    [D, C, G, F]",
      "text/html": "<div>\n<style scoped>\n    .dataframe tbody tr th:only-of-type {\n        vertical-align: middle;\n    }\n\n    .dataframe tbody tr th {\n        vertical-align: top;\n    }\n\n    .dataframe thead th {\n        text-align: right;\n    }\n</style>\n<table border=\"1\" class=\"dataframe\">\n  <thead>\n    <tr style=\"text-align: right;\">\n      <th></th>\n      <th>tid</th>\n      <th>itemset</th>\n      <th>itemset_ordered</th>\n    </tr>\n  </thead>\n  <tbody>\n    <tr>\n      <th>0</th>\n      <td>1</td>\n      <td>[A, B, C, D]</td>\n      <td>[D, A, C, B]</td>\n    </tr>\n    <tr>\n      <th>1</th>\n      <td>2</td>\n      <td>[A, C, D, F]</td>\n      <td>[D, A, C, F]</td>\n    </tr>\n    <tr>\n      <th>2</th>\n      <td>3</td>\n      <td>[A, C, D, E, G]</td>\n      <td>[D, A, C, G]</td>\n    </tr>\n    <tr>\n      <th>3</th>\n      <td>4</td>\n      <td>[A, B, D, F]</td>\n      <td>[D, A, B, F]</td>\n    </tr>\n    <tr>\n      <th>4</th>\n      <td>5</td>\n      <td>[B, C, G]</td>\n      <td>[C, G, B]</td>\n    </tr>\n    <tr>\n      <th>5</th>\n      <td>6</td>\n      <td>[D, F, G]</td>\n      <td>[D, G, F]</td>\n    </tr>\n    <tr>\n      <th>6</th>\n      <td>7</td>\n      <td>[A, B, G]</td>\n      <td>[A, G, B]</td>\n    </tr>\n    <tr>\n      <th>7</th>\n      <td>8</td>\n      <td>[C, D, F, G]</td>\n      <td>[D, C, G, F]</td>\n    </tr>\n  </tbody>\n</table>\n</div>"
     },
     "execution_count": 10,
     "metadata": {},
     "output_type": "execute_result"
    }
   ],
   "source": [
    "df[\"itemset_ordered\"] = [sorted(df[\"itemset\"][i], key=lambda x : unique_items_count[x], reverse=True) for i in range(len(df[\"itemset\"]))]\n",
    "\n",
    "for key in unique_items_count.keys():\n",
    "    if unique_items_count[key] < support:\n",
    "        for i in range(len(df[\"itemset_ordered\"])):\n",
    "            for j in range(len(df[\"itemset_ordered\"][i])):\n",
    "                if df[\"itemset_ordered\"][i][j] == key:\n",
    "                    df[\"itemset_ordered\"][i].pop(j)\n",
    "                    print(f\"delete {key}: support {unique_items_count[key] } lower than min support {support}\")\n",
    "                    break\n",
    "\n",
    "df.head(8)"
   ],
   "metadata": {
    "collapsed": false,
    "pycharm": {
     "name": "#%%\n"
    }
   }
  },
  {
   "cell_type": "code",
   "execution_count": 11,
   "outputs": [
    {
     "name": "stdout",
     "output_type": "stream",
     "text": [
      "transaction 1:\n",
      " root 0\n",
      "└──  D 1\n",
      "    └──  A 1\n",
      "        └──  C 1\n",
      "            └──  B 1\n",
      "\n",
      "transaction 2:\n",
      " root 0\n",
      "└──  D 2\n",
      "    └──  A 2\n",
      "        └──  C 2\n",
      "            ├──  B 1\n",
      "            └──  F 1\n",
      "\n",
      "transaction 3:\n",
      " root 0\n",
      "└──  D 3\n",
      "    └──  A 3\n",
      "        └──  C 3\n",
      "            ├──  B 1\n",
      "            ├──  F 1\n",
      "            └──  G 1\n",
      "\n",
      "transaction 4:\n",
      " root 0\n",
      "└──  D 4\n",
      "    └──  A 4\n",
      "        ├──  C 3\n",
      "        │   ├──  B 1\n",
      "        │   ├──  F 1\n",
      "        │   └──  G 1\n",
      "        └──  B 1\n",
      "            └──  F 1\n",
      "\n",
      "transaction 5:\n",
      " root 0\n",
      "├──  D 4\n",
      "│   └──  A 4\n",
      "│       ├──  C 3\n",
      "│       │   ├──  B 1\n",
      "│       │   ├──  F 1\n",
      "│       │   └──  G 1\n",
      "│       └──  B 1\n",
      "│           └──  F 1\n",
      "└──  C 1\n",
      "    └──  G 1\n",
      "        └──  B 1\n",
      "\n",
      "transaction 6:\n",
      " root 0\n",
      "├──  D 5\n",
      "│   ├──  A 4\n",
      "│   │   ├──  C 3\n",
      "│   │   │   ├──  B 1\n",
      "│   │   │   ├──  F 1\n",
      "│   │   │   └──  G 1\n",
      "│   │   └──  B 1\n",
      "│   │       └──  F 1\n",
      "│   └──  G 1\n",
      "│       └──  F 1\n",
      "└──  C 1\n",
      "    └──  G 1\n",
      "        └──  B 1\n",
      "\n",
      "transaction 7:\n",
      " root 0\n",
      "├──  D 5\n",
      "│   ├──  A 4\n",
      "│   │   ├──  C 3\n",
      "│   │   │   ├──  B 1\n",
      "│   │   │   ├──  F 1\n",
      "│   │   │   └──  G 1\n",
      "│   │   └──  B 1\n",
      "│   │       └──  F 1\n",
      "│   └──  G 1\n",
      "│       └──  F 1\n",
      "├──  C 1\n",
      "│   └──  G 1\n",
      "│       └──  B 1\n",
      "└──  A 1\n",
      "    └──  G 1\n",
      "        └──  B 1\n",
      "\n",
      "transaction 8:\n",
      " root 0\n",
      "├──  D 6\n",
      "│   ├──  A 4\n",
      "│   │   ├──  C 3\n",
      "│   │   │   ├──  B 1\n",
      "│   │   │   ├──  F 1\n",
      "│   │   │   └──  G 1\n",
      "│   │   └──  B 1\n",
      "│   │       └──  F 1\n",
      "│   ├──  G 1\n",
      "│   │   └──  F 1\n",
      "│   └──  C 1\n",
      "│       └──  G 1\n",
      "│           └──  F 1\n",
      "├──  C 1\n",
      "│   └──  G 1\n",
      "│       └──  B 1\n",
      "└──  A 1\n",
      "    └──  G 1\n",
      "        └──  B 1\n",
      "\n"
     ]
    }
   ],
   "source": [
    "root = Node(\"root\", ind=0)\n",
    "\n",
    "for i in range(len(df[\"itemset_ordered\"])):\n",
    "    print(f\"transaction {i+1}:\")\n",
    "\n",
    "    prev = root\n",
    "    for j in range(len(df[\"itemset_ordered\"][i])):\n",
    "        cur = None\n",
    "        for child in prev.children:\n",
    "            if df[\"itemset_ordered\"][i][j] == child.name:\n",
    "                cur = child\n",
    "\n",
    "        if cur:\n",
    "            cur.ind += 1\n",
    "        else:\n",
    "            cur = Node(df[\"itemset_ordered\"][i][j], ind = 1, parent=prev)\n",
    "\n",
    "        prev = cur\n",
    "\n",
    "    for pre, fill, node in RenderTree(root):\n",
    "        print(f\"{pre} {node.name} {node.ind}\")\n",
    "\n",
    "    print()"
   ],
   "metadata": {
    "collapsed": false,
    "pycharm": {
     "name": "#%%\n"
    }
   }
  },
  {
   "cell_type": "code",
   "execution_count": 12,
   "outputs": [
    {
     "name": "stdout",
     "output_type": "stream",
     "text": [
      "for A:\n",
      " root 0\n",
      "└──  D 6\n",
      "for B:\n",
      " root 0\n",
      "├──  D 6\n",
      "│   └──  A 4\n",
      "│       └──  C 3\n",
      "├──  C 1\n",
      "│   └──  G 1\n",
      "└──  A 1\n",
      "    └──  G 1\n",
      "for C:\n",
      " root 0\n",
      "└──  D 6\n",
      "    └──  A 4\n",
      "for D:\n",
      "for F:\n",
      " root 0\n",
      "└──  D 6\n",
      "    ├──  A 4\n",
      "    │   ├──  C 3\n",
      "    │   └──  B 1\n",
      "    ├──  G 1\n",
      "    └──  C 1\n",
      "        └──  G 1\n",
      "for G:\n",
      " root 0\n",
      "├──  D 6\n",
      "│   ├──  A 4\n",
      "│   │   └──  C 3\n",
      "│   └──  C 1\n",
      "├──  C 1\n",
      "└──  A 1\n"
     ]
    }
   ],
   "source": [
    "popular_sets = dict()\n",
    "\n",
    "w = Walker()\n",
    "\n",
    "for u_item in unique_items:\n",
    "    nodes = search.findall_by_attr(root, u_item)\n",
    "\n",
    "    if nodes == ():\n",
    "        continue\n",
    "\n",
    "    print(f\"for {u_item}:\")\n",
    "\n",
    "    paths = []\n",
    "\n",
    "    for node in nodes:\n",
    "        p = w.walk(root, node)\n",
    "        p = tuple(x for x in p[2] if x.name != node.name)\n",
    "\n",
    "        if p == ():\n",
    "            continue\n",
    "\n",
    "        paths.append(p)\n",
    "\n",
    "    if paths == []:\n",
    "        continue\n",
    "\n",
    "    local_root = Node(\"root\", ind=0)\n",
    "\n",
    "    for path in paths:\n",
    "        prev = local_root\n",
    "        for el in path:\n",
    "            cur = None\n",
    "            for child in prev.children:\n",
    "                if el.name == child.name:\n",
    "                    cur = child\n",
    "\n",
    "            if not cur:\n",
    "                cur = Node(el.name, ind = el.ind, parent=prev)\n",
    "\n",
    "            prev = cur\n",
    "\n",
    "    for pre, fill, node in RenderTree(local_root):\n",
    "        print(f\"{pre} {node.name} {node.ind}\")\n",
    "\n",
    "    items_path_count = dict()\n",
    "\n",
    "    for _u_item in unique_items:\n",
    "        nodes = search.findall_by_attr(local_root, _u_item)\n",
    "\n",
    "        sum = 0\n",
    "        for node in nodes:\n",
    "            sum += node.ind\n",
    "        if sum > 0:\n",
    "            items_path_count[_u_item] = sum\n",
    "\n",
    "    for key in list(items_path_count.keys()):\n",
    "        if items_path_count[key] < support:\n",
    "            items_path_count.pop(key)\n",
    "\n",
    "    if items_path_count == {}:\n",
    "        continue\n",
    "\n",
    "    for i in range(1, len(items_path_count) + 1):\n",
    "        combs = list(itertools.combinations(items_path_count.keys(), i))\n",
    "\n",
    "        for comb in combs:\n",
    "            min_in_comb = min([items_path_count[x] for x in comb])\n",
    "            result_set = [x for x in comb]\n",
    "            result_set.append(u_item)\n",
    "            popular_sets[tuple(result_set)] = min_in_comb"
   ],
   "metadata": {
    "collapsed": false,
    "pycharm": {
     "name": "#%%\n"
    }
   }
  },
  {
   "cell_type": "code",
   "execution_count": 13,
   "outputs": [
    {
     "name": "stdout",
     "output_type": "stream",
     "text": [
      "rule: ('D', 'A') supp: 0.75\n",
      "rule: ('A', 'B') supp: 0.625\n",
      "rule: ('C', 'B') supp: 0.5\n",
      "rule: ('D', 'B') supp: 0.75\n",
      "rule: ('G', 'B') supp: 0.25\n",
      "rule: ('A', 'C', 'B') supp: 0.5\n",
      "rule: ('A', 'D', 'B') supp: 0.625\n",
      "rule: ('A', 'G', 'B') supp: 0.25\n",
      "rule: ('C', 'D', 'B') supp: 0.5\n",
      "rule: ('C', 'G', 'B') supp: 0.25\n",
      "rule: ('D', 'G', 'B') supp: 0.25\n",
      "rule: ('A', 'C', 'D', 'B') supp: 0.5\n",
      "rule: ('A', 'C', 'G', 'B') supp: 0.25\n",
      "rule: ('A', 'D', 'G', 'B') supp: 0.25\n",
      "rule: ('C', 'D', 'G', 'B') supp: 0.25\n",
      "rule: ('A', 'C', 'D', 'G', 'B') supp: 0.25\n",
      "rule: ('A', 'C') supp: 0.5\n",
      "rule: ('D', 'C') supp: 0.75\n",
      "rule: ('A', 'D', 'C') supp: 0.5\n",
      "rule: ('A', 'F') supp: 0.5\n",
      "rule: ('C', 'F') supp: 0.5\n",
      "rule: ('D', 'F') supp: 0.75\n",
      "rule: ('G', 'F') supp: 0.25\n",
      "rule: ('A', 'C', 'F') supp: 0.5\n",
      "rule: ('A', 'D', 'F') supp: 0.5\n",
      "rule: ('A', 'G', 'F') supp: 0.25\n",
      "rule: ('C', 'D', 'F') supp: 0.5\n",
      "rule: ('C', 'G', 'F') supp: 0.25\n",
      "rule: ('D', 'G', 'F') supp: 0.25\n",
      "rule: ('A', 'C', 'D', 'F') supp: 0.5\n",
      "rule: ('A', 'C', 'G', 'F') supp: 0.25\n",
      "rule: ('A', 'D', 'G', 'F') supp: 0.25\n",
      "rule: ('C', 'D', 'G', 'F') supp: 0.25\n",
      "rule: ('A', 'C', 'D', 'G', 'F') supp: 0.25\n",
      "rule: ('A', 'G') supp: 0.625\n",
      "rule: ('C', 'G') supp: 0.625\n",
      "rule: ('D', 'G') supp: 0.75\n",
      "rule: ('A', 'C', 'G') supp: 0.625\n",
      "rule: ('A', 'D', 'G') supp: 0.625\n",
      "rule: ('C', 'D', 'G') supp: 0.625\n",
      "rule: ('A', 'C', 'D', 'G') supp: 0.625\n"
     ]
    }
   ],
   "source": [
    "for key in popular_sets.keys():\n",
    "    print(f\"rule: {key} supp: {popular_sets[key] / 8}\")\n"
   ],
   "metadata": {
    "collapsed": false,
    "pycharm": {
     "name": "#%%\n"
    }
   }
  },
  {
   "cell_type": "markdown",
   "source": [
    "## TASK 2"
   ],
   "metadata": {
    "collapsed": false,
    "pycharm": {
     "name": "#%% md\n"
    }
   }
  },
  {
   "cell_type": "markdown",
   "source": [
    "Каков размер области поиска наборов элементов, если ограничиваться только наборами, состоящими из простых элементов?"
   ],
   "metadata": {
    "collapsed": false,
    "pycharm": {
     "name": "#%% md\n"
    }
   }
  },
  {
   "cell_type": "code",
   "execution_count": 14,
   "outputs": [
    {
     "name": "stdout",
     "output_type": "stream",
     "text": [
      "2047\n"
     ]
    }
   ],
   "source": [
    "simple_items_n = 11\n",
    "\n",
    "size = (2 ** simple_items_n) - 1\n",
    "print(size)"
   ],
   "metadata": {
    "collapsed": false,
    "pycharm": {
     "name": "#%%\n"
    }
   }
  },
  {
   "cell_type": "markdown",
   "source": [
    "Предположив, что минимальный уровень поддержки = 7/8. Найдите все часто встречающиеся наборы элементов, состоящие только из элементов высокого уровня в таксономии. Имейте в виду, что если в транзакции появляется простой элемент, предполагается, что все его предки высокого уровня также присутствуют в транзакции."
   ],
   "metadata": {
    "collapsed": false,
    "pycharm": {
     "name": "#%% md\n"
    }
   }
  },
  {
   "cell_type": "code",
   "execution_count": 15,
   "outputs": [
    {
     "name": "stdout",
     "output_type": "stream",
     "text": [
      "   support  itemsets\n",
      "0      1.0      (14)\n",
      "1      1.0      (15)\n",
      "2      1.0  (15, 14)\n"
     ]
    }
   ],
   "source": [
    "itemsets = pd.Series([\"2 3 6 7\",\n",
    "                     \"1 3 4 8 11\",\n",
    "                     \"3 9 11\",\n",
    "                     \"1 5 6 7\",\n",
    "                     \"1 3 8 10 11\",\n",
    "                     \"3 5 7 9 11\",\n",
    "                     \"4 6 8 10 11\",\n",
    "                     \"1 3 5 8 11\"])\n",
    "\n",
    "for i in itemsets.keys():\n",
    "    itemsets[i] = itemsets[i].split()\n",
    "\n",
    "    for j in range(len(itemsets[i])):\n",
    "        if 2 <= int(itemsets[i][j]) <= 5:\n",
    "            itemsets[i][j] = \"14\"\n",
    "\n",
    "        if 7 <= int(itemsets[i][j]) <= 11:\n",
    "            itemsets[i][j] = \"15\"\n",
    "\n",
    "enc = TransactionEncoder()\n",
    "\n",
    "itemsets = enc.fit_transform(itemsets)\n",
    "\n",
    "df = pd.DataFrame(itemsets, columns=enc.columns_)\n",
    "\n",
    "frequent_itemset = apriori(df, min_support=7/8, use_colnames=True)\n",
    "\n",
    "print(frequent_itemset)"
   ],
   "metadata": {
    "collapsed": false,
    "pycharm": {
     "name": "#%%\n"
    }
   }
  }
 ],
 "metadata": {
  "kernelspec": {
   "name": "pycharm-ea969764",
   "language": "python",
   "display_name": "PyCharm (ml_course)"
  },
  "language_info": {
   "codemirror_mode": {
    "name": "ipython",
    "version": 2
   },
   "file_extension": ".py",
   "mimetype": "text/x-python",
   "name": "python",
   "nbconvert_exporter": "python",
   "pygments_lexer": "ipython2",
   "version": "2.7.6"
  }
 },
 "nbformat": 4,
 "nbformat_minor": 0
}