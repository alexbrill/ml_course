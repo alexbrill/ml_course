{
 "cells": [
  {
   "cell_type": "markdown",
   "metadata": {
    "collapsed": true,
    "pycharm": {
     "name": "#%% md\n"
    }
   },
   "source": [
    "# INDIVIDUAL TASK #2"
   ]
  },
  {
   "cell_type": "code",
   "execution_count": 1458,
   "outputs": [],
   "source": [
    "import numpy as np\n",
    "from scipy import stats\n",
    "from scipy.spatial.distance import pdist, squareform\n",
    "from sklearn.decomposition import PCA, KernelPCA\n",
    "import matplotlib.pyplot as plt"
   ],
   "metadata": {
    "collapsed": false,
    "pycharm": {
     "name": "#%%\n"
    }
   }
  },
  {
   "cell_type": "markdown",
   "source": [
    "## PART 1"
   ],
   "metadata": {
    "collapsed": false,
    "pycharm": {
     "name": "#%% md\n"
    }
   }
  },
  {
   "cell_type": "code",
   "source": [
    "X = np.array([[4, 2.9], [2.5, 1], [3.5, 4], [2, 2.1]])\n",
    "print(X)"
   ],
   "metadata": {
    "collapsed": false,
    "pycharm": {
     "name": "#%%\n"
    }
   },
   "execution_count": 1459,
   "outputs": [
    {
     "name": "stdout",
     "output_type": "stream",
     "text": [
      "[[4.  2.9]\n",
      " [2.5 1. ]\n",
      " [3.5 4. ]\n",
      " [2.  2.1]]\n"
     ]
    }
   ]
  },
  {
   "cell_type": "code",
   "execution_count": 1460,
   "outputs": [
    {
     "name": "stdout",
     "output_type": "stream",
     "text": [
      "[[ 0.    5.86  1.46  4.64]\n",
      " [ 5.86  0.   10.    1.46]\n",
      " [ 1.46 10.    0.    5.86]\n",
      " [ 4.64  1.46  5.86  0.  ]]\n"
     ]
    }
   ],
   "source": [
    "# Рассчитайте ядерную матрицу\n",
    "K = squareform(pdist(X, 'sqeuclidean'))\n",
    "print(K)"
   ],
   "metadata": {
    "collapsed": false,
    "pycharm": {
     "name": "#%%\n"
    }
   }
  },
  {
   "cell_type": "markdown",
   "source": [
    "## PART 2"
   ],
   "metadata": {
    "collapsed": false,
    "pycharm": {
     "name": "#%% md\n"
    }
   }
  },
  {
   "cell_type": "code",
   "execution_count": 1461,
   "outputs": [
    {
     "name": "stdout",
     "output_type": "stream",
     "text": [
      "[[  8 -20]\n",
      " [  0  -1]\n",
      " [ 10 -19]\n",
      " [ 10 -20]\n",
      " [  2   0]]\n"
     ]
    }
   ],
   "source": [
    "D = np.array([[8, -20],\n",
    "              [0, -1],\n",
    "              [10, -19],\n",
    "              [10, -20],\n",
    "              [2, 0]])\n",
    "print(D)"
   ],
   "metadata": {
    "collapsed": false,
    "pycharm": {
     "name": "#%%\n"
    }
   }
  },
  {
   "cell_type": "code",
   "execution_count": 1462,
   "outputs": [
    {
     "name": "stdout",
     "output_type": "stream",
     "text": [
      "[  6. -12.]\n"
     ]
    }
   ],
   "source": [
    "# Рассчитайте среднее\n",
    "print(np.mean(D, axis=0))"
   ],
   "metadata": {
    "collapsed": false,
    "pycharm": {
     "name": "#%%\n"
    }
   }
  },
  {
   "cell_type": "code",
   "execution_count": 1463,
   "outputs": [
    {
     "name": "stdout",
     "output_type": "stream",
     "text": [
      "[[ 22.  -47.5]\n",
      " [-47.5 110.5]]\n"
     ]
    }
   ],
   "source": [
    "# и ковариационную матрицу для матрицы D\n",
    "print(np.cov(D.T))"
   ],
   "metadata": {
    "collapsed": false,
    "pycharm": {
     "name": "#%%\n"
    }
   }
  },
  {
   "cell_type": "code",
   "execution_count": 1464,
   "outputs": [
    {
     "data": {
      "text/plain": "array([  1.33226359, 131.16773641])"
     },
     "execution_count": 1464,
     "metadata": {},
     "output_type": "execute_result"
    }
   ],
   "source": [
    "# Рассчитайте собственные числа для матрицы\n",
    "w, v = np.linalg.eigh(np.cov(D.T))\n",
    "w"
   ],
   "metadata": {
    "collapsed": false,
    "pycharm": {
     "name": "#%%\n"
    }
   }
  },
  {
   "cell_type": "code",
   "execution_count": 1465,
   "outputs": [
    {
     "data": {
      "text/plain": "5"
     },
     "execution_count": 1465,
     "metadata": {},
     "output_type": "execute_result"
    }
   ],
   "source": [
    "# Какой “внутренний” размер данного набора данных?\n",
    "D.shape[0]"
   ],
   "metadata": {
    "collapsed": false,
    "pycharm": {
     "name": "#%%\n"
    }
   }
  },
  {
   "cell_type": "code",
   "execution_count": 1466,
   "outputs": [
    {
     "name": "stdout",
     "output_type": "stream",
     "text": [
      "[-8.13363886 12.4804344  -8.01463621 -8.93159638 12.59943705]\n"
     ]
    }
   ],
   "source": [
    "# Рассчитай первый главный компонент\n",
    "pca_data = PCA(n_components=1).fit_transform(D)\n",
    "print(pca_data[:, 0])"
   ],
   "metadata": {
    "collapsed": false,
    "pycharm": {
     "name": "#%%\n"
    }
   }
  },
  {
   "cell_type": "code",
   "execution_count": 1467,
   "outputs": [
    {
     "data": {
      "text/plain": "<matplotlib.contour.QuadContourSet at 0x7f6d9d34e280>"
     },
     "execution_count": 1467,
     "metadata": {},
     "output_type": "execute_result"
    },
    {
     "data": {
      "text/plain": "<Figure size 432x288 with 1 Axes>",
      "image/png": "[encoded data removed]"
     },
     "metadata": {
      "needs_background": "light"
     },
     "output_type": "display_data"
    }
   ],
   "source": [
    "#Если 𝛍 и  𝚺 сверху характеризуют нормальное распределение,\n",
    "# из которого были сгенерированы точки, нарисуйте ориентацию /\n",
    "# протяженность 2-мерной функции нормальной плотности.\n",
    "rw = stats.multivariate_normal(mean=np.mean(D, axis=0), cov=np.cov(D.T), allow_singular=True)\n",
    "x, y = np.mgrid[-5:17:1, -35:15:1]\n",
    "pos = np.dstack([x, y])\n",
    "\n",
    "plt.contourf(x, y, rw.pdf(pos))"
   ],
   "metadata": {
    "collapsed": false,
    "pycharm": {
     "name": "#%%\n"
    }
   }
  },
  {
   "cell_type": "markdown",
   "source": [
    "## PART 3"
   ],
   "metadata": {
    "collapsed": false,
    "pycharm": {
     "name": "#%% md\n"
    }
   }
  },
  {
   "cell_type": "code",
   "execution_count": 1468,
   "outputs": [
    {
     "data": {
      "text/plain": "array([24196695.01682318, 24196695.01682317])"
     },
     "execution_count": 1468,
     "metadata": {},
     "output_type": "execute_result"
    }
   ],
   "source": [
    "# Для данных и ядра из первого задания найдите первую\n",
    "# главную компоненту при нелинейном преобразовании для заданного ядра\n",
    "kcpa_data = KernelPCA(n_components=1, kernel='precomputed').fit(K).transform(X.T)\n",
    "kcpa_data[:, 0]"
   ],
   "metadata": {
    "collapsed": false,
    "pycharm": {
     "name": "#%%\n"
    }
   }
  }
 ],
 "metadata": {
  "kernelspec": {
   "name": "pycharm-ea969764",
   "language": "python",
   "display_name": "PyCharm (ml_course)"
  },
  "language_info": {
   "codemirror_mode": {
    "name": "ipython",
    "version": 2
   },
   "file_extension": ".py",
   "mimetype": "text/x-python",
   "name": "python",
   "nbconvert_exporter": "python",
   "pygments_lexer": "ipython2",
   "version": "2.7.6"
  }
 },
 "nbformat": 4,
 "nbformat_minor": 0
}