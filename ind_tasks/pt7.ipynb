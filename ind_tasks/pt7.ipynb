{
 "cells": [
  {
   "cell_type": "code",
   "execution_count": 80,
   "metadata": {
    "collapsed": true
   },
   "outputs": [],
   "source": [
    "import pandas as pd\n",
    "import numpy as np\n",
    "from sklearn.naive_bayes import GaussianNB\n",
    "import scipy.stats as stats"
   ]
  },
  {
   "cell_type": "markdown",
   "source": [
    "# 1 part"
   ],
   "metadata": {
    "collapsed": false,
    "pycharm": {
     "name": "#%% md\n",
     "is_executing": true
    }
   }
  },
  {
   "cell_type": "code",
   "execution_count": 81,
   "outputs": [
    {
     "data": {
      "text/plain": "  a1 a2  a3 Class\n0  T  T   5     Y\n1  T  T   7     Y\n2  T  F   8     N\n3  F  F   3     Y\n4  F  T   7     N\n5  F  T   4     N\n6  F  F   5     N\n7  T  F   6     Y\n8  F  T   1     N",
      "text/html": "<div>\n<style scoped>\n    .dataframe tbody tr th:only-of-type {\n        vertical-align: middle;\n    }\n\n    .dataframe tbody tr th {\n        vertical-align: top;\n    }\n\n    .dataframe thead th {\n        text-align: right;\n    }\n</style>\n<table border=\"1\" class=\"dataframe\">\n  <thead>\n    <tr style=\"text-align: right;\">\n      <th></th>\n      <th>a1</th>\n      <th>a2</th>\n      <th>a3</th>\n      <th>Class</th>\n    </tr>\n  </thead>\n  <tbody>\n    <tr>\n      <th>0</th>\n      <td>T</td>\n      <td>T</td>\n      <td>5</td>\n      <td>Y</td>\n    </tr>\n    <tr>\n      <th>1</th>\n      <td>T</td>\n      <td>T</td>\n      <td>7</td>\n      <td>Y</td>\n    </tr>\n    <tr>\n      <th>2</th>\n      <td>T</td>\n      <td>F</td>\n      <td>8</td>\n      <td>N</td>\n    </tr>\n    <tr>\n      <th>3</th>\n      <td>F</td>\n      <td>F</td>\n      <td>3</td>\n      <td>Y</td>\n    </tr>\n    <tr>\n      <th>4</th>\n      <td>F</td>\n      <td>T</td>\n      <td>7</td>\n      <td>N</td>\n    </tr>\n    <tr>\n      <th>5</th>\n      <td>F</td>\n      <td>T</td>\n      <td>4</td>\n      <td>N</td>\n    </tr>\n    <tr>\n      <th>6</th>\n      <td>F</td>\n      <td>F</td>\n      <td>5</td>\n      <td>N</td>\n    </tr>\n    <tr>\n      <th>7</th>\n      <td>T</td>\n      <td>F</td>\n      <td>6</td>\n      <td>Y</td>\n    </tr>\n    <tr>\n      <th>8</th>\n      <td>F</td>\n      <td>T</td>\n      <td>1</td>\n      <td>N</td>\n    </tr>\n  </tbody>\n</table>\n</div>"
     },
     "execution_count": 81,
     "metadata": {},
     "output_type": "execute_result"
    }
   ],
   "source": [
    "a1 = pd.Series(['T', 'T', 'T', 'F', 'F', 'F', 'F', 'T', 'F'])\n",
    "a2 = pd.Series(['T', 'T', 'F', 'F', 'T', 'T', 'F', 'F', 'T'])\n",
    "a3 = pd.Series([5, 7, 8, 3, 7, 4, 5, 6, 1])\n",
    "Class = pd.Series(['Y', 'Y', 'N', 'Y', 'N', 'N', 'N', 'Y', 'N'])\n",
    "\n",
    "data = pd.DataFrame({'a1':a1, 'a2':a2, 'a3':a3, 'Class':Class})\n",
    "data"
   ],
   "metadata": {
    "collapsed": false,
    "pycharm": {
     "name": "#%%\n"
    }
   }
  },
  {
   "cell_type": "code",
   "execution_count": 82,
   "outputs": [
    {
     "data": {
      "text/plain": "      a1     a2  a3  Class\n0   True   True   5   True\n1   True   True   7   True\n2   True  False   8  False\n3  False  False   3   True\n4  False   True   7  False\n5  False   True   4  False\n6  False  False   5  False\n7   True  False   6   True\n8  False   True   1  False",
      "text/html": "<div>\n<style scoped>\n    .dataframe tbody tr th:only-of-type {\n        vertical-align: middle;\n    }\n\n    .dataframe tbody tr th {\n        vertical-align: top;\n    }\n\n    .dataframe thead th {\n        text-align: right;\n    }\n</style>\n<table border=\"1\" class=\"dataframe\">\n  <thead>\n    <tr style=\"text-align: right;\">\n      <th></th>\n      <th>a1</th>\n      <th>a2</th>\n      <th>a3</th>\n      <th>Class</th>\n    </tr>\n  </thead>\n  <tbody>\n    <tr>\n      <th>0</th>\n      <td>True</td>\n      <td>True</td>\n      <td>5</td>\n      <td>True</td>\n    </tr>\n    <tr>\n      <th>1</th>\n      <td>True</td>\n      <td>True</td>\n      <td>7</td>\n      <td>True</td>\n    </tr>\n    <tr>\n      <th>2</th>\n      <td>True</td>\n      <td>False</td>\n      <td>8</td>\n      <td>False</td>\n    </tr>\n    <tr>\n      <th>3</th>\n      <td>False</td>\n      <td>False</td>\n      <td>3</td>\n      <td>True</td>\n    </tr>\n    <tr>\n      <th>4</th>\n      <td>False</td>\n      <td>True</td>\n      <td>7</td>\n      <td>False</td>\n    </tr>\n    <tr>\n      <th>5</th>\n      <td>False</td>\n      <td>True</td>\n      <td>4</td>\n      <td>False</td>\n    </tr>\n    <tr>\n      <th>6</th>\n      <td>False</td>\n      <td>False</td>\n      <td>5</td>\n      <td>False</td>\n    </tr>\n    <tr>\n      <th>7</th>\n      <td>True</td>\n      <td>False</td>\n      <td>6</td>\n      <td>True</td>\n    </tr>\n    <tr>\n      <th>8</th>\n      <td>False</td>\n      <td>True</td>\n      <td>1</td>\n      <td>False</td>\n    </tr>\n  </tbody>\n</table>\n</div>"
     },
     "execution_count": 82,
     "metadata": {},
     "output_type": "execute_result"
    }
   ],
   "source": [
    "data['Class'] = data['Class'].map(lambda x : True if x == 'Y' else False)\n",
    "\n",
    "for col in ['a1', 'a2']:\n",
    "    data[col] = data[col].map(lambda x : True if x == 'T' else False)\n",
    "data"
   ],
   "metadata": {
    "collapsed": false,
    "pycharm": {
     "name": "#%%\n"
    }
   }
  },
  {
   "cell_type": "code",
   "execution_count": 83,
   "outputs": [
    {
     "data": {
      "text/plain": "     a1     a2  a3\n0  True  False   1",
      "text/html": "<div>\n<style scoped>\n    .dataframe tbody tr th:only-of-type {\n        vertical-align: middle;\n    }\n\n    .dataframe tbody tr th {\n        vertical-align: top;\n    }\n\n    .dataframe thead th {\n        text-align: right;\n    }\n</style>\n<table border=\"1\" class=\"dataframe\">\n  <thead>\n    <tr style=\"text-align: right;\">\n      <th></th>\n      <th>a1</th>\n      <th>a2</th>\n      <th>a3</th>\n    </tr>\n  </thead>\n  <tbody>\n    <tr>\n      <th>0</th>\n      <td>True</td>\n      <td>False</td>\n      <td>1</td>\n    </tr>\n  </tbody>\n</table>\n</div>"
     },
     "execution_count": 83,
     "metadata": {},
     "output_type": "execute_result"
    }
   ],
   "source": [
    "to_predict = pd.DataFrame({'a1':[True], 'a2':[False], 'a3':[1]})\n",
    "to_predict"
   ],
   "metadata": {
    "collapsed": false,
    "pycharm": {
     "name": "#%%\n"
    }
   }
  },
  {
   "cell_type": "code",
   "execution_count": 143,
   "outputs": [
    {
     "data": {
      "text/plain": "array([False])"
     },
     "execution_count": 143,
     "metadata": {},
     "output_type": "execute_result"
    }
   ],
   "source": [
    "clf = GaussianNB()\n",
    "clf.fit(data.drop('Class', axis=True), data['Class'])\n",
    "\n",
    "clf.predict(to_predict)"
   ],
   "metadata": {
    "collapsed": false,
    "pycharm": {
     "name": "#%%\n"
    }
   }
  },
  {
   "cell_type": "code",
   "execution_count": 86,
   "outputs": [
    {
     "name": "stdout",
     "output_type": "stream",
     "text": [
      "9 4 5\n"
     ]
    }
   ],
   "source": [
    "n = data.shape[0]\n",
    "n1 = np.count_nonzero(data['Class'])\n",
    "n2 = n - n1\n",
    "\n",
    "print(n, n1, n2)"
   ],
   "metadata": {
    "collapsed": false,
    "pycharm": {
     "name": "#%%\n"
    }
   }
  },
  {
   "cell_type": "code",
   "execution_count": 87,
   "outputs": [
    {
     "name": "stdout",
     "output_type": "stream",
     "text": [
      "0.4444444444444444 0.5555555555555556\n"
     ]
    }
   ],
   "source": [
    "p1 = n1 / n\n",
    "p2 = n2 / n\n",
    "\n",
    "print(p1, p2)"
   ],
   "metadata": {
    "collapsed": false,
    "pycharm": {
     "name": "#%%\n"
    }
   }
  },
  {
   "cell_type": "code",
   "execution_count": 88,
   "outputs": [
    {
     "name": "stdout",
     "output_type": "stream",
     "text": [
      "a1    0.75\n",
      "a2    0.50\n",
      "a3    5.25\n",
      "dtype: float64\n",
      "a1    0.2\n",
      "a2    0.6\n",
      "a3    5.0\n",
      "dtype: float64\n"
     ]
    }
   ],
   "source": [
    "m1 = np.mean(data[data['Class']==True].drop('Class', axis=True), axis=0)\n",
    "m2 = np.mean(data[data['Class']==False].drop('Class', axis=True), axis=0)\n",
    "\n",
    "print(m1)\n",
    "print(m2)"
   ],
   "metadata": {
    "collapsed": false,
    "pycharm": {
     "name": "#%%\n"
    }
   }
  },
  {
   "cell_type": "code",
   "execution_count": 89,
   "outputs": [
    {
     "name": "stdout",
     "output_type": "stream",
     "text": [
      "          a1        a2        a3\n",
      "a1  0.250000  0.166667  0.750000\n",
      "a2  0.166667  0.333333  0.500000\n",
      "a3  0.750000  0.500000  2.916667\n",
      "      a1    a2    a3\n",
      "a1  0.20 -0.15  0.75\n",
      "a2 -0.15  0.30 -0.75\n",
      "a3  0.75 -0.75  7.50\n"
     ]
    }
   ],
   "source": [
    "data['a1']\n",
    "\n",
    "cov1 = data[data['Class']==True].drop('Class', axis=True).cov()\n",
    "cov2 = data[data['Class']==False].drop('Class', axis=True).cov()\n",
    "\n",
    "print(cov1)\n",
    "print(cov2)"
   ],
   "metadata": {
    "collapsed": false,
    "pycharm": {
     "name": "#%%\n"
    }
   }
  },
  {
   "cell_type": "code",
   "execution_count": 144,
   "outputs": [
    {
     "name": "stdout",
     "output_type": "stream",
     "text": [
      "7.70564951693262e-10\n",
      "0.00013481709238125737\n"
     ]
    }
   ],
   "source": [
    "print(stats.multivariate_normal.pdf(to_predict, m1, cov1))\n",
    "print(stats.multivariate_normal.pdf(to_predict, m2, cov2))"
   ],
   "metadata": {
    "collapsed": false,
    "pycharm": {
     "name": "#%%\n"
    }
   }
  },
  {
   "cell_type": "code",
   "execution_count": 142,
   "outputs": [],
   "source": [],
   "metadata": {
    "collapsed": false,
    "pycharm": {
     "name": "#%%\n"
    }
   }
  }
 ],
 "metadata": {
  "kernelspec": {
   "name": "pycharm-ea969764",
   "language": "python",
   "display_name": "PyCharm (ml_course)"
  },
  "language_info": {
   "codemirror_mode": {
    "name": "ipython",
    "version": 2
   },
   "file_extension": ".py",
   "mimetype": "text/x-python",
   "name": "python",
   "nbconvert_exporter": "python",
   "pygments_lexer": "ipython2",
   "version": "2.7.6"
  }
 },
 "nbformat": 4,
 "nbformat_minor": 0
}